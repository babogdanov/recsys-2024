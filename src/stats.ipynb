{
 "cells": [
  {
   "cell_type": "markdown",
   "metadata": {
    "collapsed": true,
    "pycharm": {
     "name": "#%% md\n"
    }
   },
   "source": [
    "### new idea\n"
   ]
  },
  {
   "cell_type": "code",
   "execution_count": 1,
   "outputs": [],
   "source": [
    "import numpy as np\n",
    "import pandas as pd\n"
   ],
   "metadata": {
    "collapsed": false,
    "pycharm": {
     "name": "#%%\n"
    }
   }
  },
  {
   "cell_type": "code",
   "execution_count": 2,
   "outputs": [
    {
     "data": {
      "text/plain": "        impression_id  article_id     impression_time  read_time  \\\n0              149474         NaN 2023-05-24 07:47:53       13.0   \n1              150528         NaN 2023-05-24 07:33:25       25.0   \n2              153068   9778682.0 2023-05-24 07:09:04       78.0   \n3              153070   9777492.0 2023-05-24 07:13:14       26.0   \n4              153071   9778623.0 2023-05-24 07:11:08      125.0   \n...               ...         ...                 ...        ...   \n232882      580099643   9769306.0 2023-05-18 10:01:05      121.0   \n232883      580099644   9770882.0 2023-05-18 10:05:07      176.0   \n232884      580099645   9769306.0 2023-05-18 10:11:03       24.0   \n232885      580100695   9771242.0 2023-05-18 10:00:08        5.0   \n232886      580100697   9771242.0 2023-05-18 10:01:29       14.0   \n\n        scroll_percentage  device_type  \\\n0                     NaN            2   \n1                     NaN            2   \n2                   100.0            1   \n3                   100.0            1   \n4                   100.0            1   \n...                   ...          ...   \n232882              100.0            3   \n232883              100.0            3   \n232884              100.0            3   \n232885              100.0            1   \n232886              100.0            1   \n\n                                       article_ids_inview article_ids_clicked  \\\n0       [9778623, 9778682, 9778669, 9778657, 9778736, ...           [9778657]   \n1       [9778718, 9778728, 9778745, 9778669, 9778657, ...           [9778623]   \n2       [9778657, 9778669, 9772866, 9776259, 9756397, ...           [9778669]   \n3       [9020783, 9778444, 9525589, 7213923, 9777397, ...           [9778628]   \n4       [9777492, 9774568, 9565836, 9335113, 9771223, ...           [9777492]   \n...                                                   ...                 ...   \n232882  [9233208, 9771242, 9767697, 9514481, 9771065, ...           [9770886]   \n232883  [9771065, 9767697, 9770886, 9758882, 9709817, ...           [9769306]   \n232884  [9771042, 9440508, 9486080, 9770997, 9120051, ...           [9771042]   \n232885  [9440508, 9142581, 9769917, 9767697, 9514481, ...           [9767697]   \n232886  [9233208, 8422665, 9769306, 9771042, 9514481, ...           [9771042]   \n\n        user_id  is_sso_user  gender  postcode  age  is_subscriber  \\\n0        139836        False     NaN       NaN  NaN          False   \n1        143471        False     NaN       NaN  NaN          False   \n2        151570        False     NaN       NaN  NaN          False   \n3        151570        False     NaN       NaN  NaN          False   \n4        151570        False     NaN       NaN  NaN          False   \n...         ...          ...     ...       ...  ...            ...   \n232882  2106715        False     NaN       NaN  NaN          False   \n232883  2106715        False     NaN       NaN  NaN          False   \n232884  2106715        False     NaN       NaN  NaN          False   \n232885  2110744        False     NaN       NaN  NaN          False   \n232886  2110744        False     NaN       NaN  NaN          False   \n\n        session_id  next_read_time  next_scroll_percentage  \n0              759             7.0                    22.0  \n1             1240           287.0                   100.0  \n2             1976            45.0                   100.0  \n3             1976             4.0                    18.0  \n4             1976            26.0                   100.0  \n...            ...             ...                     ...  \n232882     1416293           121.0                     NaN  \n232883     1416293           148.0                   100.0  \n232884     1416293             4.0                     NaN  \n232885      747086            75.0                   100.0  \n232886      747086           123.0                    25.0  \n\n[232887 rows x 17 columns]",
      "text/html": "<div>\n<style scoped>\n    .dataframe tbody tr th:only-of-type {\n        vertical-align: middle;\n    }\n\n    .dataframe tbody tr th {\n        vertical-align: top;\n    }\n\n    .dataframe thead th {\n        text-align: right;\n    }\n</style>\n<table border=\"1\" class=\"dataframe\">\n  <thead>\n    <tr style=\"text-align: right;\">\n      <th></th>\n      <th>impression_id</th>\n      <th>article_id</th>\n      <th>impression_time</th>\n      <th>read_time</th>\n      <th>scroll_percentage</th>\n      <th>device_type</th>\n      <th>article_ids_inview</th>\n      <th>article_ids_clicked</th>\n      <th>user_id</th>\n      <th>is_sso_user</th>\n      <th>gender</th>\n      <th>postcode</th>\n      <th>age</th>\n      <th>is_subscriber</th>\n      <th>session_id</th>\n      <th>next_read_time</th>\n      <th>next_scroll_percentage</th>\n    </tr>\n  </thead>\n  <tbody>\n    <tr>\n      <th>0</th>\n      <td>149474</td>\n      <td>NaN</td>\n      <td>2023-05-24 07:47:53</td>\n      <td>13.0</td>\n      <td>NaN</td>\n      <td>2</td>\n      <td>[9778623, 9778682, 9778669, 9778657, 9778736, ...</td>\n      <td>[9778657]</td>\n      <td>139836</td>\n      <td>False</td>\n      <td>NaN</td>\n      <td>NaN</td>\n      <td>NaN</td>\n      <td>False</td>\n      <td>759</td>\n      <td>7.0</td>\n      <td>22.0</td>\n    </tr>\n    <tr>\n      <th>1</th>\n      <td>150528</td>\n      <td>NaN</td>\n      <td>2023-05-24 07:33:25</td>\n      <td>25.0</td>\n      <td>NaN</td>\n      <td>2</td>\n      <td>[9778718, 9778728, 9778745, 9778669, 9778657, ...</td>\n      <td>[9778623]</td>\n      <td>143471</td>\n      <td>False</td>\n      <td>NaN</td>\n      <td>NaN</td>\n      <td>NaN</td>\n      <td>False</td>\n      <td>1240</td>\n      <td>287.0</td>\n      <td>100.0</td>\n    </tr>\n    <tr>\n      <th>2</th>\n      <td>153068</td>\n      <td>9778682.0</td>\n      <td>2023-05-24 07:09:04</td>\n      <td>78.0</td>\n      <td>100.0</td>\n      <td>1</td>\n      <td>[9778657, 9778669, 9772866, 9776259, 9756397, ...</td>\n      <td>[9778669]</td>\n      <td>151570</td>\n      <td>False</td>\n      <td>NaN</td>\n      <td>NaN</td>\n      <td>NaN</td>\n      <td>False</td>\n      <td>1976</td>\n      <td>45.0</td>\n      <td>100.0</td>\n    </tr>\n    <tr>\n      <th>3</th>\n      <td>153070</td>\n      <td>9777492.0</td>\n      <td>2023-05-24 07:13:14</td>\n      <td>26.0</td>\n      <td>100.0</td>\n      <td>1</td>\n      <td>[9020783, 9778444, 9525589, 7213923, 9777397, ...</td>\n      <td>[9778628]</td>\n      <td>151570</td>\n      <td>False</td>\n      <td>NaN</td>\n      <td>NaN</td>\n      <td>NaN</td>\n      <td>False</td>\n      <td>1976</td>\n      <td>4.0</td>\n      <td>18.0</td>\n    </tr>\n    <tr>\n      <th>4</th>\n      <td>153071</td>\n      <td>9778623.0</td>\n      <td>2023-05-24 07:11:08</td>\n      <td>125.0</td>\n      <td>100.0</td>\n      <td>1</td>\n      <td>[9777492, 9774568, 9565836, 9335113, 9771223, ...</td>\n      <td>[9777492]</td>\n      <td>151570</td>\n      <td>False</td>\n      <td>NaN</td>\n      <td>NaN</td>\n      <td>NaN</td>\n      <td>False</td>\n      <td>1976</td>\n      <td>26.0</td>\n      <td>100.0</td>\n    </tr>\n    <tr>\n      <th>...</th>\n      <td>...</td>\n      <td>...</td>\n      <td>...</td>\n      <td>...</td>\n      <td>...</td>\n      <td>...</td>\n      <td>...</td>\n      <td>...</td>\n      <td>...</td>\n      <td>...</td>\n      <td>...</td>\n      <td>...</td>\n      <td>...</td>\n      <td>...</td>\n      <td>...</td>\n      <td>...</td>\n      <td>...</td>\n    </tr>\n    <tr>\n      <th>232882</th>\n      <td>580099643</td>\n      <td>9769306.0</td>\n      <td>2023-05-18 10:01:05</td>\n      <td>121.0</td>\n      <td>100.0</td>\n      <td>3</td>\n      <td>[9233208, 9771242, 9767697, 9514481, 9771065, ...</td>\n      <td>[9770886]</td>\n      <td>2106715</td>\n      <td>False</td>\n      <td>NaN</td>\n      <td>NaN</td>\n      <td>NaN</td>\n      <td>False</td>\n      <td>1416293</td>\n      <td>121.0</td>\n      <td>NaN</td>\n    </tr>\n    <tr>\n      <th>232883</th>\n      <td>580099644</td>\n      <td>9770882.0</td>\n      <td>2023-05-18 10:05:07</td>\n      <td>176.0</td>\n      <td>100.0</td>\n      <td>3</td>\n      <td>[9771065, 9767697, 9770886, 9758882, 9709817, ...</td>\n      <td>[9769306]</td>\n      <td>2106715</td>\n      <td>False</td>\n      <td>NaN</td>\n      <td>NaN</td>\n      <td>NaN</td>\n      <td>False</td>\n      <td>1416293</td>\n      <td>148.0</td>\n      <td>100.0</td>\n    </tr>\n    <tr>\n      <th>232884</th>\n      <td>580099645</td>\n      <td>9769306.0</td>\n      <td>2023-05-18 10:11:03</td>\n      <td>24.0</td>\n      <td>100.0</td>\n      <td>3</td>\n      <td>[9771042, 9440508, 9486080, 9770997, 9120051, ...</td>\n      <td>[9771042]</td>\n      <td>2106715</td>\n      <td>False</td>\n      <td>NaN</td>\n      <td>NaN</td>\n      <td>NaN</td>\n      <td>False</td>\n      <td>1416293</td>\n      <td>4.0</td>\n      <td>NaN</td>\n    </tr>\n    <tr>\n      <th>232885</th>\n      <td>580100695</td>\n      <td>9771242.0</td>\n      <td>2023-05-18 10:00:08</td>\n      <td>5.0</td>\n      <td>100.0</td>\n      <td>1</td>\n      <td>[9440508, 9142581, 9769917, 9767697, 9514481, ...</td>\n      <td>[9767697]</td>\n      <td>2110744</td>\n      <td>False</td>\n      <td>NaN</td>\n      <td>NaN</td>\n      <td>NaN</td>\n      <td>False</td>\n      <td>747086</td>\n      <td>75.0</td>\n      <td>100.0</td>\n    </tr>\n    <tr>\n      <th>232886</th>\n      <td>580100697</td>\n      <td>9771242.0</td>\n      <td>2023-05-18 10:01:29</td>\n      <td>14.0</td>\n      <td>100.0</td>\n      <td>1</td>\n      <td>[9233208, 8422665, 9769306, 9771042, 9514481, ...</td>\n      <td>[9771042]</td>\n      <td>2110744</td>\n      <td>False</td>\n      <td>NaN</td>\n      <td>NaN</td>\n      <td>NaN</td>\n      <td>False</td>\n      <td>747086</td>\n      <td>123.0</td>\n      <td>25.0</td>\n    </tr>\n  </tbody>\n</table>\n<p>232887 rows × 17 columns</p>\n</div>"
     },
     "execution_count": 2,
     "metadata": {},
     "output_type": "execute_result"
    }
   ],
   "source": [
    "df_train_beh = pd.read_parquet(path=\"./ebnerd_small/train/behaviors.parquet\")\n",
    "df_train_beh = df_train_beh[[\"impression_id\", \"user_id\", \"article_ids_inview\", \"article_ids_clicked\"]]"
   ],
   "metadata": {
    "collapsed": false,
    "pycharm": {
     "name": "#%%\n"
    }
   }
  },
  {
   "cell_type": "code",
   "execution_count": 5,
   "outputs": [
    {
     "data": {
      "text/plain": "       user_id                            scroll_percentage_fixed  \\\n0        13538  [100.0, 35.0, 100.0, 24.0, 100.0, 23.0, 100.0,...   \n1        14241  [100.0, 46.0, 100.0, 70.0, 100.0, 100.0, 100.0...   \n2        20396  [100.0, 59.0, nan, nan, 100.0, 100.0, nan, nan...   \n3        34912  [100.0, 35.0, 44.0, 31.0, 100.0, 100.0, 100.0,...   \n4        37953  [14.0, 28.0, 29.0, nan, 36.0, 33.0, 50.0, 100....   \n...        ...                                                ...   \n15138  1479974  [58.0, 100.0, 21.0, 100.0, 100.0, 100.0, 6.0, ...   \n15139  2405403            [40.0, 100.0, 100.0, 43.0, 100.0, 39.0]   \n15140  2454548  [12.0, 10.0, 30.0, 100.0, 33.0, 37.0, 87.0, 57...   \n15141   581228            [28.0, 60.0, 100.0, 100.0, 49.0, 100.0]   \n15142  1710834                     [20.0, 43.0, 99.0, 99.0, 48.0]   \n\n                                        article_id_fixed  \\\n0      [9738663, 9738569, 9738663, 9738490, 9738663, ...   \n1      [9738557, 9738528, 9738533, 9738684, 9739035, ...   \n2      [9738760, 9738355, 9738355, 9739864, 9741788, ...   \n3      [9741802, 9741804, 9741803, 9740087, 9742039, ...   \n4      [9739205, 9739202, 9737084, 9739274, 9739358, ...   \n...                                                  ...   \n15138  [9770989, 9769553, 9770882, 9770541, 9770867, ...   \n15139  [9743574, 9740618, 9742401, 9740156, 9742401, ...   \n15140  [9768328, 9769328, 9769414, 9769380, 9769378, ...   \n15141  [9770799, 9770726, 9747757, 9769404, 9769366, ...   \n15142      [9770741, 9770594, 9728166, 9769433, 9770452]   \n\n                                         read_time_fixed  \n0      [17.0, 12.0, 4.0, 5.0, 4.0, 9.0, 5.0, 46.0, 11...  \n1      [8.0, 9.0, 28.0, 17.0, 91.0, 21.0, 14.0, 27.0,...  \n2      [49.0, 34.0, 0.0, 60.0, 180.0, 49.0, 0.0, 0.0,...  \n3      [153.0, 7.0, 5.0, 6.0, 44.0, 44.0, 108.0, 10.0...  \n4      [4.0, 16.0, 4.0, 0.0, 5.0, 5.0, 25.0, 48.0, 6....  \n...                                                  ...  \n15138  [8.0, 124.0, 9.0, 72.0, 52.0, 70.0, 2.0, 40.0,...  \n15139                  [1.0, 64.0, 6.0, 5.0, 2.0, 120.0]  \n15140  [9.0, 6.0, 3.0, 32.0, 101.0, 10.0, 69.0, 10.0,...  \n15141               [12.0, 15.0, 52.0, 700.0, 7.0, 43.0]  \n15142                     [9.0, 44.0, 35.0, 44.0, 916.0]  \n\n[15143 rows x 4 columns]",
      "text/html": "<div>\n<style scoped>\n    .dataframe tbody tr th:only-of-type {\n        vertical-align: middle;\n    }\n\n    .dataframe tbody tr th {\n        vertical-align: top;\n    }\n\n    .dataframe thead th {\n        text-align: right;\n    }\n</style>\n<table border=\"1\" class=\"dataframe\">\n  <thead>\n    <tr style=\"text-align: right;\">\n      <th></th>\n      <th>user_id</th>\n      <th>scroll_percentage_fixed</th>\n      <th>article_id_fixed</th>\n      <th>read_time_fixed</th>\n    </tr>\n  </thead>\n  <tbody>\n    <tr>\n      <th>0</th>\n      <td>13538</td>\n      <td>[100.0, 35.0, 100.0, 24.0, 100.0, 23.0, 100.0,...</td>\n      <td>[9738663, 9738569, 9738663, 9738490, 9738663, ...</td>\n      <td>[17.0, 12.0, 4.0, 5.0, 4.0, 9.0, 5.0, 46.0, 11...</td>\n    </tr>\n    <tr>\n      <th>1</th>\n      <td>14241</td>\n      <td>[100.0, 46.0, 100.0, 70.0, 100.0, 100.0, 100.0...</td>\n      <td>[9738557, 9738528, 9738533, 9738684, 9739035, ...</td>\n      <td>[8.0, 9.0, 28.0, 17.0, 91.0, 21.0, 14.0, 27.0,...</td>\n    </tr>\n    <tr>\n      <th>2</th>\n      <td>20396</td>\n      <td>[100.0, 59.0, nan, nan, 100.0, 100.0, nan, nan...</td>\n      <td>[9738760, 9738355, 9738355, 9739864, 9741788, ...</td>\n      <td>[49.0, 34.0, 0.0, 60.0, 180.0, 49.0, 0.0, 0.0,...</td>\n    </tr>\n    <tr>\n      <th>3</th>\n      <td>34912</td>\n      <td>[100.0, 35.0, 44.0, 31.0, 100.0, 100.0, 100.0,...</td>\n      <td>[9741802, 9741804, 9741803, 9740087, 9742039, ...</td>\n      <td>[153.0, 7.0, 5.0, 6.0, 44.0, 44.0, 108.0, 10.0...</td>\n    </tr>\n    <tr>\n      <th>4</th>\n      <td>37953</td>\n      <td>[14.0, 28.0, 29.0, nan, 36.0, 33.0, 50.0, 100....</td>\n      <td>[9739205, 9739202, 9737084, 9739274, 9739358, ...</td>\n      <td>[4.0, 16.0, 4.0, 0.0, 5.0, 5.0, 25.0, 48.0, 6....</td>\n    </tr>\n    <tr>\n      <th>...</th>\n      <td>...</td>\n      <td>...</td>\n      <td>...</td>\n      <td>...</td>\n    </tr>\n    <tr>\n      <th>15138</th>\n      <td>1479974</td>\n      <td>[58.0, 100.0, 21.0, 100.0, 100.0, 100.0, 6.0, ...</td>\n      <td>[9770989, 9769553, 9770882, 9770541, 9770867, ...</td>\n      <td>[8.0, 124.0, 9.0, 72.0, 52.0, 70.0, 2.0, 40.0,...</td>\n    </tr>\n    <tr>\n      <th>15139</th>\n      <td>2405403</td>\n      <td>[40.0, 100.0, 100.0, 43.0, 100.0, 39.0]</td>\n      <td>[9743574, 9740618, 9742401, 9740156, 9742401, ...</td>\n      <td>[1.0, 64.0, 6.0, 5.0, 2.0, 120.0]</td>\n    </tr>\n    <tr>\n      <th>15140</th>\n      <td>2454548</td>\n      <td>[12.0, 10.0, 30.0, 100.0, 33.0, 37.0, 87.0, 57...</td>\n      <td>[9768328, 9769328, 9769414, 9769380, 9769378, ...</td>\n      <td>[9.0, 6.0, 3.0, 32.0, 101.0, 10.0, 69.0, 10.0,...</td>\n    </tr>\n    <tr>\n      <th>15141</th>\n      <td>581228</td>\n      <td>[28.0, 60.0, 100.0, 100.0, 49.0, 100.0]</td>\n      <td>[9770799, 9770726, 9747757, 9769404, 9769366, ...</td>\n      <td>[12.0, 15.0, 52.0, 700.0, 7.0, 43.0]</td>\n    </tr>\n    <tr>\n      <th>15142</th>\n      <td>1710834</td>\n      <td>[20.0, 43.0, 99.0, 99.0, 48.0]</td>\n      <td>[9770741, 9770594, 9728166, 9769433, 9770452]</td>\n      <td>[9.0, 44.0, 35.0, 44.0, 916.0]</td>\n    </tr>\n  </tbody>\n</table>\n<p>15143 rows × 4 columns</p>\n</div>"
     },
     "execution_count": 5,
     "metadata": {},
     "output_type": "execute_result"
    }
   ],
   "source": [
    "df_train_his = pd.read_parquet(path=\"./ebnerd_small/train/history.parquet\")\n",
    "df_train_his = df_train_his[[\"user_id\", \"scroll_percentage_fixed\", \"article_id_fixed\", \"read_time_fixed\"]]"
   ],
   "metadata": {
    "collapsed": false,
    "pycharm": {
     "name": "#%%\n"
    }
   }
  },
  {
   "cell_type": "code",
   "execution_count": 7,
   "outputs": [
    {
     "data": {
      "text/plain": "        impression_id  user_id  \\\n0               96791    22548   \n1               96798    22548   \n2               96801    22548   \n3               96808    22548   \n4               96810    22548   \n...               ...      ...   \n244642      579250707  1529985   \n244643      579251515  1532837   \n244644      579251519  1532837   \n244645      579253363  1539939   \n244646      579552453   752762   \n\n                                       article_ids_inview article_ids_clicked  \n0           [9783865, 9784591, 9784679, 9784696, 9784710]           [9784696]  \n1       [9782884, 9783865, 9782726, 9695098, 9782806, ...           [9784281]  \n2       [9784648, 7184889, 9784444, 9781785, 9783405, ...           [9784444]  \n3           [9784607, 9695098, 9784406, 7184889, 9781983]           [9781983]  \n4       [9781983, 7184889, 9784642, 9782108, 9781785, ...           [9784642]  \n...                                                   ...                 ...  \n244642  [9782929, 9782919, 9783213, 9783075, 9782746, ...           [9783075]  \n244643      [9782746, 9782929, 9783720, 9782645, 9783075]           [9783075]  \n244644  [9783213, 9782645, 9782423, 9783657, 9782746, ...           [9782423]  \n244645  [9142564, 9783657, 9783404, 9782670, 9783720, ...           [9783720]  \n244646      [9784575, 9784662, 9784642, 9782656, 9784559]           [9782656]  \n\n[244647 rows x 4 columns]",
      "text/html": "<div>\n<style scoped>\n    .dataframe tbody tr th:only-of-type {\n        vertical-align: middle;\n    }\n\n    .dataframe tbody tr th {\n        vertical-align: top;\n    }\n\n    .dataframe thead th {\n        text-align: right;\n    }\n</style>\n<table border=\"1\" class=\"dataframe\">\n  <thead>\n    <tr style=\"text-align: right;\">\n      <th></th>\n      <th>impression_id</th>\n      <th>user_id</th>\n      <th>article_ids_inview</th>\n      <th>article_ids_clicked</th>\n    </tr>\n  </thead>\n  <tbody>\n    <tr>\n      <th>0</th>\n      <td>96791</td>\n      <td>22548</td>\n      <td>[9783865, 9784591, 9784679, 9784696, 9784710]</td>\n      <td>[9784696]</td>\n    </tr>\n    <tr>\n      <th>1</th>\n      <td>96798</td>\n      <td>22548</td>\n      <td>[9782884, 9783865, 9782726, 9695098, 9782806, ...</td>\n      <td>[9784281]</td>\n    </tr>\n    <tr>\n      <th>2</th>\n      <td>96801</td>\n      <td>22548</td>\n      <td>[9784648, 7184889, 9784444, 9781785, 9783405, ...</td>\n      <td>[9784444]</td>\n    </tr>\n    <tr>\n      <th>3</th>\n      <td>96808</td>\n      <td>22548</td>\n      <td>[9784607, 9695098, 9784406, 7184889, 9781983]</td>\n      <td>[9781983]</td>\n    </tr>\n    <tr>\n      <th>4</th>\n      <td>96810</td>\n      <td>22548</td>\n      <td>[9781983, 7184889, 9784642, 9782108, 9781785, ...</td>\n      <td>[9784642]</td>\n    </tr>\n    <tr>\n      <th>...</th>\n      <td>...</td>\n      <td>...</td>\n      <td>...</td>\n      <td>...</td>\n    </tr>\n    <tr>\n      <th>244642</th>\n      <td>579250707</td>\n      <td>1529985</td>\n      <td>[9782929, 9782919, 9783213, 9783075, 9782746, ...</td>\n      <td>[9783075]</td>\n    </tr>\n    <tr>\n      <th>244643</th>\n      <td>579251515</td>\n      <td>1532837</td>\n      <td>[9782746, 9782929, 9783720, 9782645, 9783075]</td>\n      <td>[9783075]</td>\n    </tr>\n    <tr>\n      <th>244644</th>\n      <td>579251519</td>\n      <td>1532837</td>\n      <td>[9783213, 9782645, 9782423, 9783657, 9782746, ...</td>\n      <td>[9782423]</td>\n    </tr>\n    <tr>\n      <th>244645</th>\n      <td>579253363</td>\n      <td>1539939</td>\n      <td>[9142564, 9783657, 9783404, 9782670, 9783720, ...</td>\n      <td>[9783720]</td>\n    </tr>\n    <tr>\n      <th>244646</th>\n      <td>579552453</td>\n      <td>752762</td>\n      <td>[9784575, 9784662, 9784642, 9782656, 9784559]</td>\n      <td>[9782656]</td>\n    </tr>\n  </tbody>\n</table>\n<p>244647 rows × 4 columns</p>\n</div>"
     },
     "execution_count": 7,
     "metadata": {},
     "output_type": "execute_result"
    }
   ],
   "source": [
    "df_val_beh = pd.read_parquet(path=\"./ebnerd_small/validation/behaviors.parquet\")\n",
    "df_val_beh = df_val_beh[[\"impression_id\", \"user_id\", \"article_ids_inview\", \"article_ids_clicked\"]]"
   ],
   "metadata": {
    "collapsed": false,
    "pycharm": {
     "name": "#%%\n"
    }
   }
  },
  {
   "cell_type": "code",
   "execution_count": 8,
   "outputs": [
    {
     "data": {
      "text/plain": "       user_id                            scroll_percentage_fixed  \\\n0        14241  [100.0, 77.0, 100.0, 100.0, 59.0, 61.0, 100.0,...   \n1        20396  [nan, 100.0, 100.0, nan, 100.0, nan, 15.0, 100...   \n2        37953  [25.0, 13.0, 66.0, 71.0, 54.0, nan, 28.0, 94.0...   \n3        38910  [nan, 23.0, nan, 18.0, 15.0, 100.0, 29.0, 26.0...   \n4        39221  [100.0, 100.0, 64.0, 77.0, 100.0, nan, 100.0, ...   \n...        ...                                                ...   \n15337   906586     [60.0, 100.0, 81.0, 100.0, 40.0, 100.0, 100.0]   \n15338  2028720         [100.0, 100.0, 100.0, 100.0, 100.0, 100.0]   \n15339  1455620  [100.0, 100.0, 100.0, 100.0, 100.0, 100.0, 100...   \n15340  1517092      [30.0, 100.0, 79.0, 100.0, 39.0, 100.0, 79.0]   \n15341   981701  [100.0, 100.0, 50.0, 92.0, 100.0, 100.0, 95.0,...   \n\n                                        article_id_fixed  \\\n0      [9578072, 9749349, 9750161, 9749076, 9749947, ...   \n1      [9748482, 9748916, 9749156, 9749278, 9745750, ...   \n2      [9750397, 9749916, 9750358, 9751284, 9749284, ...   \n3      [9745491, 9749729, 9749495, 9749495, 9741788, ...   \n4      [9749034, 9751385, 9559425, 9751115, 9685759, ...   \n...                                                  ...   \n15337  [9725978, 9763942, 9716537, 9763942, 9763869, ...   \n15338  [9778731, 9578072, 9778731, 9778219, 9777397, ...   \n15339  [9778819, 9778819, 9779204, 9779269, 9766042, ...   \n15340  [9779520, 9768308, 9779408, 9779538, 9779289, ...   \n15341  [9780096, 9780019, 9780039, 9779150, 9780020, ...   \n\n                                         read_time_fixed  \n0      [20.0, 16.0, 17.0, 31.0, 4.0, 14.0, 13.0, 19.0...  \n1      [0.0, 69.0, 33.0, 0.0, 95.0, 11.0, 4.0, 88.0, ...  \n2      [5.0, 5.0, 7.0, 182.0, 7.0, 0.0, 3.0, 14.0, 34...  \n3      [2.0, 2.0, 86.0, 2.0, 3.0, 63.0, 2.0, 10.0, 59...  \n4      [67.0, 82.0, 98.0, 24.0, 26.0, 0.0, 62.0, 34.0...  \n...                                                  ...  \n15337         [130.0, 37.0, 57.0, 49.0, 5.0, 32.0, 83.0]  \n15338               [37.0, 14.0, 5.0, 101.0, 25.0, 84.0]  \n15339  [52.0, 55.0, 92.0, 149.0, 142.0, 32.0, 45.0, 8...  \n15340          [6.0, 21.0, 12.0, 31.0, 4.0, 14.0, 492.0]  \n15341  [38.0, 58.0, 6.0, 97.0, 79.0, 189.0, 36.0, 23....  \n\n[15342 rows x 4 columns]",
      "text/html": "<div>\n<style scoped>\n    .dataframe tbody tr th:only-of-type {\n        vertical-align: middle;\n    }\n\n    .dataframe tbody tr th {\n        vertical-align: top;\n    }\n\n    .dataframe thead th {\n        text-align: right;\n    }\n</style>\n<table border=\"1\" class=\"dataframe\">\n  <thead>\n    <tr style=\"text-align: right;\">\n      <th></th>\n      <th>user_id</th>\n      <th>scroll_percentage_fixed</th>\n      <th>article_id_fixed</th>\n      <th>read_time_fixed</th>\n    </tr>\n  </thead>\n  <tbody>\n    <tr>\n      <th>0</th>\n      <td>14241</td>\n      <td>[100.0, 77.0, 100.0, 100.0, 59.0, 61.0, 100.0,...</td>\n      <td>[9578072, 9749349, 9750161, 9749076, 9749947, ...</td>\n      <td>[20.0, 16.0, 17.0, 31.0, 4.0, 14.0, 13.0, 19.0...</td>\n    </tr>\n    <tr>\n      <th>1</th>\n      <td>20396</td>\n      <td>[nan, 100.0, 100.0, nan, 100.0, nan, 15.0, 100...</td>\n      <td>[9748482, 9748916, 9749156, 9749278, 9745750, ...</td>\n      <td>[0.0, 69.0, 33.0, 0.0, 95.0, 11.0, 4.0, 88.0, ...</td>\n    </tr>\n    <tr>\n      <th>2</th>\n      <td>37953</td>\n      <td>[25.0, 13.0, 66.0, 71.0, 54.0, nan, 28.0, 94.0...</td>\n      <td>[9750397, 9749916, 9750358, 9751284, 9749284, ...</td>\n      <td>[5.0, 5.0, 7.0, 182.0, 7.0, 0.0, 3.0, 14.0, 34...</td>\n    </tr>\n    <tr>\n      <th>3</th>\n      <td>38910</td>\n      <td>[nan, 23.0, nan, 18.0, 15.0, 100.0, 29.0, 26.0...</td>\n      <td>[9745491, 9749729, 9749495, 9749495, 9741788, ...</td>\n      <td>[2.0, 2.0, 86.0, 2.0, 3.0, 63.0, 2.0, 10.0, 59...</td>\n    </tr>\n    <tr>\n      <th>4</th>\n      <td>39221</td>\n      <td>[100.0, 100.0, 64.0, 77.0, 100.0, nan, 100.0, ...</td>\n      <td>[9749034, 9751385, 9559425, 9751115, 9685759, ...</td>\n      <td>[67.0, 82.0, 98.0, 24.0, 26.0, 0.0, 62.0, 34.0...</td>\n    </tr>\n    <tr>\n      <th>...</th>\n      <td>...</td>\n      <td>...</td>\n      <td>...</td>\n      <td>...</td>\n    </tr>\n    <tr>\n      <th>15337</th>\n      <td>906586</td>\n      <td>[60.0, 100.0, 81.0, 100.0, 40.0, 100.0, 100.0]</td>\n      <td>[9725978, 9763942, 9716537, 9763942, 9763869, ...</td>\n      <td>[130.0, 37.0, 57.0, 49.0, 5.0, 32.0, 83.0]</td>\n    </tr>\n    <tr>\n      <th>15338</th>\n      <td>2028720</td>\n      <td>[100.0, 100.0, 100.0, 100.0, 100.0, 100.0]</td>\n      <td>[9778731, 9578072, 9778731, 9778219, 9777397, ...</td>\n      <td>[37.0, 14.0, 5.0, 101.0, 25.0, 84.0]</td>\n    </tr>\n    <tr>\n      <th>15339</th>\n      <td>1455620</td>\n      <td>[100.0, 100.0, 100.0, 100.0, 100.0, 100.0, 100...</td>\n      <td>[9778819, 9778819, 9779204, 9779269, 9766042, ...</td>\n      <td>[52.0, 55.0, 92.0, 149.0, 142.0, 32.0, 45.0, 8...</td>\n    </tr>\n    <tr>\n      <th>15340</th>\n      <td>1517092</td>\n      <td>[30.0, 100.0, 79.0, 100.0, 39.0, 100.0, 79.0]</td>\n      <td>[9779520, 9768308, 9779408, 9779538, 9779289, ...</td>\n      <td>[6.0, 21.0, 12.0, 31.0, 4.0, 14.0, 492.0]</td>\n    </tr>\n    <tr>\n      <th>15341</th>\n      <td>981701</td>\n      <td>[100.0, 100.0, 50.0, 92.0, 100.0, 100.0, 95.0,...</td>\n      <td>[9780096, 9780019, 9780039, 9779150, 9780020, ...</td>\n      <td>[38.0, 58.0, 6.0, 97.0, 79.0, 189.0, 36.0, 23....</td>\n    </tr>\n  </tbody>\n</table>\n<p>15342 rows × 4 columns</p>\n</div>"
     },
     "execution_count": 8,
     "metadata": {},
     "output_type": "execute_result"
    }
   ],
   "source": [
    "df_val_his = pd.read_parquet(path=\"./ebnerd_small/validation/history.parquet\")\n",
    "df_val_his = df_val_his[[\"user_id\", \"scroll_percentage_fixed\", \"article_id_fixed\", \"read_time_fixed\"]]"
   ],
   "metadata": {
    "collapsed": false,
    "pycharm": {
     "name": "#%%\n"
    }
   }
  },
  {
   "cell_type": "code",
   "execution_count": 10,
   "outputs": [
    {
     "data": {
      "text/plain": "       article_id  category\n0         3001353       140\n1         3003065       414\n2         3012771       142\n3         3023463       118\n4         3032577       565\n...           ...       ...\n20733     9803492       118\n20734     9803505       142\n20735     9803525       414\n20736     9803560       118\n20737     9803607       140\n\n[20738 rows x 2 columns]",
      "text/html": "<div>\n<style scoped>\n    .dataframe tbody tr th:only-of-type {\n        vertical-align: middle;\n    }\n\n    .dataframe tbody tr th {\n        vertical-align: top;\n    }\n\n    .dataframe thead th {\n        text-align: right;\n    }\n</style>\n<table border=\"1\" class=\"dataframe\">\n  <thead>\n    <tr style=\"text-align: right;\">\n      <th></th>\n      <th>article_id</th>\n      <th>category</th>\n    </tr>\n  </thead>\n  <tbody>\n    <tr>\n      <th>0</th>\n      <td>3001353</td>\n      <td>140</td>\n    </tr>\n    <tr>\n      <th>1</th>\n      <td>3003065</td>\n      <td>414</td>\n    </tr>\n    <tr>\n      <th>2</th>\n      <td>3012771</td>\n      <td>142</td>\n    </tr>\n    <tr>\n      <th>3</th>\n      <td>3023463</td>\n      <td>118</td>\n    </tr>\n    <tr>\n      <th>4</th>\n      <td>3032577</td>\n      <td>565</td>\n    </tr>\n    <tr>\n      <th>...</th>\n      <td>...</td>\n      <td>...</td>\n    </tr>\n    <tr>\n      <th>20733</th>\n      <td>9803492</td>\n      <td>118</td>\n    </tr>\n    <tr>\n      <th>20734</th>\n      <td>9803505</td>\n      <td>142</td>\n    </tr>\n    <tr>\n      <th>20735</th>\n      <td>9803525</td>\n      <td>414</td>\n    </tr>\n    <tr>\n      <th>20736</th>\n      <td>9803560</td>\n      <td>118</td>\n    </tr>\n    <tr>\n      <th>20737</th>\n      <td>9803607</td>\n      <td>140</td>\n    </tr>\n  </tbody>\n</table>\n<p>20738 rows × 2 columns</p>\n</div>"
     },
     "execution_count": 10,
     "metadata": {},
     "output_type": "execute_result"
    }
   ],
   "source": [
    "df_articles = pd.read_parquet(path=\"./ebnerd_small/articles.parquet\")\n",
    "df_articles = df_articles[[\"article_id\", \"category\"]]"
   ],
   "metadata": {
    "collapsed": false,
    "pycharm": {
     "name": "#%%\n"
    }
   }
  },
  {
   "cell_type": "markdown",
   "source": [
    "### users"
   ],
   "metadata": {
    "collapsed": false,
    "pycharm": {
     "name": "#%% md\n"
    }
   }
  },
  {
   "cell_type": "code",
   "execution_count": 17,
   "outputs": [
    {
     "name": "stdout",
     "output_type": "stream",
     "text": [
      "Different users to eval: 15342\n",
      "Users already evaluated: 15143\n",
      "We have data for user, but we do not have to eval the user: 3485\n",
      "We have no data, but have to eval the user: 3684\n",
      "We have data for this users and we can eval them: 11658\n"
     ]
    }
   ],
   "source": [
    "users_to_eval = np.unique(df_val_beh[\"user_id\"])\n",
    "users_already_evaluated = np.unique(df_train_beh[\"user_id\"])\n",
    "\n",
    "print(f\"Different users to eval: {len(users_to_eval)}\")\n",
    "print(f\"Users already evaluated: {len(users_already_evaluated)}\")\n",
    "print(f\"We have data for user, but we do not have to eval the user: {len(np.setdiff1d(users_already_evaluated, users_to_eval))}\")\n",
    "print(f\"We have no data, but have to eval the user: {len(np.setdiff1d(users_to_eval, users_already_evaluated))}\")\n",
    "print(f\"We have data for this users and we can eval them: {len(np.intersect1d(users_to_eval, users_already_evaluated))}\")\n"
   ],
   "metadata": {
    "collapsed": false,
    "pycharm": {
     "name": "#%%\n"
    }
   }
  },
  {
   "cell_type": "markdown",
   "source": [
    "### articles"
   ],
   "metadata": {
    "collapsed": false,
    "pycharm": {
     "name": "#%% md\n"
    }
   }
  },
  {
   "cell_type": "code",
   "execution_count": 24,
   "outputs": [
    {
     "name": "stdout",
     "output_type": "stream",
     "text": [
      "Articles inview for evaluation: 4701\n",
      "Articles that appeared inview already: 3995\n",
      "Articles that have never appeared: 1781\n"
     ]
    }
   ],
   "source": [
    "articles_inview_to_eval = np.unique(df_val_beh[\"article_ids_inview\"].explode())\n",
    "articles_that_appeared_inview_already = np.unique(df_train_beh[\"article_ids_inview\"].explode())\n",
    "\n",
    "print(f\"Articles inview for evaluation: {len(articles_inview_to_eval)}\")\n",
    "print(f\"Articles that appeared inview already: {len(articles_that_appeared_inview_already)}\")\n",
    "print(f\"Articles that have never appeared: {len(np.setdiff1d(articles_inview_to_eval, articles_that_appeared_inview_already))}\")\n"
   ],
   "metadata": {
    "collapsed": false,
    "pycharm": {
     "name": "#%%\n"
    }
   }
  },
  {
   "cell_type": "code",
   "execution_count": 35,
   "outputs": [
    {
     "name": "stderr",
     "output_type": "stream",
     "text": [
      "/var/folders/2b/f71znfwd1tj_w3bgdq7lj8pw9drw7y/T/ipykernel_22613/1533342954.py:2: SettingWithCopyWarning: \n",
      "A value is trying to be set on a copy of a slice from a DataFrame.\n",
      "Try using .loc[row_indexer,col_indexer] = value instead\n",
      "\n",
      "See the caveats in the documentation: https://pandas.pydata.org/pandas-docs/stable/user_guide/indexing.html#returning-a-view-versus-a-copy\n",
      "  a[\"A\"] = a['article_ids_clicked'].apply(lambda x: x[0])\n"
     ]
    },
    {
     "data": {
      "text/plain": "        impression_id  user_id  \\\n11              99431    32455   \n30             147614    87032   \n31             147616    87032   \n32             147618    87032   \n87             304569   753075   \n...               ...      ...   \n244615      579233816  1331404   \n244616      579233820  1331404   \n244622      579235067  1336610   \n244632      579242086  1495666   \n244638      579248431  1521888   \n\n                                       article_ids_inview article_ids_clicked  \\\n11          [9784804, 9784803, 9782884, 9784702, 9784805]           [9784702]   \n30      [9785434, 9785016, 9787769, 9788462, 9788352, ...           [9786283]   \n31          [9787739, 9788666, 9788188, 9788362, 9788183]           [9787739]   \n32      [9782005, 9785732, 9417521, 9436758, 9219607, ...           [9782005]   \n87      [9097165, 9781860, 9781856, 9781838, 9781855, ...           [9781785]   \n...                                                   ...                 ...   \n244615  [9527795, 9780921, 9448302, 9781424, 9193263, ...           [9781424]   \n244616  [9780960, 9780498, 9780993, 9780195, 9781057, ...           [9780983]   \n244622  [9781502, 9780962, 9781262, 9781506, 9781523, ...           [9781262]   \n244632  [9533957, 9781906, 9781913, 9781848, 9573996, ...           [9780348]   \n244638  [9781998, 9781947, 9780697, 9782030, 9782046, ...           [9780697]   \n\n              A  \n11      9784702  \n30      9786283  \n31      9787739  \n32      9782005  \n87      9781785  \n...         ...  \n244615  9781424  \n244616  9780983  \n244622  9781262  \n244632  9780348  \n244638  9780697  \n\n[40069 rows x 5 columns]",
      "text/html": "<div>\n<style scoped>\n    .dataframe tbody tr th:only-of-type {\n        vertical-align: middle;\n    }\n\n    .dataframe tbody tr th {\n        vertical-align: top;\n    }\n\n    .dataframe thead th {\n        text-align: right;\n    }\n</style>\n<table border=\"1\" class=\"dataframe\">\n  <thead>\n    <tr style=\"text-align: right;\">\n      <th></th>\n      <th>impression_id</th>\n      <th>user_id</th>\n      <th>article_ids_inview</th>\n      <th>article_ids_clicked</th>\n      <th>A</th>\n    </tr>\n  </thead>\n  <tbody>\n    <tr>\n      <th>11</th>\n      <td>99431</td>\n      <td>32455</td>\n      <td>[9784804, 9784803, 9782884, 9784702, 9784805]</td>\n      <td>[9784702]</td>\n      <td>9784702</td>\n    </tr>\n    <tr>\n      <th>30</th>\n      <td>147614</td>\n      <td>87032</td>\n      <td>[9785434, 9785016, 9787769, 9788462, 9788352, ...</td>\n      <td>[9786283]</td>\n      <td>9786283</td>\n    </tr>\n    <tr>\n      <th>31</th>\n      <td>147616</td>\n      <td>87032</td>\n      <td>[9787739, 9788666, 9788188, 9788362, 9788183]</td>\n      <td>[9787739]</td>\n      <td>9787739</td>\n    </tr>\n    <tr>\n      <th>32</th>\n      <td>147618</td>\n      <td>87032</td>\n      <td>[9782005, 9785732, 9417521, 9436758, 9219607, ...</td>\n      <td>[9782005]</td>\n      <td>9782005</td>\n    </tr>\n    <tr>\n      <th>87</th>\n      <td>304569</td>\n      <td>753075</td>\n      <td>[9097165, 9781860, 9781856, 9781838, 9781855, ...</td>\n      <td>[9781785]</td>\n      <td>9781785</td>\n    </tr>\n    <tr>\n      <th>...</th>\n      <td>...</td>\n      <td>...</td>\n      <td>...</td>\n      <td>...</td>\n      <td>...</td>\n    </tr>\n    <tr>\n      <th>244615</th>\n      <td>579233816</td>\n      <td>1331404</td>\n      <td>[9527795, 9780921, 9448302, 9781424, 9193263, ...</td>\n      <td>[9781424]</td>\n      <td>9781424</td>\n    </tr>\n    <tr>\n      <th>244616</th>\n      <td>579233820</td>\n      <td>1331404</td>\n      <td>[9780960, 9780498, 9780993, 9780195, 9781057, ...</td>\n      <td>[9780983]</td>\n      <td>9780983</td>\n    </tr>\n    <tr>\n      <th>244622</th>\n      <td>579235067</td>\n      <td>1336610</td>\n      <td>[9781502, 9780962, 9781262, 9781506, 9781523, ...</td>\n      <td>[9781262]</td>\n      <td>9781262</td>\n    </tr>\n    <tr>\n      <th>244632</th>\n      <td>579242086</td>\n      <td>1495666</td>\n      <td>[9533957, 9781906, 9781913, 9781848, 9573996, ...</td>\n      <td>[9780348]</td>\n      <td>9780348</td>\n    </tr>\n    <tr>\n      <th>244638</th>\n      <td>579248431</td>\n      <td>1521888</td>\n      <td>[9781998, 9781947, 9780697, 9782030, 9782046, ...</td>\n      <td>[9780697]</td>\n      <td>9780697</td>\n    </tr>\n  </tbody>\n</table>\n<p>40069 rows × 5 columns</p>\n</div>"
     },
     "execution_count": 35,
     "metadata": {},
     "output_type": "execute_result"
    }
   ],
   "source": [
    "a = df_val_beh[df_val_beh[\"user_id\"].isin(np.setdiff1d(users_to_eval, users_already_evaluated))]\n",
    "a[\"A\"] = a['article_ids_clicked'].apply(lambda x: x[0])\n",
    "a = a[a['A'].isin(np.setdiff1d(articles_inview_to_eval, articles_that_appeared_inview_already))]\n",
    "print(f\"We have to compute this much without any clue on user or articles: {a.shape[0]}\")"
   ],
   "metadata": {
    "collapsed": false,
    "pycharm": {
     "name": "#%%\n"
    }
   }
  },
  {
   "cell_type": "code",
   "execution_count": null,
   "outputs": [],
   "source": [],
   "metadata": {
    "collapsed": false,
    "pycharm": {
     "name": "#%%\n"
    }
   }
  }
 ],
 "metadata": {
  "kernelspec": {
   "display_name": "Python 3",
   "language": "python",
   "name": "python3"
  },
  "language_info": {
   "codemirror_mode": {
    "name": "ipython",
    "version": 2
   },
   "file_extension": ".py",
   "mimetype": "text/x-python",
   "name": "python",
   "nbconvert_exporter": "python",
   "pygments_lexer": "ipython2",
   "version": "2.7.6"
  }
 },
 "nbformat": 4,
 "nbformat_minor": 0
}