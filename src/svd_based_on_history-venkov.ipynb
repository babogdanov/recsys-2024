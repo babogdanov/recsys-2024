{
 "cells": [
  {
   "cell_type": "code",
   "execution_count": 1,
   "metadata": {
    "collapsed": true
   },
   "outputs": [
    {
     "name": "stdout",
     "output_type": "stream",
     "text": [
      "Collecting surprise\r\n",
      "  Downloading surprise-0.1-py2.py3-none-any.whl.metadata (327 bytes)\r\n",
      "Collecting scikit-surprise (from surprise)\r\n",
      "  Downloading scikit_surprise-1.1.4.tar.gz (154 kB)\r\n",
      "\u001B[2K     \u001B[90m━━━━━━━━━━━━━━━━━━━━━━━━━━━━━━━━━━━━━━━\u001B[0m \u001B[32m154.4/154.4 kB\u001B[0m \u001B[31m1.4 MB/s\u001B[0m eta \u001B[36m0:00:00\u001B[0ma \u001B[36m0:00:01\u001B[0m\r\n",
      "\u001B[?25h  Installing build dependencies ... \u001B[?25l-\b \b\\\b \b|\b \b/\b \b-\b \b\\\b \b|\b \b/\b \b-\b \b\\\b \b|\b \b/\b \b-\b \b\\\b \b|\b \b/\b \bdone\r\n",
      "\u001B[?25h  Getting requirements to build wheel ... \u001B[?25l-\b \b\\\b \bdone\r\n",
      "\u001B[?25h  Preparing metadata (pyproject.toml) ... \u001B[?25l-\b \bdone\r\n",
      "\u001B[?25hRequirement already satisfied: joblib>=1.2.0 in /Users/v.venkov/projects/study-jupyter-templates/venv/lib/python3.9/site-packages (from scikit-surprise->surprise) (1.4.2)\r\n",
      "Requirement already satisfied: numpy>=1.19.5 in /Users/v.venkov/projects/study-jupyter-templates/venv/lib/python3.9/site-packages (from scikit-surprise->surprise) (1.26.4)\r\n",
      "Requirement already satisfied: scipy>=1.6.0 in /Users/v.venkov/projects/study-jupyter-templates/venv/lib/python3.9/site-packages (from scikit-surprise->surprise) (1.13.1)\r\n",
      "Downloading surprise-0.1-py2.py3-none-any.whl (1.8 kB)\r\n",
      "Building wheels for collected packages: scikit-surprise\r\n",
      "  Building wheel for scikit-surprise (pyproject.toml) ... \u001B[?25l-\b \b\\\b \b|\b \b/\b \b-\b \b\\\b \b|\b \b/\b \b-\b \bdone\r\n",
      "\u001B[?25h  Created wheel for scikit-surprise: filename=scikit_surprise-1.1.4-cp39-cp39-macosx_10_15_x86_64.whl size=568159 sha256=870fbc2a956d5601bb307f98286467fb81960c70dcab352b9a2310da4e6af51d\r\n",
      "  Stored in directory: /Users/v.venkov/Library/Caches/pip/wheels/42/41/d3/a56ae864ad22cc6583ec9312be43fbc611c87e53dc49aac953\r\n",
      "Successfully built scikit-surprise\r\n",
      "Installing collected packages: scikit-surprise, surprise\r\n",
      "Successfully installed scikit-surprise-1.1.4 surprise-0.1\r\n"
     ]
    }
   ],
   "source": [
    "\n",
    "!pip install surprise"
   ]
  },
  {
   "cell_type": "code",
   "execution_count": 1,
   "outputs": [],
   "source": [
    "import pandas as pd\n",
    "import numpy as np\n",
    "from scipy.stats import mode\n",
    "import random\n",
    "\n",
    "from surprise import Dataset, Reader, SVD\n",
    "from surprise.model_selection import train_test_split\n",
    "from surprise import accuracy\n",
    "\n",
    "from tqdm import tqdm"
   ],
   "metadata": {
    "collapsed": false,
    "pycharm": {
     "name": "#%%\n"
    }
   }
  },
  {
   "cell_type": "code",
   "execution_count": 3,
   "outputs": [
    {
     "name": "stdout",
     "output_type": "stream",
     "text": [
      "  user_id  article_id  scroll_percentage\n",
      "0  user_1         101                 50\n",
      "0  user_1         102                 60\n",
      "0  user_1         103                 70\n",
      "1  user_2         104                 80\n",
      "1  user_2         105                 90\n"
     ]
    }
   ],
   "source": [],
   "metadata": {
    "collapsed": false,
    "pycharm": {
     "name": "#%%\n"
    }
   }
  },
  {
   "cell_type": "code",
   "execution_count": 10,
   "outputs": [
    {
     "name": "stdout",
     "output_type": "stream",
     "text": [
      "(232887, 17)\n",
      "(2426247, 5)\n",
      "(2585747, 17)\n",
      "       user_id  article_id  scroll_percentage\n",
      "0        13538     9738663              100.0\n",
      "0        13538     9738569               35.0\n",
      "0        13538     9738663              100.0\n",
      "0        13538     9738490               24.0\n",
      "0        13538     9738663              100.0\n",
      "...        ...         ...                ...\n",
      "15142  1710834     9770741               20.0\n",
      "15142  1710834     9770594               43.0\n",
      "15142  1710834     9728166               99.0\n",
      "15142  1710834     9769433               99.0\n",
      "15142  1710834     9770452               48.0\n",
      "\n",
      "[2171171 rows x 3 columns]\n"
     ]
    }
   ],
   "source": [
    "df_b = pd.read_parquet('ebnerd_small/train/behaviors.parquet')\n",
    "df_h = pd.read_parquet('ebnerd_small/train/history.parquet')\n",
    "print(df_b.shape)\n",
    "df_h_e = df_h.explode('article_id_fixed')\n",
    "print(df_h_e.shape)\n",
    "df_b_exploded = df_b.explode('article_ids_inview')\n",
    "print(df_b_exploded.shape)\n",
    "# Create a new column that zips article_id_fixed and scroll_percentage_fixed\n",
    "df_h['zipped'] = df_h.apply(lambda row: list(zip(row['article_id_fixed'], row['scroll_percentage_fixed'])), axis=1)\n",
    "\n",
    "# Explode the new zipped column\n",
    "df_exploded = df_h.explode('zipped')\n",
    "\n",
    "# Split the zipped column into two separate columns\n",
    "df_exploded[['article_id', 'scroll_percentage']] = pd.DataFrame(df_exploded['zipped'].tolist(), index=df_exploded.index)\n",
    "\n",
    "# Drop the unnecessary columns\n",
    "df_exploded = df_exploded.drop(columns=['article_id_fixed', 'scroll_percentage_fixed', 'zipped', 'impression_time_fixed', 'read_time_fixed'])\n",
    "\n",
    "df_exploded = df_exploded.dropna(subset=['scroll_percentage'])\n",
    "\n",
    "df_exploded.columns = ['user_id', 'article_ids_inview', 'rating']\n",
    "\n",
    "# Display the DataFrame\n",
    "print(df_exploded)"
   ],
   "metadata": {
    "collapsed": false,
    "pycharm": {
     "name": "#%%\n"
    }
   }
  },
  {
   "cell_type": "code",
   "execution_count": null,
   "outputs": [],
   "source": [],
   "metadata": {
    "collapsed": false,
    "pycharm": {
     "name": "#%%\n"
    }
   }
  },
  {
   "cell_type": "code",
   "execution_count": 11,
   "outputs": [
    {
     "data": {
      "text/plain": "<surprise.prediction_algorithms.matrix_factorization.SVD at 0x1775d2370>"
     },
     "execution_count": 11,
     "metadata": {},
     "output_type": "execute_result"
    }
   ],
   "source": [
    "reader = Reader(rating_scale=(0, 100))\n",
    "\n",
    "data = Dataset.load_from_df(df_exploded[['user_id', 'article_ids_inview', 'rating']], reader)\n",
    "\n",
    "trainset = data.build_full_trainset()\n",
    "\n",
    "# Define the SVD algorithm\n",
    "algo = SVD()\n",
    "\n",
    "# Train the algorithm on the training set\n",
    "algo.fit(trainset)"
   ],
   "metadata": {
    "collapsed": false,
    "pycharm": {
     "name": "#%%\n"
    }
   }
  },
  {
   "cell_type": "code",
   "execution_count": 11,
   "outputs": [],
   "source": [],
   "metadata": {
    "collapsed": false,
    "pycharm": {
     "name": "#%%\n"
    }
   }
  },
  {
   "cell_type": "code",
   "execution_count": 12,
   "outputs": [],
   "source": [
    "df_val = pd.read_parquet('ebnerd_small/validation/behaviors.parquet')\n",
    "\n",
    "df_val['predicted_article_id'] = df_val['article_ids_clicked'].apply(lambda ids: ids[0])"
   ],
   "metadata": {
    "collapsed": false,
    "pycharm": {
     "name": "#%%\n"
    }
   }
  },
  {
   "cell_type": "code",
   "execution_count": 62,
   "outputs": [],
   "source": [],
   "metadata": {
    "collapsed": false,
    "pycharm": {
     "name": "#%%\n"
    }
   }
  },
  {
   "cell_type": "code",
   "execution_count": 13,
   "outputs": [
    {
     "name": "stderr",
     "output_type": "stream",
     "text": [
      "61it [00:01, 56.88it/s]"
     ]
    },
    {
     "name": "stdout",
     "output_type": "stream",
     "text": [
      "Predicted 100%: 0\n",
      "Right: 1\n",
      "Wrong: 0\n",
      "All correct: 1\n",
      "Guessed only one, but it is wrong: 0\n"
     ]
    },
    {
     "name": "stderr",
     "output_type": "stream",
     "text": [
      "25215it [00:32, 768.20it/s]"
     ]
    },
    {
     "name": "stdout",
     "output_type": "stream",
     "text": [
      "Predicted 100%: 7\n",
      "Right: 2648\n",
      "Wrong: 22346\n",
      "All correct: 2655\n",
      "Guessed only one, but it is wrong: 994\n"
     ]
    },
    {
     "name": "stderr",
     "output_type": "stream",
     "text": [
      "50175it [01:04, 782.63it/s]"
     ]
    },
    {
     "name": "stdout",
     "output_type": "stream",
     "text": [
      "Predicted 100%: 20\n",
      "Right: 5352\n",
      "Wrong: 44629\n",
      "All correct: 5372\n",
      "Guessed only one, but it is wrong: 1973\n"
     ]
    },
    {
     "name": "stderr",
     "output_type": "stream",
     "text": [
      "75100it [01:35, 792.40it/s]"
     ]
    },
    {
     "name": "stdout",
     "output_type": "stream",
     "text": [
      "Predicted 100%: 33\n",
      "Right: 8074\n",
      "Wrong: 66894\n",
      "All correct: 8107\n",
      "Guessed only one, but it is wrong: 2970\n"
     ]
    },
    {
     "name": "stderr",
     "output_type": "stream",
     "text": [
      "100244it [02:06, 827.19it/s]"
     ]
    },
    {
     "name": "stdout",
     "output_type": "stream",
     "text": [
      "Predicted 100%: 39\n",
      "Right: 10861\n",
      "Wrong: 89101\n",
      "All correct: 10900\n",
      "Guessed only one, but it is wrong: 4009\n"
     ]
    },
    {
     "name": "stderr",
     "output_type": "stream",
     "text": [
      "125110it [02:36, 842.58it/s]"
     ]
    },
    {
     "name": "stdout",
     "output_type": "stream",
     "text": [
      "Predicted 100%: 54\n",
      "Right: 13592\n",
      "Wrong: 111355\n",
      "All correct: 13646\n",
      "Guessed only one, but it is wrong: 5009\n"
     ]
    },
    {
     "name": "stderr",
     "output_type": "stream",
     "text": [
      "150253it [03:11, 835.41it/s]"
     ]
    },
    {
     "name": "stdout",
     "output_type": "stream",
     "text": [
      "Predicted 100%: 70\n",
      "Right: 16242\n",
      "Wrong: 133689\n",
      "All correct: 16312\n",
      "Guessed only one, but it is wrong: 6024\n"
     ]
    },
    {
     "name": "stderr",
     "output_type": "stream",
     "text": [
      "175170it [03:42, 841.26it/s]"
     ]
    },
    {
     "name": "stdout",
     "output_type": "stream",
     "text": [
      "Predicted 100%: 80\n",
      "Right: 18935\n",
      "Wrong: 155986\n",
      "All correct: 19015\n",
      "Guessed only one, but it is wrong: 6957\n"
     ]
    },
    {
     "name": "stderr",
     "output_type": "stream",
     "text": [
      "200250it [04:13, 844.84it/s]"
     ]
    },
    {
     "name": "stdout",
     "output_type": "stream",
     "text": [
      "Predicted 100%: 94\n",
      "Right: 21587\n",
      "Wrong: 178320\n",
      "All correct: 21681\n",
      "Guessed only one, but it is wrong: 8029\n"
     ]
    },
    {
     "name": "stderr",
     "output_type": "stream",
     "text": [
      "225156it [04:43, 821.82it/s]"
     ]
    },
    {
     "name": "stdout",
     "output_type": "stream",
     "text": [
      "Predicted 100%: 109\n",
      "Right: 24163\n",
      "Wrong: 200729\n",
      "All correct: 24272\n",
      "Guessed only one, but it is wrong: 9048\n"
     ]
    },
    {
     "name": "stderr",
     "output_type": "stream",
     "text": [
      "244647it [05:08, 792.50it/s]"
     ]
    },
    {
     "name": "stdout",
     "output_type": "stream",
     "text": [
      "Predicted 100%: 120\n",
      "Right: 26281\n",
      "Wrong: 218246\n",
      "All correct: 26401\n"
     ]
    },
    {
     "name": "stderr",
     "output_type": "stream",
     "text": [
      "\n"
     ]
    }
   ],
   "source": [
    "predicted100p = 0\n",
    "guessed_right = 0\n",
    "guessed_wrong = 0\n",
    "guessed1_but_wrong = 0\n",
    "for i, row in tqdm(df_val.iterrows()):\n",
    "    user = row[\"user_id\"]\n",
    "    inview = row[\"article_ids_inview\"]\n",
    "    actuals = row[\"article_ids_clicked\"]\n",
    "    exploded = pd.DataFrame({\n",
    "    'user_id': [user] * len(inview),\n",
    "    'article_ids_inview': inview,\n",
    "    'fake': 0\n",
    "    })\n",
    "    for_pred = list(exploded.itertuples(index=False, name=None))\n",
    "\n",
    "    predictions_val = algo.test(for_pred)\n",
    "    predictions_df_ans = pd.DataFrame([(pred.uid, pred.iid, pred.est) for pred in predictions_val],\n",
    "                              columns=['uid', 'iid', 'est'])\n",
    "    predictions_df_ans = predictions_df_ans.sort_values(by='est', ascending=False).reset_index(drop=True)\n",
    "    max_est = predictions_df_ans['est'].max()\n",
    "    filtered_df = predictions_df_ans[predictions_df_ans['est'] == max_est].reset_index(drop=True)\n",
    "\n",
    "    if len(filtered_df['iid']) == 1 and filtered_df['iid'][0] in actuals:\n",
    "        predicted100p += 1\n",
    "    elif len(filtered_df['iid']) == 1:\n",
    "        guessed1_but_wrong += 1\n",
    "        guessed_wrong += 1\n",
    "    elif random.choice(filtered_df['iid']) in actuals:\n",
    "        guessed_right += 1\n",
    "    else:\n",
    "        guessed_wrong += 1\n",
    "    if i % 25000 == 0:\n",
    "        print(f\"Predicted 100%: {predicted100p}\")\n",
    "        print(f\"Right: {guessed_right}\")\n",
    "        print(f\"Wrong: {guessed_wrong}\")\n",
    "        print(f\"All correct: {predicted100p + guessed_right}\")\n",
    "        print(f\"Guessed only one, but it is wrong: {guessed1_but_wrong}\")\n",
    "\n",
    "print(f\"Predicted 100%: {predicted100p}\")\n",
    "print(f\"Right: {guessed_right}\")\n",
    "print(f\"Wrong: {guessed_wrong}\")\n",
    "print(f\"All correct: {predicted100p + guessed_right}\")\n"
   ],
   "metadata": {
    "collapsed": false,
    "pycharm": {
     "name": "#%%\n"
    }
   }
  },
  {
   "cell_type": "code",
   "execution_count": 14,
   "outputs": [
    {
     "name": "stdout",
     "output_type": "stream",
     "text": [
      "0.10791466889027865\n"
     ]
    }
   ],
   "source": [
    "print ((predicted100p + guessed_right) / (predicted100p + guessed_right + guessed_wrong))\n"
   ],
   "metadata": {
    "collapsed": false,
    "pycharm": {
     "name": "#%%\n"
    }
   }
  },
  {
   "cell_type": "code",
   "execution_count": null,
   "outputs": [],
   "source": [],
   "metadata": {
    "collapsed": false,
    "pycharm": {
     "name": "#%%\n"
    }
   }
  }
 ],
 "metadata": {
  "kernelspec": {
   "display_name": "Python 3",
   "language": "python",
   "name": "python3"
  },
  "language_info": {
   "codemirror_mode": {
    "name": "ipython",
    "version": 2
   },
   "file_extension": ".py",
   "mimetype": "text/x-python",
   "name": "python",
   "nbconvert_exporter": "python",
   "pygments_lexer": "ipython2",
   "version": "2.7.6"
  }
 },
 "nbformat": 4,
 "nbformat_minor": 0
}