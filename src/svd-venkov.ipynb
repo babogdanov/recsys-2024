{
 "cells": [
  {
   "cell_type": "code",
   "execution_count": 1,
   "metadata": {
    "collapsed": true
   },
   "outputs": [
    {
     "name": "stdout",
     "output_type": "stream",
     "text": [
      "Collecting surprise\r\n",
      "  Downloading surprise-0.1-py2.py3-none-any.whl.metadata (327 bytes)\r\n",
      "Collecting scikit-surprise (from surprise)\r\n",
      "  Downloading scikit_surprise-1.1.4.tar.gz (154 kB)\r\n",
      "\u001B[2K     \u001B[90m━━━━━━━━━━━━━━━━━━━━━━━━━━━━━━━━━━━━━━━\u001B[0m \u001B[32m154.4/154.4 kB\u001B[0m \u001B[31m1.4 MB/s\u001B[0m eta \u001B[36m0:00:00\u001B[0ma \u001B[36m0:00:01\u001B[0m\r\n",
      "\u001B[?25h  Installing build dependencies ... \u001B[?25l-\b \b\\\b \b|\b \b/\b \b-\b \b\\\b \b|\b \b/\b \b-\b \b\\\b \b|\b \b/\b \b-\b \b\\\b \b|\b \b/\b \bdone\r\n",
      "\u001B[?25h  Getting requirements to build wheel ... \u001B[?25l-\b \b\\\b \bdone\r\n",
      "\u001B[?25h  Preparing metadata (pyproject.toml) ... \u001B[?25l-\b \bdone\r\n",
      "\u001B[?25hRequirement already satisfied: joblib>=1.2.0 in /Users/v.venkov/projects/study-jupyter-templates/venv/lib/python3.9/site-packages (from scikit-surprise->surprise) (1.4.2)\r\n",
      "Requirement already satisfied: numpy>=1.19.5 in /Users/v.venkov/projects/study-jupyter-templates/venv/lib/python3.9/site-packages (from scikit-surprise->surprise) (1.26.4)\r\n",
      "Requirement already satisfied: scipy>=1.6.0 in /Users/v.venkov/projects/study-jupyter-templates/venv/lib/python3.9/site-packages (from scikit-surprise->surprise) (1.13.1)\r\n",
      "Downloading surprise-0.1-py2.py3-none-any.whl (1.8 kB)\r\n",
      "Building wheels for collected packages: scikit-surprise\r\n",
      "  Building wheel for scikit-surprise (pyproject.toml) ... \u001B[?25l-\b \b\\\b \b|\b \b/\b \b-\b \b\\\b \b|\b \b/\b \b-\b \bdone\r\n",
      "\u001B[?25h  Created wheel for scikit-surprise: filename=scikit_surprise-1.1.4-cp39-cp39-macosx_10_15_x86_64.whl size=568159 sha256=870fbc2a956d5601bb307f98286467fb81960c70dcab352b9a2310da4e6af51d\r\n",
      "  Stored in directory: /Users/v.venkov/Library/Caches/pip/wheels/42/41/d3/a56ae864ad22cc6583ec9312be43fbc611c87e53dc49aac953\r\n",
      "Successfully built scikit-surprise\r\n",
      "Installing collected packages: scikit-surprise, surprise\r\n",
      "Successfully installed scikit-surprise-1.1.4 surprise-0.1\r\n"
     ]
    }
   ],
   "source": [
    "\n",
    "!pip install surprise"
   ]
  },
  {
   "cell_type": "code",
   "execution_count": 53,
   "outputs": [],
   "source": [
    "import pandas as pd\n",
    "import numpy as np\n",
    "from scipy.stats import mode\n",
    "import random\n",
    "\n",
    "from surprise import Dataset, Reader, SVD\n",
    "from surprise.model_selection import train_test_split\n",
    "from surprise import accuracy\n",
    "\n",
    "from tqdm import tqdm"
   ],
   "metadata": {
    "collapsed": false,
    "pycharm": {
     "name": "#%%\n"
    }
   }
  },
  {
   "cell_type": "code",
   "execution_count": 58,
   "outputs": [],
   "source": [
    "\n",
    "df = pd.read_parquet('ebnerd_small/train/behaviors.parquet')\n",
    "\n",
    "df['predicted_article_id'] = df['article_ids_clicked'].apply(lambda ids: ids[0])\n",
    "df_exploded = df.explode('article_ids_inview')\n",
    "\n",
    "# Add a column to indicate if the article was recommended\n",
    "df_exploded['rating'] = (df_exploded['predicted_article_id'] == df_exploded['article_ids_inview']).astype(int)\n",
    "\n",
    "def find_mode(series):\n",
    "    return mode(series).mode\n",
    "\n",
    "mode_ratings = df_exploded.groupby(['user_id', 'article_ids_inview'])['rating'].agg(find_mode).reset_index()\n",
    "\n",
    "# Rename columns for clarity\n",
    "mode_ratings.columns = ['user_id', 'article_ids_inview', 'rating']"
   ],
   "metadata": {
    "collapsed": false,
    "pycharm": {
     "name": "#%%\n"
    }
   }
  },
  {
   "cell_type": "code",
   "execution_count": 61,
   "outputs": [
    {
     "data": {
      "text/plain": "<surprise.prediction_algorithms.matrix_factorization.SVD at 0x2110dc820>"
     },
     "execution_count": 61,
     "metadata": {},
     "output_type": "execute_result"
    }
   ],
   "source": [
    "reader = Reader(rating_scale=(0, 1))\n",
    "\n",
    "data = Dataset.load_from_df(mode_ratings[['user_id', 'article_ids_inview', 'rating']], reader)\n",
    "\n",
    "trainset = data.build_full_trainset()\n",
    "\n",
    "# Define the SVD algorithm\n",
    "algo = SVD()\n",
    "\n",
    "# Train the algorithm on the training set\n",
    "algo.fit(trainset)"
   ],
   "metadata": {
    "collapsed": false,
    "pycharm": {
     "name": "#%%\n"
    }
   }
  },
  {
   "cell_type": "code",
   "execution_count": 34,
   "outputs": [
    {
     "ename": "KeyboardInterrupt",
     "evalue": "",
     "output_type": "error",
     "traceback": [
      "\u001B[0;31m---------------------------------------------------------------------------\u001B[0m",
      "\u001B[0;31mKeyboardInterrupt\u001B[0m                         Traceback (most recent call last)",
      "\u001B[0;32m/var/folders/2b/f71znfwd1tj_w3bgdq7lj8pw9drw7y/T/ipykernel_28800/3391995629.py\u001B[0m in \u001B[0;36m<module>\u001B[0;34m\u001B[0m\n\u001B[1;32m     10\u001B[0m     \u001B[0;32mreturn\u001B[0m \u001B[0mmode\u001B[0m\u001B[0;34m(\u001B[0m\u001B[0mseries\u001B[0m\u001B[0;34m)\u001B[0m\u001B[0;34m.\u001B[0m\u001B[0mmode\u001B[0m\u001B[0;34m\u001B[0m\u001B[0;34m\u001B[0m\u001B[0m\n\u001B[1;32m     11\u001B[0m \u001B[0;34m\u001B[0m\u001B[0m\n\u001B[0;32m---> 12\u001B[0;31m \u001B[0mmode_ratings_val\u001B[0m \u001B[0;34m=\u001B[0m \u001B[0mdf_exploded_val\u001B[0m\u001B[0;34m.\u001B[0m\u001B[0mgroupby\u001B[0m\u001B[0;34m(\u001B[0m\u001B[0;34m[\u001B[0m\u001B[0;34m'user_id'\u001B[0m\u001B[0;34m,\u001B[0m \u001B[0;34m'article_ids_inview'\u001B[0m\u001B[0;34m]\u001B[0m\u001B[0;34m)\u001B[0m\u001B[0;34m[\u001B[0m\u001B[0;34m'rating'\u001B[0m\u001B[0;34m]\u001B[0m\u001B[0;34m.\u001B[0m\u001B[0magg\u001B[0m\u001B[0;34m(\u001B[0m\u001B[0mfind_mode\u001B[0m\u001B[0;34m)\u001B[0m\u001B[0;34m.\u001B[0m\u001B[0mreset_index\u001B[0m\u001B[0;34m(\u001B[0m\u001B[0;34m)\u001B[0m\u001B[0;34m\u001B[0m\u001B[0;34m\u001B[0m\u001B[0m\n\u001B[0m\u001B[1;32m     13\u001B[0m \u001B[0;34m\u001B[0m\u001B[0m\n\u001B[1;32m     14\u001B[0m \u001B[0;31m# Rename columns for clarity\u001B[0m\u001B[0;34m\u001B[0m\u001B[0;34m\u001B[0m\u001B[0;34m\u001B[0m\u001B[0m\n",
      "\u001B[0;32m~/projects/study-jupyter-templates/venv/lib/python3.9/site-packages/pandas/core/groupby/generic.py\u001B[0m in \u001B[0;36maggregate\u001B[0;34m(self, func, engine, engine_kwargs, *args, **kwargs)\u001B[0m\n\u001B[1;32m    275\u001B[0m                 )\n\u001B[1;32m    276\u001B[0m \u001B[0;34m\u001B[0m\u001B[0m\n\u001B[0;32m--> 277\u001B[0;31m             \u001B[0;32mif\u001B[0m \u001B[0mself\u001B[0m\u001B[0;34m.\u001B[0m\u001B[0mngroups\u001B[0m \u001B[0;34m==\u001B[0m \u001B[0;36m0\u001B[0m\u001B[0;34m:\u001B[0m\u001B[0;34m\u001B[0m\u001B[0;34m\u001B[0m\u001B[0m\n\u001B[0m\u001B[1;32m    278\u001B[0m                 \u001B[0;31m# e.g. test_evaluate_with_empty_groups without any groups to\u001B[0m\u001B[0;34m\u001B[0m\u001B[0;34m\u001B[0m\u001B[0;34m\u001B[0m\u001B[0m\n\u001B[1;32m    279\u001B[0m                 \u001B[0;31m#  iterate over, we have no output on which to do dtype\u001B[0m\u001B[0;34m\u001B[0m\u001B[0;34m\u001B[0m\u001B[0;34m\u001B[0m\u001B[0m\n",
      "\u001B[0;32m~/projects/study-jupyter-templates/venv/lib/python3.9/site-packages/pandas/core/groupby/groupby.py\u001B[0m in \u001B[0;36mngroups\u001B[0;34m(self)\u001B[0m\n\u001B[1;32m    854\u001B[0m     \u001B[0;34m@\u001B[0m\u001B[0mproperty\u001B[0m\u001B[0;34m\u001B[0m\u001B[0;34m\u001B[0m\u001B[0m\n\u001B[1;32m    855\u001B[0m     \u001B[0;32mdef\u001B[0m \u001B[0mngroups\u001B[0m\u001B[0;34m(\u001B[0m\u001B[0mself\u001B[0m\u001B[0;34m)\u001B[0m \u001B[0;34m->\u001B[0m \u001B[0mint\u001B[0m\u001B[0;34m:\u001B[0m\u001B[0;34m\u001B[0m\u001B[0;34m\u001B[0m\u001B[0m\n\u001B[0;32m--> 856\u001B[0;31m         \u001B[0;32mreturn\u001B[0m \u001B[0mself\u001B[0m\u001B[0;34m.\u001B[0m\u001B[0m_grouper\u001B[0m\u001B[0;34m.\u001B[0m\u001B[0mngroups\u001B[0m\u001B[0;34m\u001B[0m\u001B[0;34m\u001B[0m\u001B[0m\n\u001B[0m\u001B[1;32m    857\u001B[0m \u001B[0;34m\u001B[0m\u001B[0m\n\u001B[1;32m    858\u001B[0m     \u001B[0;34m@\u001B[0m\u001B[0mfinal\u001B[0m\u001B[0;34m\u001B[0m\u001B[0;34m\u001B[0m\u001B[0m\n",
      "\u001B[0;32mproperties.pyx\u001B[0m in \u001B[0;36mpandas._libs.properties.CachedProperty.__get__\u001B[0;34m()\u001B[0m\n",
      "\u001B[0;32m~/projects/study-jupyter-templates/venv/lib/python3.9/site-packages/pandas/core/groupby/ops.py\u001B[0m in \u001B[0;36mngroups\u001B[0;34m(self)\u001B[0m\n\u001B[1;32m    772\u001B[0m     \u001B[0;34m@\u001B[0m\u001B[0mcache_readonly\u001B[0m\u001B[0;34m\u001B[0m\u001B[0;34m\u001B[0m\u001B[0m\n\u001B[1;32m    773\u001B[0m     \u001B[0;32mdef\u001B[0m \u001B[0mngroups\u001B[0m\u001B[0;34m(\u001B[0m\u001B[0mself\u001B[0m\u001B[0;34m)\u001B[0m \u001B[0;34m->\u001B[0m \u001B[0mint\u001B[0m\u001B[0;34m:\u001B[0m\u001B[0;34m\u001B[0m\u001B[0;34m\u001B[0m\u001B[0m\n\u001B[0;32m--> 774\u001B[0;31m         \u001B[0;32mreturn\u001B[0m \u001B[0mlen\u001B[0m\u001B[0;34m(\u001B[0m\u001B[0mself\u001B[0m\u001B[0;34m.\u001B[0m\u001B[0mresult_index\u001B[0m\u001B[0;34m)\u001B[0m\u001B[0;34m\u001B[0m\u001B[0;34m\u001B[0m\u001B[0m\n\u001B[0m\u001B[1;32m    775\u001B[0m \u001B[0;34m\u001B[0m\u001B[0m\n\u001B[1;32m    776\u001B[0m     \u001B[0;34m@\u001B[0m\u001B[0mproperty\u001B[0m\u001B[0;34m\u001B[0m\u001B[0;34m\u001B[0m\u001B[0m\n",
      "\u001B[0;32mproperties.pyx\u001B[0m in \u001B[0;36mpandas._libs.properties.CachedProperty.__get__\u001B[0;34m()\u001B[0m\n",
      "\u001B[0;32m~/projects/study-jupyter-templates/venv/lib/python3.9/site-packages/pandas/core/groupby/ops.py\u001B[0m in \u001B[0;36mresult_index\u001B[0;34m(self)\u001B[0m\n\u001B[1;32m    787\u001B[0m         \u001B[0mcodes\u001B[0m \u001B[0;34m=\u001B[0m \u001B[0mself\u001B[0m\u001B[0;34m.\u001B[0m\u001B[0mreconstructed_codes\u001B[0m\u001B[0;34m\u001B[0m\u001B[0;34m\u001B[0m\u001B[0m\n\u001B[1;32m    788\u001B[0m         \u001B[0mlevels\u001B[0m \u001B[0;34m=\u001B[0m \u001B[0;34m[\u001B[0m\u001B[0mping\u001B[0m\u001B[0;34m.\u001B[0m\u001B[0m_result_index\u001B[0m \u001B[0;32mfor\u001B[0m \u001B[0mping\u001B[0m \u001B[0;32min\u001B[0m \u001B[0mself\u001B[0m\u001B[0;34m.\u001B[0m\u001B[0mgroupings\u001B[0m\u001B[0;34m]\u001B[0m\u001B[0;34m\u001B[0m\u001B[0;34m\u001B[0m\u001B[0m\n\u001B[0;32m--> 789\u001B[0;31m         return MultiIndex(\n\u001B[0m\u001B[1;32m    790\u001B[0m             \u001B[0mlevels\u001B[0m\u001B[0;34m=\u001B[0m\u001B[0mlevels\u001B[0m\u001B[0;34m,\u001B[0m \u001B[0mcodes\u001B[0m\u001B[0;34m=\u001B[0m\u001B[0mcodes\u001B[0m\u001B[0;34m,\u001B[0m \u001B[0mverify_integrity\u001B[0m\u001B[0;34m=\u001B[0m\u001B[0;32mFalse\u001B[0m\u001B[0;34m,\u001B[0m \u001B[0mnames\u001B[0m\u001B[0;34m=\u001B[0m\u001B[0mself\u001B[0m\u001B[0;34m.\u001B[0m\u001B[0mnames\u001B[0m\u001B[0;34m\u001B[0m\u001B[0;34m\u001B[0m\u001B[0m\n\u001B[1;32m    791\u001B[0m         )\n",
      "\u001B[0;32m~/projects/study-jupyter-templates/venv/lib/python3.9/site-packages/pandas/core/indexes/multi.py\u001B[0m in \u001B[0;36m__new__\u001B[0;34m(cls, levels, codes, sortorder, names, dtype, copy, name, verify_integrity)\u001B[0m\n\u001B[1;32m    349\u001B[0m         \u001B[0;31m# we've already validated levels and codes, so shortcut here\u001B[0m\u001B[0;34m\u001B[0m\u001B[0;34m\u001B[0m\u001B[0;34m\u001B[0m\u001B[0m\n\u001B[1;32m    350\u001B[0m         \u001B[0mresult\u001B[0m\u001B[0;34m.\u001B[0m\u001B[0m_set_levels\u001B[0m\u001B[0;34m(\u001B[0m\u001B[0mlevels\u001B[0m\u001B[0;34m,\u001B[0m \u001B[0mcopy\u001B[0m\u001B[0;34m=\u001B[0m\u001B[0mcopy\u001B[0m\u001B[0;34m,\u001B[0m \u001B[0mvalidate\u001B[0m\u001B[0;34m=\u001B[0m\u001B[0;32mFalse\u001B[0m\u001B[0;34m)\u001B[0m\u001B[0;34m\u001B[0m\u001B[0;34m\u001B[0m\u001B[0m\n\u001B[0;32m--> 351\u001B[0;31m         \u001B[0mresult\u001B[0m\u001B[0;34m.\u001B[0m\u001B[0m_set_codes\u001B[0m\u001B[0;34m(\u001B[0m\u001B[0mcodes\u001B[0m\u001B[0;34m,\u001B[0m \u001B[0mcopy\u001B[0m\u001B[0;34m=\u001B[0m\u001B[0mcopy\u001B[0m\u001B[0;34m,\u001B[0m \u001B[0mvalidate\u001B[0m\u001B[0;34m=\u001B[0m\u001B[0;32mFalse\u001B[0m\u001B[0;34m)\u001B[0m\u001B[0;34m\u001B[0m\u001B[0;34m\u001B[0m\u001B[0m\n\u001B[0m\u001B[1;32m    352\u001B[0m \u001B[0;34m\u001B[0m\u001B[0m\n\u001B[1;32m    353\u001B[0m         \u001B[0mresult\u001B[0m\u001B[0;34m.\u001B[0m\u001B[0m_names\u001B[0m \u001B[0;34m=\u001B[0m \u001B[0;34m[\u001B[0m\u001B[0;32mNone\u001B[0m\u001B[0;34m]\u001B[0m \u001B[0;34m*\u001B[0m \u001B[0mlen\u001B[0m\u001B[0;34m(\u001B[0m\u001B[0mlevels\u001B[0m\u001B[0;34m)\u001B[0m\u001B[0;34m\u001B[0m\u001B[0;34m\u001B[0m\u001B[0m\n",
      "\u001B[0;32m~/projects/study-jupyter-templates/venv/lib/python3.9/site-packages/pandas/core/indexes/multi.py\u001B[0m in \u001B[0;36m_set_codes\u001B[0;34m(self, codes, level, copy, validate, verify_integrity)\u001B[0m\n\u001B[1;32m   1100\u001B[0m         \u001B[0mlevel_numbers\u001B[0m\u001B[0;34m:\u001B[0m \u001B[0mlist\u001B[0m\u001B[0;34m[\u001B[0m\u001B[0mint\u001B[0m\u001B[0;34m]\u001B[0m \u001B[0;34m|\u001B[0m \u001B[0mrange\u001B[0m\u001B[0;34m\u001B[0m\u001B[0;34m\u001B[0m\u001B[0m\n\u001B[1;32m   1101\u001B[0m         \u001B[0;32mif\u001B[0m \u001B[0mlevel\u001B[0m \u001B[0;32mis\u001B[0m \u001B[0;32mNone\u001B[0m\u001B[0;34m:\u001B[0m\u001B[0;34m\u001B[0m\u001B[0;34m\u001B[0m\u001B[0m\n\u001B[0;32m-> 1102\u001B[0;31m             new_codes = FrozenList(\n\u001B[0m\u001B[1;32m   1103\u001B[0m                 \u001B[0m_coerce_indexer_frozen\u001B[0m\u001B[0;34m(\u001B[0m\u001B[0mlevel_codes\u001B[0m\u001B[0;34m,\u001B[0m \u001B[0mlev\u001B[0m\u001B[0;34m,\u001B[0m \u001B[0mcopy\u001B[0m\u001B[0;34m=\u001B[0m\u001B[0mcopy\u001B[0m\u001B[0;34m)\u001B[0m\u001B[0;34m.\u001B[0m\u001B[0mview\u001B[0m\u001B[0;34m(\u001B[0m\u001B[0;34m)\u001B[0m\u001B[0;34m\u001B[0m\u001B[0;34m\u001B[0m\u001B[0m\n\u001B[1;32m   1104\u001B[0m                 \u001B[0;32mfor\u001B[0m \u001B[0mlev\u001B[0m\u001B[0;34m,\u001B[0m \u001B[0mlevel_codes\u001B[0m \u001B[0;32min\u001B[0m \u001B[0mzip\u001B[0m\u001B[0;34m(\u001B[0m\u001B[0mself\u001B[0m\u001B[0;34m.\u001B[0m\u001B[0m_levels\u001B[0m\u001B[0;34m,\u001B[0m \u001B[0mcodes\u001B[0m\u001B[0;34m)\u001B[0m\u001B[0;34m\u001B[0m\u001B[0;34m\u001B[0m\u001B[0m\n",
      "\u001B[0;32m~/projects/study-jupyter-templates/venv/lib/python3.9/site-packages/pandas/core/indexes/multi.py\u001B[0m in \u001B[0;36m<genexpr>\u001B[0;34m(.0)\u001B[0m\n\u001B[1;32m   1101\u001B[0m         \u001B[0;32mif\u001B[0m \u001B[0mlevel\u001B[0m \u001B[0;32mis\u001B[0m \u001B[0;32mNone\u001B[0m\u001B[0;34m:\u001B[0m\u001B[0;34m\u001B[0m\u001B[0;34m\u001B[0m\u001B[0m\n\u001B[1;32m   1102\u001B[0m             new_codes = FrozenList(\n\u001B[0;32m-> 1103\u001B[0;31m                 \u001B[0m_coerce_indexer_frozen\u001B[0m\u001B[0;34m(\u001B[0m\u001B[0mlevel_codes\u001B[0m\u001B[0;34m,\u001B[0m \u001B[0mlev\u001B[0m\u001B[0;34m,\u001B[0m \u001B[0mcopy\u001B[0m\u001B[0;34m=\u001B[0m\u001B[0mcopy\u001B[0m\u001B[0;34m)\u001B[0m\u001B[0;34m.\u001B[0m\u001B[0mview\u001B[0m\u001B[0;34m(\u001B[0m\u001B[0;34m)\u001B[0m\u001B[0;34m\u001B[0m\u001B[0;34m\u001B[0m\u001B[0m\n\u001B[0m\u001B[1;32m   1104\u001B[0m                 \u001B[0;32mfor\u001B[0m \u001B[0mlev\u001B[0m\u001B[0;34m,\u001B[0m \u001B[0mlevel_codes\u001B[0m \u001B[0;32min\u001B[0m \u001B[0mzip\u001B[0m\u001B[0;34m(\u001B[0m\u001B[0mself\u001B[0m\u001B[0;34m.\u001B[0m\u001B[0m_levels\u001B[0m\u001B[0;34m,\u001B[0m \u001B[0mcodes\u001B[0m\u001B[0;34m)\u001B[0m\u001B[0;34m\u001B[0m\u001B[0;34m\u001B[0m\u001B[0m\n\u001B[1;32m   1105\u001B[0m             )\n",
      "\u001B[0;32m~/projects/study-jupyter-templates/venv/lib/python3.9/site-packages/pandas/core/indexes/multi.py\u001B[0m in \u001B[0;36m_coerce_indexer_frozen\u001B[0;34m(array_like, categories, copy)\u001B[0m\n\u001B[1;32m   4134\u001B[0m         \u001B[0mNon\u001B[0m\u001B[0;34m-\u001B[0m\u001B[0mwriteable\u001B[0m\u001B[0;34m.\u001B[0m\u001B[0;34m\u001B[0m\u001B[0;34m\u001B[0m\u001B[0m\n\u001B[1;32m   4135\u001B[0m     \"\"\"\n\u001B[0;32m-> 4136\u001B[0;31m     \u001B[0marray_like\u001B[0m \u001B[0;34m=\u001B[0m \u001B[0mcoerce_indexer_dtype\u001B[0m\u001B[0;34m(\u001B[0m\u001B[0marray_like\u001B[0m\u001B[0;34m,\u001B[0m \u001B[0mcategories\u001B[0m\u001B[0;34m)\u001B[0m\u001B[0;34m\u001B[0m\u001B[0;34m\u001B[0m\u001B[0m\n\u001B[0m\u001B[1;32m   4137\u001B[0m     \u001B[0;32mif\u001B[0m \u001B[0mcopy\u001B[0m\u001B[0;34m:\u001B[0m\u001B[0;34m\u001B[0m\u001B[0;34m\u001B[0m\u001B[0m\n\u001B[1;32m   4138\u001B[0m         \u001B[0marray_like\u001B[0m \u001B[0;34m=\u001B[0m \u001B[0marray_like\u001B[0m\u001B[0;34m.\u001B[0m\u001B[0mcopy\u001B[0m\u001B[0;34m(\u001B[0m\u001B[0;34m)\u001B[0m\u001B[0;34m\u001B[0m\u001B[0;34m\u001B[0m\u001B[0m\n",
      "\u001B[0;32m~/projects/study-jupyter-templates/venv/lib/python3.9/site-packages/pandas/core/dtypes/cast.py\u001B[0m in \u001B[0;36mcoerce_indexer_dtype\u001B[0;34m(indexer, categories)\u001B[0m\n\u001B[1;32m    977\u001B[0m         \u001B[0;32mreturn\u001B[0m \u001B[0mensure_int8\u001B[0m\u001B[0;34m(\u001B[0m\u001B[0mindexer\u001B[0m\u001B[0;34m)\u001B[0m\u001B[0;34m\u001B[0m\u001B[0;34m\u001B[0m\u001B[0m\n\u001B[1;32m    978\u001B[0m     \u001B[0;32melif\u001B[0m \u001B[0mlength\u001B[0m \u001B[0;34m<\u001B[0m \u001B[0m_int16_max\u001B[0m\u001B[0;34m:\u001B[0m\u001B[0;34m\u001B[0m\u001B[0;34m\u001B[0m\u001B[0m\n\u001B[0;32m--> 979\u001B[0;31m         \u001B[0;32mreturn\u001B[0m \u001B[0mensure_int16\u001B[0m\u001B[0;34m(\u001B[0m\u001B[0mindexer\u001B[0m\u001B[0;34m)\u001B[0m\u001B[0;34m\u001B[0m\u001B[0;34m\u001B[0m\u001B[0m\n\u001B[0m\u001B[1;32m    980\u001B[0m     \u001B[0;32melif\u001B[0m \u001B[0mlength\u001B[0m \u001B[0;34m<\u001B[0m \u001B[0m_int32_max\u001B[0m\u001B[0;34m:\u001B[0m\u001B[0;34m\u001B[0m\u001B[0;34m\u001B[0m\u001B[0m\n\u001B[1;32m    981\u001B[0m         \u001B[0;32mreturn\u001B[0m \u001B[0mensure_int32\u001B[0m\u001B[0;34m(\u001B[0m\u001B[0mindexer\u001B[0m\u001B[0;34m)\u001B[0m\u001B[0;34m\u001B[0m\u001B[0;34m\u001B[0m\u001B[0m\n",
      "\u001B[0;31mKeyboardInterrupt\u001B[0m: "
     ]
    }
   ],
   "source": [
    "\n",
    "\n",
    "df_val = pd.read_parquet('ebnerd_small/validation/behaviors.parquet')\n",
    "\n",
    "df_val['predicted_article_id'] = df_val['article_ids_clicked'].apply(lambda ids: ids[0])\n",
    "df_exploded_val = df_val.explode('article_ids_inview')\n",
    "\n",
    "# Add a column to indicate if the article was recommended\n",
    "df_exploded_val['rating'] = (df_exploded_val['predicted_article_id'] == df_exploded_val['article_ids_inview']).astype(int)\n",
    "\n",
    "def find_mode(series):\n",
    "    return mode(series).mode\n",
    "\n",
    "mode_ratings_val = df_exploded_val.groupby(['user_id', 'article_ids_inview'])['rating'].agg(find_mode).reset_index()\n",
    "\n",
    "# Rename columns for clarity\n",
    "mode_ratings_val.columns = ['user_id', 'article_ids_inview', 'rating']"
   ],
   "metadata": {
    "collapsed": false,
    "pycharm": {
     "name": "#%%\n"
    }
   }
  },
  {
   "cell_type": "code",
   "execution_count": 24,
   "outputs": [],
   "source": [
    "mode_ratings_val2 = list(mode_ratings_val.itertuples(index=False, name=None))\n"
   ],
   "metadata": {
    "collapsed": false,
    "pycharm": {
     "name": "#%%\n"
    }
   }
  },
  {
   "cell_type": "code",
   "execution_count": 35,
   "outputs": [
    {
     "name": "stdout",
     "output_type": "stream",
     "text": [
      "RMSE: 0.2654\n"
     ]
    },
    {
     "data": {
      "text/plain": "0.26544084878215846"
     },
     "execution_count": 35,
     "metadata": {},
     "output_type": "execute_result"
    }
   ],
   "source": [
    "# Predict ratings for the test set\n",
    "predictions_val = algo.test(mode_ratings_val2)\n",
    "\n",
    "# Calculate and print the accuracy (RMSE)\n",
    "accuracy.rmse(predictions_val)"
   ],
   "metadata": {
    "collapsed": false,
    "pycharm": {
     "name": "#%%\n"
    }
   }
  },
  {
   "cell_type": "code",
   "execution_count": 62,
   "outputs": [],
   "source": [
    "df_val = pd.read_parquet('ebnerd_small/validation/behaviors.parquet')\n",
    "\n",
    "df_val['predicted_article_id'] = df_val['article_ids_clicked'].apply(lambda ids: ids[0])"
   ],
   "metadata": {
    "collapsed": false,
    "pycharm": {
     "name": "#%%\n"
    }
   }
  },
  {
   "cell_type": "code",
   "execution_count": 62,
   "outputs": [],
   "source": [],
   "metadata": {
    "collapsed": false,
    "pycharm": {
     "name": "#%%\n"
    }
   }
  },
  {
   "cell_type": "code",
   "execution_count": 63,
   "outputs": [
    {
     "name": "stderr",
     "output_type": "stream",
     "text": [
      "123it [00:01, 162.47it/s]"
     ]
    },
    {
     "name": "stdout",
     "output_type": "stream",
     "text": [
      "Predicted 100%: 0\n",
      "Right: 0\n",
      "Wrong: 1\n",
      "All correct: 0\n",
      "Guessed only one, but it is wrong: 0\n"
     ]
    },
    {
     "name": "stderr",
     "output_type": "stream",
     "text": [
      "25150it [00:35, 746.51it/s]"
     ]
    },
    {
     "name": "stdout",
     "output_type": "stream",
     "text": [
      "Predicted 100%: 427\n",
      "Right: 2561\n",
      "Wrong: 22013\n",
      "All correct: 2988\n",
      "Guessed only one, but it is wrong: 7154\n"
     ]
    },
    {
     "name": "stderr",
     "output_type": "stream",
     "text": [
      "50207it [01:11, 706.88it/s]"
     ]
    },
    {
     "name": "stdout",
     "output_type": "stream",
     "text": [
      "Predicted 100%: 913\n",
      "Right: 5067\n",
      "Wrong: 44021\n",
      "All correct: 5980\n",
      "Guessed only one, but it is wrong: 14531\n"
     ]
    },
    {
     "name": "stderr",
     "output_type": "stream",
     "text": [
      "75117it [01:47, 755.44it/s]"
     ]
    },
    {
     "name": "stdout",
     "output_type": "stream",
     "text": [
      "Predicted 100%: 1365\n",
      "Right: 7673\n",
      "Wrong: 65963\n",
      "All correct: 9038\n",
      "Guessed only one, but it is wrong: 21621\n"
     ]
    },
    {
     "name": "stderr",
     "output_type": "stream",
     "text": [
      "100074it [02:21, 541.39it/s]"
     ]
    },
    {
     "name": "stdout",
     "output_type": "stream",
     "text": [
      "Predicted 100%: 1857\n",
      "Right: 10198\n",
      "Wrong: 87946\n",
      "All correct: 12055\n",
      "Guessed only one, but it is wrong: 28434\n"
     ]
    },
    {
     "name": "stderr",
     "output_type": "stream",
     "text": [
      "125091it [02:56, 725.17it/s]"
     ]
    },
    {
     "name": "stdout",
     "output_type": "stream",
     "text": [
      "Predicted 100%: 2319\n",
      "Right: 12811\n",
      "Wrong: 109871\n",
      "All correct: 15130\n",
      "Guessed only one, but it is wrong: 35613\n"
     ]
    },
    {
     "name": "stderr",
     "output_type": "stream",
     "text": [
      "150125it [03:32, 633.60it/s]"
     ]
    },
    {
     "name": "stdout",
     "output_type": "stream",
     "text": [
      "Predicted 100%: 2795\n",
      "Right: 15429\n",
      "Wrong: 131777\n",
      "All correct: 18224\n",
      "Guessed only one, but it is wrong: 42414\n"
     ]
    },
    {
     "name": "stderr",
     "output_type": "stream",
     "text": [
      "175222it [04:07, 738.08it/s]"
     ]
    },
    {
     "name": "stdout",
     "output_type": "stream",
     "text": [
      "Predicted 100%: 3285\n",
      "Right: 17955\n",
      "Wrong: 153761\n",
      "All correct: 21240\n",
      "Guessed only one, but it is wrong: 49717\n"
     ]
    },
    {
     "name": "stderr",
     "output_type": "stream",
     "text": [
      "200183it [04:42, 749.77it/s]"
     ]
    },
    {
     "name": "stdout",
     "output_type": "stream",
     "text": [
      "Predicted 100%: 3669\n",
      "Right: 20590\n",
      "Wrong: 175742\n",
      "All correct: 24259\n",
      "Guessed only one, but it is wrong: 56473\n"
     ]
    },
    {
     "name": "stderr",
     "output_type": "stream",
     "text": [
      "225173it [05:17, 721.09it/s]"
     ]
    },
    {
     "name": "stdout",
     "output_type": "stream",
     "text": [
      "Predicted 100%: 4139\n",
      "Right: 23224\n",
      "Wrong: 197638\n",
      "All correct: 27363\n",
      "Guessed only one, but it is wrong: 63410\n"
     ]
    },
    {
     "name": "stderr",
     "output_type": "stream",
     "text": [
      "244647it [05:43, 711.57it/s]"
     ]
    },
    {
     "name": "stdout",
     "output_type": "stream",
     "text": [
      "Predicted 100%: 4443\n",
      "Right: 25237\n",
      "Wrong: 214967\n",
      "All correct: 29680\n"
     ]
    },
    {
     "name": "stderr",
     "output_type": "stream",
     "text": [
      "\n"
     ]
    }
   ],
   "source": [
    "predicted100p = 0\n",
    "guessed_right = 0\n",
    "guessed_wrong = 0\n",
    "guessed1_but_wrong = 0\n",
    "for i, row in tqdm(df_val.iterrows()):\n",
    "    user = row[\"user_id\"]\n",
    "    inview = row[\"article_ids_inview\"]\n",
    "    actuals = row[\"article_ids_clicked\"]\n",
    "    exploded = pd.DataFrame({\n",
    "    'user_id': [user] * len(inview),\n",
    "    'article_ids_inview': inview,\n",
    "    'fake': 0\n",
    "    })\n",
    "    for_pred = list(exploded.itertuples(index=False, name=None))\n",
    "\n",
    "    predictions_val = algo.test(for_pred)\n",
    "    predictions_df_ans = pd.DataFrame([(pred.uid, pred.iid, pred.est) for pred in predictions_val],\n",
    "                              columns=['uid', 'iid', 'est'])\n",
    "    predictions_df_ans = predictions_df_ans.sort_values(by='est', ascending=False).reset_index(drop=True)\n",
    "    max_est = predictions_df_ans['est'].max()\n",
    "    filtered_df = predictions_df_ans[predictions_df_ans['est'] == max_est].reset_index(drop=True)\n",
    "\n",
    "    if len(filtered_df['iid']) == 1 and filtered_df['iid'][0] in actuals:\n",
    "        predicted100p += 1\n",
    "    elif len(filtered_df['iid']) == 1:\n",
    "        guessed1_but_wrong += 1\n",
    "        guessed_wrong += 1\n",
    "    elif random.choice(filtered_df['iid']) in actuals:\n",
    "        guessed_right += 1\n",
    "    else:\n",
    "        guessed_wrong += 1\n",
    "    if i % 25000 == 0:\n",
    "        print(f\"Predicted 100%: {predicted100p}\")\n",
    "        print(f\"Right: {guessed_right}\")\n",
    "        print(f\"Wrong: {guessed_wrong}\")\n",
    "        print(f\"All correct: {predicted100p + guessed_right}\")\n",
    "        print(f\"Guessed only one, but it is wrong: {guessed1_but_wrong}\")\n",
    "\n",
    "print(f\"Predicted 100%: {predicted100p}\")\n",
    "print(f\"Right: {guessed_right}\")\n",
    "print(f\"Wrong: {guessed_wrong}\")\n",
    "print(f\"All correct: {predicted100p + guessed_right}\")\n"
   ],
   "metadata": {
    "collapsed": false,
    "pycharm": {
     "name": "#%%\n"
    }
   }
  },
  {
   "cell_type": "code",
   "execution_count": 64,
   "outputs": [
    {
     "name": "stdout",
     "output_type": "stream",
     "text": [
      "0.12131765359885877\n"
     ]
    }
   ],
   "source": [
    "print ((predicted100p + guessed_right) / (predicted100p + guessed_right + guessed_wrong))\n"
   ],
   "metadata": {
    "collapsed": false,
    "pycharm": {
     "name": "#%%\n"
    }
   }
  },
  {
   "cell_type": "code",
   "execution_count": null,
   "outputs": [],
   "source": [],
   "metadata": {
    "collapsed": false,
    "pycharm": {
     "name": "#%%\n"
    }
   }
  }
 ],
 "metadata": {
  "kernelspec": {
   "display_name": "Python 3",
   "language": "python",
   "name": "python3"
  },
  "language_info": {
   "codemirror_mode": {
    "name": "ipython",
    "version": 2
   },
   "file_extension": ".py",
   "mimetype": "text/x-python",
   "name": "python",
   "nbconvert_exporter": "python",
   "pygments_lexer": "ipython2",
   "version": "2.7.6"
  }
 },
 "nbformat": 4,
 "nbformat_minor": 0
}