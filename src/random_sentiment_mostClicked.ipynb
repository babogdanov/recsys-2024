{
 "cells": [
  {
   "cell_type": "code",
   "execution_count": 278,
   "metadata": {
    "collapsed": true
   },
   "outputs": [],
   "source": [
    "import pandas as pd\n",
    "import numpy as np\n",
    "import random"
   ]
  },
  {
   "cell_type": "code",
   "execution_count": 303,
   "outputs": [],
   "source": [
    "df_train = pd.read_parquet(path=\"./ebnerd_small/train/behaviors.parquet\")\n",
    "df_train = df_train[[\"impression_id\", \"user_id\", \"article_ids_inview\", \"article_ids_clicked\"]]"
   ],
   "metadata": {
    "collapsed": false,
    "pycharm": {
     "name": "#%%\n"
    }
   }
  },
  {
   "cell_type": "code",
   "execution_count": 310,
   "outputs": [
    {
     "data": {
      "text/plain": "        impression_id  user_id  \\\n0               96791    22548   \n1               96798    22548   \n2               96801    22548   \n3               96808    22548   \n4               96810    22548   \n...               ...      ...   \n244642      579250707  1529985   \n244643      579251515  1532837   \n244644      579251519  1532837   \n244645      579253363  1539939   \n244646      579552453   752762   \n\n                                       article_ids_inview article_ids_clicked  \n0           [9783865, 9784591, 9784679, 9784696, 9784710]           [9784696]  \n1       [9782884, 9783865, 9782726, 9695098, 9782806, ...           [9784281]  \n2       [9784648, 7184889, 9784444, 9781785, 9783405, ...           [9784444]  \n3           [9784607, 9695098, 9784406, 7184889, 9781983]           [9781983]  \n4       [9781983, 7184889, 9784642, 9782108, 9781785, ...           [9784642]  \n...                                                   ...                 ...  \n244642  [9782929, 9782919, 9783213, 9783075, 9782746, ...           [9783075]  \n244643      [9782746, 9782929, 9783720, 9782645, 9783075]           [9783075]  \n244644  [9783213, 9782645, 9782423, 9783657, 9782746, ...           [9782423]  \n244645  [9142564, 9783657, 9783404, 9782670, 9783720, ...           [9783720]  \n244646      [9784575, 9784662, 9784642, 9782656, 9784559]           [9782656]  \n\n[244647 rows x 4 columns]",
      "text/html": "<div>\n<style scoped>\n    .dataframe tbody tr th:only-of-type {\n        vertical-align: middle;\n    }\n\n    .dataframe tbody tr th {\n        vertical-align: top;\n    }\n\n    .dataframe thead th {\n        text-align: right;\n    }\n</style>\n<table border=\"1\" class=\"dataframe\">\n  <thead>\n    <tr style=\"text-align: right;\">\n      <th></th>\n      <th>impression_id</th>\n      <th>user_id</th>\n      <th>article_ids_inview</th>\n      <th>article_ids_clicked</th>\n    </tr>\n  </thead>\n  <tbody>\n    <tr>\n      <th>0</th>\n      <td>96791</td>\n      <td>22548</td>\n      <td>[9783865, 9784591, 9784679, 9784696, 9784710]</td>\n      <td>[9784696]</td>\n    </tr>\n    <tr>\n      <th>1</th>\n      <td>96798</td>\n      <td>22548</td>\n      <td>[9782884, 9783865, 9782726, 9695098, 9782806, ...</td>\n      <td>[9784281]</td>\n    </tr>\n    <tr>\n      <th>2</th>\n      <td>96801</td>\n      <td>22548</td>\n      <td>[9784648, 7184889, 9784444, 9781785, 9783405, ...</td>\n      <td>[9784444]</td>\n    </tr>\n    <tr>\n      <th>3</th>\n      <td>96808</td>\n      <td>22548</td>\n      <td>[9784607, 9695098, 9784406, 7184889, 9781983]</td>\n      <td>[9781983]</td>\n    </tr>\n    <tr>\n      <th>4</th>\n      <td>96810</td>\n      <td>22548</td>\n      <td>[9781983, 7184889, 9784642, 9782108, 9781785, ...</td>\n      <td>[9784642]</td>\n    </tr>\n    <tr>\n      <th>...</th>\n      <td>...</td>\n      <td>...</td>\n      <td>...</td>\n      <td>...</td>\n    </tr>\n    <tr>\n      <th>244642</th>\n      <td>579250707</td>\n      <td>1529985</td>\n      <td>[9782929, 9782919, 9783213, 9783075, 9782746, ...</td>\n      <td>[9783075]</td>\n    </tr>\n    <tr>\n      <th>244643</th>\n      <td>579251515</td>\n      <td>1532837</td>\n      <td>[9782746, 9782929, 9783720, 9782645, 9783075]</td>\n      <td>[9783075]</td>\n    </tr>\n    <tr>\n      <th>244644</th>\n      <td>579251519</td>\n      <td>1532837</td>\n      <td>[9783213, 9782645, 9782423, 9783657, 9782746, ...</td>\n      <td>[9782423]</td>\n    </tr>\n    <tr>\n      <th>244645</th>\n      <td>579253363</td>\n      <td>1539939</td>\n      <td>[9142564, 9783657, 9783404, 9782670, 9783720, ...</td>\n      <td>[9783720]</td>\n    </tr>\n    <tr>\n      <th>244646</th>\n      <td>579552453</td>\n      <td>752762</td>\n      <td>[9784575, 9784662, 9784642, 9782656, 9784559]</td>\n      <td>[9782656]</td>\n    </tr>\n  </tbody>\n</table>\n<p>244647 rows × 4 columns</p>\n</div>"
     },
     "execution_count": 310,
     "metadata": {},
     "output_type": "execute_result"
    }
   ],
   "source": [
    "df_val = pd.read_parquet(path=\"./ebnerd_small/validation/behaviors.parquet\")\n",
    "df_val = df_val[[\"impression_id\", \"user_id\", \"article_ids_inview\", \"article_ids_clicked\"]]\n",
    "df_val"
   ],
   "metadata": {
    "collapsed": false,
    "pycharm": {
     "name": "#%%\n"
    }
   }
  },
  {
   "cell_type": "code",
   "execution_count": 82,
   "outputs": [
    {
     "name": "stdout",
     "output_type": "stream",
     "text": [
      "28812 215835\n"
     ]
    }
   ],
   "source": [
    "# Random baseline\n",
    "guessed_right = 0\n",
    "guessed_wrong = 0\n",
    "for index, row in df_val.iterrows():\n",
    "    if random.choice(row[\"article_ids_inview\"]) in row[\"article_ids_clicked\"]:\n",
    "        guessed_right += 1\n",
    "    else:\n",
    "        guessed_wrong += 1\n",
    "print(guessed_right, guessed_wrong)\n",
    "guessed_right/guessed_wrong"
   ],
   "metadata": {
    "collapsed": false,
    "pycharm": {
     "name": "#%%\n"
    }
   }
  },
  {
   "cell_type": "code",
   "execution_count": 304,
   "outputs": [
    {
     "data": {
      "text/plain": "        impression_id  user_id  \\\n0              149474   139836   \n1              150528   143471   \n2              153068   151570   \n3              153070   151570   \n4              153071   151570   \n...               ...      ...   \n232882      580099643  2106715   \n232883      580099644  2106715   \n232884      580099645  2106715   \n232885      580100695  2110744   \n232886      580100697  2110744   \n\n                                       article_ids_inview article_ids_clicked  \n0       [9778623, 9778682, 9778669, 9778657, 9778736, ...           [9778657]  \n1       [9778718, 9778728, 9778745, 9778669, 9778657, ...           [9778623]  \n2       [9778657, 9778669, 9772866, 9776259, 9756397, ...           [9778669]  \n3       [9020783, 9778444, 9525589, 7213923, 9777397, ...           [9778628]  \n4       [9777492, 9774568, 9565836, 9335113, 9771223, ...           [9777492]  \n...                                                   ...                 ...  \n232882  [9233208, 9771242, 9767697, 9514481, 9771065, ...           [9770886]  \n232883  [9771065, 9767697, 9770886, 9758882, 9709817, ...           [9769306]  \n232884  [9771042, 9440508, 9486080, 9770997, 9120051, ...           [9771042]  \n232885  [9440508, 9142581, 9769917, 9767697, 9514481, ...           [9767697]  \n232886  [9233208, 8422665, 9769306, 9771042, 9514481, ...           [9771042]  \n\n[232887 rows x 4 columns]",
      "text/html": "<div>\n<style scoped>\n    .dataframe tbody tr th:only-of-type {\n        vertical-align: middle;\n    }\n\n    .dataframe tbody tr th {\n        vertical-align: top;\n    }\n\n    .dataframe thead th {\n        text-align: right;\n    }\n</style>\n<table border=\"1\" class=\"dataframe\">\n  <thead>\n    <tr style=\"text-align: right;\">\n      <th></th>\n      <th>impression_id</th>\n      <th>user_id</th>\n      <th>article_ids_inview</th>\n      <th>article_ids_clicked</th>\n    </tr>\n  </thead>\n  <tbody>\n    <tr>\n      <th>0</th>\n      <td>149474</td>\n      <td>139836</td>\n      <td>[9778623, 9778682, 9778669, 9778657, 9778736, ...</td>\n      <td>[9778657]</td>\n    </tr>\n    <tr>\n      <th>1</th>\n      <td>150528</td>\n      <td>143471</td>\n      <td>[9778718, 9778728, 9778745, 9778669, 9778657, ...</td>\n      <td>[9778623]</td>\n    </tr>\n    <tr>\n      <th>2</th>\n      <td>153068</td>\n      <td>151570</td>\n      <td>[9778657, 9778669, 9772866, 9776259, 9756397, ...</td>\n      <td>[9778669]</td>\n    </tr>\n    <tr>\n      <th>3</th>\n      <td>153070</td>\n      <td>151570</td>\n      <td>[9020783, 9778444, 9525589, 7213923, 9777397, ...</td>\n      <td>[9778628]</td>\n    </tr>\n    <tr>\n      <th>4</th>\n      <td>153071</td>\n      <td>151570</td>\n      <td>[9777492, 9774568, 9565836, 9335113, 9771223, ...</td>\n      <td>[9777492]</td>\n    </tr>\n    <tr>\n      <th>...</th>\n      <td>...</td>\n      <td>...</td>\n      <td>...</td>\n      <td>...</td>\n    </tr>\n    <tr>\n      <th>232882</th>\n      <td>580099643</td>\n      <td>2106715</td>\n      <td>[9233208, 9771242, 9767697, 9514481, 9771065, ...</td>\n      <td>[9770886]</td>\n    </tr>\n    <tr>\n      <th>232883</th>\n      <td>580099644</td>\n      <td>2106715</td>\n      <td>[9771065, 9767697, 9770886, 9758882, 9709817, ...</td>\n      <td>[9769306]</td>\n    </tr>\n    <tr>\n      <th>232884</th>\n      <td>580099645</td>\n      <td>2106715</td>\n      <td>[9771042, 9440508, 9486080, 9770997, 9120051, ...</td>\n      <td>[9771042]</td>\n    </tr>\n    <tr>\n      <th>232885</th>\n      <td>580100695</td>\n      <td>2110744</td>\n      <td>[9440508, 9142581, 9769917, 9767697, 9514481, ...</td>\n      <td>[9767697]</td>\n    </tr>\n    <tr>\n      <th>232886</th>\n      <td>580100697</td>\n      <td>2110744</td>\n      <td>[9233208, 8422665, 9769306, 9771042, 9514481, ...</td>\n      <td>[9771042]</td>\n    </tr>\n  </tbody>\n</table>\n<p>232887 rows × 4 columns</p>\n</div>"
     },
     "execution_count": 304,
     "metadata": {},
     "output_type": "execute_result"
    }
   ],
   "source": [
    "# Construction of all guesses\n",
    "df_answers = df_train[['impression_id', \"user_id\", \"article_ids_inview\", \"article_ids_clicked\"]].copy()\n",
    "df_answers"
   ],
   "metadata": {
    "collapsed": false,
    "pycharm": {
     "name": "#%%\n"
    }
   }
  },
  {
   "cell_type": "code",
   "execution_count": 254,
   "outputs": [
    {
     "name": "stdout",
     "output_type": "stream",
     "text": [
      "28983 215664\n",
      "0.13438960605386155\n",
      "0.11846865074985591\n"
     ]
    },
    {
     "data": {
      "text/plain": "        impression_id  user_id  \\\n0               96791    22548   \n1               96798    22548   \n2               96801    22548   \n3               96808    22548   \n4               96810    22548   \n...               ...      ...   \n244642      579250707  1529985   \n244643      579251515  1532837   \n244644      579251519  1532837   \n244645      579253363  1539939   \n244646      579552453   752762   \n\n                                       article_ids_inview article_ids_clicked  \\\n0           [9783865, 9784591, 9784679, 9784696, 9784710]           [9784696]   \n1       [9782884, 9783865, 9782726, 9695098, 9782806, ...           [9784281]   \n2       [9784648, 7184889, 9784444, 9781785, 9783405, ...           [9784444]   \n3           [9784607, 9695098, 9784406, 7184889, 9781983]           [9781983]   \n4       [9781983, 7184889, 9784642, 9782108, 9781785, ...           [9784642]   \n...                                                   ...                 ...   \n244642  [9782929, 9782919, 9783213, 9783075, 9782746, ...           [9783075]   \n244643      [9782746, 9782929, 9783720, 9782645, 9783075]           [9783075]   \n244644  [9783213, 9782645, 9782423, 9783657, 9782746, ...           [9782423]   \n244645  [9142564, 9783657, 9783404, 9782670, 9783720, ...           [9783720]   \n244646      [9784575, 9784662, 9784642, 9782656, 9784559]           [9782656]   \n\n                                        not_already_liked  \n0           [9783865, 9784591, 9784679, 9784696, 9784710]  \n1       [9782884, 9783865, 9782726, 9695098, 9782806, ...  \n2       [9784648, 7184889, 9784444, 9781785, 9783405, ...  \n3           [9784607, 9695098, 9784406, 7184889, 9781983]  \n4       [9781983, 7184889, 9784642, 9782108, 9781785, ...  \n...                                                   ...  \n244642  [9782929, 9782919, 9783213, 9783075, 9782746, ...  \n244643      [9782746, 9782929, 9783720, 9782645, 9783075]  \n244644  [9783213, 9782645, 9782423, 9783657, 9782746, ...  \n244645  [9142564, 9783657, 9783404, 9782670, 9783720, ...  \n244646      [9784575, 9784662, 9784642, 9782656, 9784559]  \n\n[244647 rows x 5 columns]",
      "text/html": "<div>\n<style scoped>\n    .dataframe tbody tr th:only-of-type {\n        vertical-align: middle;\n    }\n\n    .dataframe tbody tr th {\n        vertical-align: top;\n    }\n\n    .dataframe thead th {\n        text-align: right;\n    }\n</style>\n<table border=\"1\" class=\"dataframe\">\n  <thead>\n    <tr style=\"text-align: right;\">\n      <th></th>\n      <th>impression_id</th>\n      <th>user_id</th>\n      <th>article_ids_inview</th>\n      <th>article_ids_clicked</th>\n      <th>not_already_liked</th>\n    </tr>\n  </thead>\n  <tbody>\n    <tr>\n      <th>0</th>\n      <td>96791</td>\n      <td>22548</td>\n      <td>[9783865, 9784591, 9784679, 9784696, 9784710]</td>\n      <td>[9784696]</td>\n      <td>[9783865, 9784591, 9784679, 9784696, 9784710]</td>\n    </tr>\n    <tr>\n      <th>1</th>\n      <td>96798</td>\n      <td>22548</td>\n      <td>[9782884, 9783865, 9782726, 9695098, 9782806, ...</td>\n      <td>[9784281]</td>\n      <td>[9782884, 9783865, 9782726, 9695098, 9782806, ...</td>\n    </tr>\n    <tr>\n      <th>2</th>\n      <td>96801</td>\n      <td>22548</td>\n      <td>[9784648, 7184889, 9784444, 9781785, 9783405, ...</td>\n      <td>[9784444]</td>\n      <td>[9784648, 7184889, 9784444, 9781785, 9783405, ...</td>\n    </tr>\n    <tr>\n      <th>3</th>\n      <td>96808</td>\n      <td>22548</td>\n      <td>[9784607, 9695098, 9784406, 7184889, 9781983]</td>\n      <td>[9781983]</td>\n      <td>[9784607, 9695098, 9784406, 7184889, 9781983]</td>\n    </tr>\n    <tr>\n      <th>4</th>\n      <td>96810</td>\n      <td>22548</td>\n      <td>[9781983, 7184889, 9784642, 9782108, 9781785, ...</td>\n      <td>[9784642]</td>\n      <td>[9781983, 7184889, 9784642, 9782108, 9781785, ...</td>\n    </tr>\n    <tr>\n      <th>...</th>\n      <td>...</td>\n      <td>...</td>\n      <td>...</td>\n      <td>...</td>\n      <td>...</td>\n    </tr>\n    <tr>\n      <th>244642</th>\n      <td>579250707</td>\n      <td>1529985</td>\n      <td>[9782929, 9782919, 9783213, 9783075, 9782746, ...</td>\n      <td>[9783075]</td>\n      <td>[9782929, 9782919, 9783213, 9783075, 9782746, ...</td>\n    </tr>\n    <tr>\n      <th>244643</th>\n      <td>579251515</td>\n      <td>1532837</td>\n      <td>[9782746, 9782929, 9783720, 9782645, 9783075]</td>\n      <td>[9783075]</td>\n      <td>[9782746, 9782929, 9783720, 9782645, 9783075]</td>\n    </tr>\n    <tr>\n      <th>244644</th>\n      <td>579251519</td>\n      <td>1532837</td>\n      <td>[9783213, 9782645, 9782423, 9783657, 9782746, ...</td>\n      <td>[9782423]</td>\n      <td>[9783213, 9782645, 9782423, 9783657, 9782746, ...</td>\n    </tr>\n    <tr>\n      <th>244645</th>\n      <td>579253363</td>\n      <td>1539939</td>\n      <td>[9142564, 9783657, 9783404, 9782670, 9783720, ...</td>\n      <td>[9783720]</td>\n      <td>[9142564, 9783657, 9783404, 9782670, 9783720, ...</td>\n    </tr>\n    <tr>\n      <th>244646</th>\n      <td>579552453</td>\n      <td>752762</td>\n      <td>[9784575, 9784662, 9784642, 9782656, 9784559]</td>\n      <td>[9782656]</td>\n      <td>[9784575, 9784662, 9784642, 9782656, 9784559]</td>\n    </tr>\n  </tbody>\n</table>\n<p>244647 rows × 5 columns</p>\n</div>"
     },
     "execution_count": 254,
     "metadata": {},
     "output_type": "execute_result"
    }
   ],
   "source": [
    "guessed_right = 0\n",
    "guessed_wrong = 0\n",
    "guesses = []\n",
    "for index, row in df_train.iterrows():\n",
    "    curUser = row[\"user_id\"]\n",
    "    allClicked = np.empty([0,0]) if len(df_train[df_train[\"user_id\"] == curUser][\"article_ids_clicked\"].values) == 0 else np.concatenate(df_train[df_train[\"user_id\"] == curUser][\"article_ids_clicked\"].values)\n",
    "    leftToChooseFrom = [i for i in row[\"article_ids_inview\"] if i not in allClicked]\n",
    "    if len(leftToChooseFrom) == 0:\n",
    "        guess = random.choice(row[\"article_ids_inview\"])\n",
    "        guesses.append([])\n",
    "    else:\n",
    "        guesses.append(leftToChooseFrom)\n",
    "        guess = random.choice(leftToChooseFrom)\n",
    "    if guess in row[\"article_ids_clicked\"]:\n",
    "        guessed_right += 1\n",
    "    else:\n",
    "        guessed_wrong += 1\n",
    "print(guessed_right, guessed_wrong)\n",
    "print(guessed_right/guessed_wrong)\n",
    "print(guessed_right/(guessed_wrong + guessed_right))\n",
    "df_answers[\"not_already_clicked\"] = guesses\n",
    "df_answers"
   ],
   "metadata": {
    "collapsed": false,
    "pycharm": {
     "name": "#%%\n"
    }
   }
  },
  {
   "cell_type": "code",
   "execution_count": 256,
   "outputs": [
    {
     "data": {
      "text/plain": "        impression_id  user_id  \\\n0               96791    22548   \n1               96798    22548   \n2               96801    22548   \n3               96808    22548   \n4               96810    22548   \n...               ...      ...   \n244642      579250707  1529985   \n244643      579251515  1532837   \n244644      579251519  1532837   \n244645      579253363  1539939   \n244646      579552453   752762   \n\n                                       article_ids_inview article_ids_clicked  \\\n0           [9783865, 9784591, 9784679, 9784696, 9784710]           [9784696]   \n1       [9782884, 9783865, 9782726, 9695098, 9782806, ...           [9784281]   \n2       [9784648, 7184889, 9784444, 9781785, 9783405, ...           [9784444]   \n3           [9784607, 9695098, 9784406, 7184889, 9781983]           [9781983]   \n4       [9781983, 7184889, 9784642, 9782108, 9781785, ...           [9784642]   \n...                                                   ...                 ...   \n244642  [9782929, 9782919, 9783213, 9783075, 9782746, ...           [9783075]   \n244643      [9782746, 9782929, 9783720, 9782645, 9783075]           [9783075]   \n244644  [9783213, 9782645, 9782423, 9783657, 9782746, ...           [9782423]   \n244645  [9142564, 9783657, 9783404, 9782670, 9783720, ...           [9783720]   \n244646      [9784575, 9784662, 9784642, 9782656, 9784559]           [9782656]   \n\n                                      not_already_clicked  \n0           [9783865, 9784591, 9784679, 9784696, 9784710]  \n1       [9782884, 9783865, 9782726, 9695098, 9782806, ...  \n2       [9784648, 7184889, 9784444, 9781785, 9783405, ...  \n3           [9784607, 9695098, 9784406, 7184889, 9781983]  \n4       [9781983, 7184889, 9784642, 9782108, 9781785, ...  \n...                                                   ...  \n244642  [9782929, 9782919, 9783213, 9783075, 9782746, ...  \n244643      [9782746, 9782929, 9783720, 9782645, 9783075]  \n244644  [9783213, 9782645, 9782423, 9783657, 9782746, ...  \n244645  [9142564, 9783657, 9783404, 9782670, 9783720, ...  \n244646      [9784575, 9784662, 9784642, 9782656, 9784559]  \n\n[244647 rows x 5 columns]",
      "text/html": "<div>\n<style scoped>\n    .dataframe tbody tr th:only-of-type {\n        vertical-align: middle;\n    }\n\n    .dataframe tbody tr th {\n        vertical-align: top;\n    }\n\n    .dataframe thead th {\n        text-align: right;\n    }\n</style>\n<table border=\"1\" class=\"dataframe\">\n  <thead>\n    <tr style=\"text-align: right;\">\n      <th></th>\n      <th>impression_id</th>\n      <th>user_id</th>\n      <th>article_ids_inview</th>\n      <th>article_ids_clicked</th>\n      <th>not_already_clicked</th>\n    </tr>\n  </thead>\n  <tbody>\n    <tr>\n      <th>0</th>\n      <td>96791</td>\n      <td>22548</td>\n      <td>[9783865, 9784591, 9784679, 9784696, 9784710]</td>\n      <td>[9784696]</td>\n      <td>[9783865, 9784591, 9784679, 9784696, 9784710]</td>\n    </tr>\n    <tr>\n      <th>1</th>\n      <td>96798</td>\n      <td>22548</td>\n      <td>[9782884, 9783865, 9782726, 9695098, 9782806, ...</td>\n      <td>[9784281]</td>\n      <td>[9782884, 9783865, 9782726, 9695098, 9782806, ...</td>\n    </tr>\n    <tr>\n      <th>2</th>\n      <td>96801</td>\n      <td>22548</td>\n      <td>[9784648, 7184889, 9784444, 9781785, 9783405, ...</td>\n      <td>[9784444]</td>\n      <td>[9784648, 7184889, 9784444, 9781785, 9783405, ...</td>\n    </tr>\n    <tr>\n      <th>3</th>\n      <td>96808</td>\n      <td>22548</td>\n      <td>[9784607, 9695098, 9784406, 7184889, 9781983]</td>\n      <td>[9781983]</td>\n      <td>[9784607, 9695098, 9784406, 7184889, 9781983]</td>\n    </tr>\n    <tr>\n      <th>4</th>\n      <td>96810</td>\n      <td>22548</td>\n      <td>[9781983, 7184889, 9784642, 9782108, 9781785, ...</td>\n      <td>[9784642]</td>\n      <td>[9781983, 7184889, 9784642, 9782108, 9781785, ...</td>\n    </tr>\n    <tr>\n      <th>...</th>\n      <td>...</td>\n      <td>...</td>\n      <td>...</td>\n      <td>...</td>\n      <td>...</td>\n    </tr>\n    <tr>\n      <th>244642</th>\n      <td>579250707</td>\n      <td>1529985</td>\n      <td>[9782929, 9782919, 9783213, 9783075, 9782746, ...</td>\n      <td>[9783075]</td>\n      <td>[9782929, 9782919, 9783213, 9783075, 9782746, ...</td>\n    </tr>\n    <tr>\n      <th>244643</th>\n      <td>579251515</td>\n      <td>1532837</td>\n      <td>[9782746, 9782929, 9783720, 9782645, 9783075]</td>\n      <td>[9783075]</td>\n      <td>[9782746, 9782929, 9783720, 9782645, 9783075]</td>\n    </tr>\n    <tr>\n      <th>244644</th>\n      <td>579251519</td>\n      <td>1532837</td>\n      <td>[9783213, 9782645, 9782423, 9783657, 9782746, ...</td>\n      <td>[9782423]</td>\n      <td>[9783213, 9782645, 9782423, 9783657, 9782746, ...</td>\n    </tr>\n    <tr>\n      <th>244645</th>\n      <td>579253363</td>\n      <td>1539939</td>\n      <td>[9142564, 9783657, 9783404, 9782670, 9783720, ...</td>\n      <td>[9783720]</td>\n      <td>[9142564, 9783657, 9783404, 9782670, 9783720, ...</td>\n    </tr>\n    <tr>\n      <th>244646</th>\n      <td>579552453</td>\n      <td>752762</td>\n      <td>[9784575, 9784662, 9784642, 9782656, 9784559]</td>\n      <td>[9782656]</td>\n      <td>[9784575, 9784662, 9784642, 9782656, 9784559]</td>\n    </tr>\n  </tbody>\n</table>\n<p>244647 rows × 5 columns</p>\n</div>"
     },
     "execution_count": 256,
     "metadata": {},
     "output_type": "execute_result"
    }
   ],
   "source": [
    "df_answers"
   ],
   "metadata": {
    "collapsed": false,
    "pycharm": {
     "name": "#%%\n"
    }
   }
  },
  {
   "cell_type": "code",
   "execution_count": 95,
   "outputs": [],
   "source": [],
   "metadata": {
    "collapsed": false,
    "pycharm": {
     "name": "#%%\n"
    }
   }
  },
  {
   "cell_type": "code",
   "execution_count": 223,
   "outputs": [
    {
     "data": {
      "text/plain": "       article_id                                             title  \\\n0         3001353                      Natascha var ikke den første   \n1         3003065                         Kun Star Wars tjente mere   \n2         3012771                  Morten Bruun fyret i SønderjyskE   \n3         3023463                         Luderne flytter på landet   \n4         3032577                    Cybersex: Hvornår er man utro?   \n...           ...                                               ...   \n20733     9803492    Vilde billeder: Vulkan i udbrud i ferieparadis   \n20734     9803505               Flyvende Antonsen knuser topspiller   \n20735     9803525  Dansk skuespiller: - Jeg nægtede, at jeg var syg   \n20736     9803560       Så slemt er det: 14.000 huse er oversvømmet   \n20737     9803607       Aktion mod svindlere: Seks personer anholdt   \n\n                                                subtitle  last_modified_time  \\\n0      Politiet frygter nu, at Nataschas bortfører ha... 2023-06-29 06:20:33   \n1      Biografgængerne strømmer ind for at se 'Da Vin... 2023-06-29 06:20:35   \n2      FODBOLD: Morten Bruun fyret med øjeblikkelig v... 2023-06-29 06:20:39   \n3      I landets tyndest befolkede områder skyder bor... 2023-06-29 06:20:43   \n4      En flirtende sms til den flotte fyr i regnskab... 2023-06-29 06:20:46   \n...                                                  ...                 ...   \n20733        Der er gang i vulkanen på Hawaiis største ø 2023-06-29 06:49:26   \n20734  Verdens nummer syv, Chou Tien-Chen, fik ikke e... 2023-06-29 06:49:26   \n20735  Julie R. Ølgaard fik akut kejsersnit og fødte ... 2023-06-29 06:49:26   \n20736  Tusindvis af huse står under vand i Kherson-re... 2023-06-29 06:49:26   \n20737  Flere kvinder er ifølge politiet blevet svindl... 2023-06-29 06:49:26   \n\n       premium                                               body  \\\n0        False  Sagen om den østriske Natascha og hendes bortf...   \n1        False  Vatikanet har opfordret til at boykotte filmen...   \n2        False  Kemien mellem spillerne i Superligaklubben Søn...   \n3        False  Det frække erhverv rykker på landet. I den tyn...   \n4        False  De fleste af os mener, at et tungekys er utros...   \n...        ...                                                ...   \n20733    False  Det spyer med lava fra vulkanen Kilauea på Haw...   \n20734    False  Anders Antonsen har holdt pause fra badmintonb...   \n20735    False  Mens hun lå søvnløs, lød kakofonien fra baggår...   \n20736    False  Et område på omkring 600 kvadratkilometer står...   \n20737    False  Mindst otte personer er blevet anholdt og sigt...   \n\n           published_time                                          image_ids  \\\n0     2006-08-31 08:06:45                                          [3150850]   \n1     2006-05-21 16:57:00                                          [3006712]   \n2     2006-05-01 14:28:40                                          [3177953]   \n3     2007-03-24 08:27:59                                          [3184029]   \n4     2007-01-18 10:30:37                                          [3030463]   \n...                   ...                                                ...   \n20733 2023-06-08 05:49:20      [9803493, 9803494, 9803495, 9803495, 9803494]   \n20734 2023-06-08 05:54:06                                          [9803516]   \n20735 2023-06-08 06:45:46  [9803518, 9803519, 9803520, 9803521, 9803522, ...   \n20736 2023-06-08 06:25:42                                               None   \n20737 2023-06-08 06:54:53                                          [9803906]   \n\n          article_type                                                url  \\\n0      article_default   https://ekstrabladet.dk/krimi/article3001353.ece   \n1      article_default  https://ekstrabladet.dk/underholdning/filmogtv...   \n2      article_default  https://ekstrabladet.dk/sport/fodbold/dansk_fo...   \n3      article_default  https://ekstrabladet.dk/nyheder/samfund/articl...   \n4      article_default  https://ekstrabladet.dk/sex_og_samliv/article3...   \n...                ...                                                ...   \n20733  article_default  https://ekstrabladet.dk/nyheder/samfund/vilde-...   \n20734  article_default  https://ekstrabladet.dk/sport/anden_sport/badm...   \n20735  article_default  https://ekstrabladet.dk/underholdning/dkkendte...   \n20736  article_default  https://ekstrabladet.dk/nyheder/saa-slemt-er-d...   \n20737  article_default  https://ekstrabladet.dk/krimi/aktion-mod-svind...   \n\n       ...                                      entity_groups  \\\n0      ...                                                 []   \n1      ...                                                 []   \n2      ...                                                 []   \n3      ...                                                 []   \n4      ...                                                 []   \n...    ...                                                ...   \n20733  ...                          [LOC, LOC, PER, ORG, ORG]   \n20734  ...  [PER, PROD, PER, PER, MISC, MISC, PER, PER, LO...   \n20735  ...              [PER, PROD, PER, PER, PER, PER, MISC]   \n20736  ...     [LOC, LOC, LOC, PROD, PER, LOC, ORG, ORG, LOC]   \n20737  ...  [PER, PER, PER, LOC, ORG, LOC, LOC, PER, PER, ...   \n\n                                                  topics category  \\\n0              [Kriminalitet, Personfarlig kriminalitet]      140   \n1                   [Underholdning, Film og tv, Økonomi]      414   \n2      [Erhverv, Kendt, Sport, Fodbold, Ansættelsesfo...      142   \n3                                     [Livsstil, Erotik]      118   \n4                                [Livsstil, Partnerskab]      565   \n...                                                  ...      ...   \n20733              [Katastrofe, Vejr, Større katastrofe]      118   \n20734  [Kendt, Begivenhed, Sport, Ketcher- og batspor...      142   \n20735  [Kendt, Livsstil, Familieliv, Underholdning, F...      414   \n20736  [International politik, Katastrofe, Større kat...      118   \n20737                          [Kriminalitet, Bedrageri]      140   \n\n       subcategory   category_str total_inviews  total_pageviews  \\\n0               []          krimi           NaN              NaN   \n1       [433, 434]  underholdning           NaN              NaN   \n2       [196, 199]          sport           NaN              NaN   \n3            [133]        nyheder           NaN              NaN   \n4               []  sex_og_samliv           NaN              NaN   \n...            ...            ...           ...              ...   \n20733        [133]        nyheder      535989.0         100120.0   \n20734   [327, 330]          sport       13320.0            959.0   \n20735        [425]  underholdning      315391.0          50361.0   \n20736           []        nyheder       21318.0           1237.0   \n20737           []          krimi      331057.0          79590.0   \n\n       total_read_time  sentiment_score  sentiment_label  \n0                  NaN           0.9955         Negative  \n1                  NaN           0.8460         Positive  \n2                  NaN           0.8241         Negative  \n3                  NaN           0.7053          Neutral  \n4                  NaN           0.9307          Neutral  \n...                ...              ...              ...  \n20733        4112624.0           0.6095          Neutral  \n20734          55691.0           0.8884         Positive  \n20735        2550671.0           0.7737         Negative  \n20736          67514.0           0.9927         Negative  \n20737        3694760.0           0.9948         Negative  \n\n[20738 rows x 21 columns]",
      "text/html": "<div>\n<style scoped>\n    .dataframe tbody tr th:only-of-type {\n        vertical-align: middle;\n    }\n\n    .dataframe tbody tr th {\n        vertical-align: top;\n    }\n\n    .dataframe thead th {\n        text-align: right;\n    }\n</style>\n<table border=\"1\" class=\"dataframe\">\n  <thead>\n    <tr style=\"text-align: right;\">\n      <th></th>\n      <th>article_id</th>\n      <th>title</th>\n      <th>subtitle</th>\n      <th>last_modified_time</th>\n      <th>premium</th>\n      <th>body</th>\n      <th>published_time</th>\n      <th>image_ids</th>\n      <th>article_type</th>\n      <th>url</th>\n      <th>...</th>\n      <th>entity_groups</th>\n      <th>topics</th>\n      <th>category</th>\n      <th>subcategory</th>\n      <th>category_str</th>\n      <th>total_inviews</th>\n      <th>total_pageviews</th>\n      <th>total_read_time</th>\n      <th>sentiment_score</th>\n      <th>sentiment_label</th>\n    </tr>\n  </thead>\n  <tbody>\n    <tr>\n      <th>0</th>\n      <td>3001353</td>\n      <td>Natascha var ikke den første</td>\n      <td>Politiet frygter nu, at Nataschas bortfører ha...</td>\n      <td>2023-06-29 06:20:33</td>\n      <td>False</td>\n      <td>Sagen om den østriske Natascha og hendes bortf...</td>\n      <td>2006-08-31 08:06:45</td>\n      <td>[3150850]</td>\n      <td>article_default</td>\n      <td>https://ekstrabladet.dk/krimi/article3001353.ece</td>\n      <td>...</td>\n      <td>[]</td>\n      <td>[Kriminalitet, Personfarlig kriminalitet]</td>\n      <td>140</td>\n      <td>[]</td>\n      <td>krimi</td>\n      <td>NaN</td>\n      <td>NaN</td>\n      <td>NaN</td>\n      <td>0.9955</td>\n      <td>Negative</td>\n    </tr>\n    <tr>\n      <th>1</th>\n      <td>3003065</td>\n      <td>Kun Star Wars tjente mere</td>\n      <td>Biografgængerne strømmer ind for at se 'Da Vin...</td>\n      <td>2023-06-29 06:20:35</td>\n      <td>False</td>\n      <td>Vatikanet har opfordret til at boykotte filmen...</td>\n      <td>2006-05-21 16:57:00</td>\n      <td>[3006712]</td>\n      <td>article_default</td>\n      <td>https://ekstrabladet.dk/underholdning/filmogtv...</td>\n      <td>...</td>\n      <td>[]</td>\n      <td>[Underholdning, Film og tv, Økonomi]</td>\n      <td>414</td>\n      <td>[433, 434]</td>\n      <td>underholdning</td>\n      <td>NaN</td>\n      <td>NaN</td>\n      <td>NaN</td>\n      <td>0.8460</td>\n      <td>Positive</td>\n    </tr>\n    <tr>\n      <th>2</th>\n      <td>3012771</td>\n      <td>Morten Bruun fyret i SønderjyskE</td>\n      <td>FODBOLD: Morten Bruun fyret med øjeblikkelig v...</td>\n      <td>2023-06-29 06:20:39</td>\n      <td>False</td>\n      <td>Kemien mellem spillerne i Superligaklubben Søn...</td>\n      <td>2006-05-01 14:28:40</td>\n      <td>[3177953]</td>\n      <td>article_default</td>\n      <td>https://ekstrabladet.dk/sport/fodbold/dansk_fo...</td>\n      <td>...</td>\n      <td>[]</td>\n      <td>[Erhverv, Kendt, Sport, Fodbold, Ansættelsesfo...</td>\n      <td>142</td>\n      <td>[196, 199]</td>\n      <td>sport</td>\n      <td>NaN</td>\n      <td>NaN</td>\n      <td>NaN</td>\n      <td>0.8241</td>\n      <td>Negative</td>\n    </tr>\n    <tr>\n      <th>3</th>\n      <td>3023463</td>\n      <td>Luderne flytter på landet</td>\n      <td>I landets tyndest befolkede områder skyder bor...</td>\n      <td>2023-06-29 06:20:43</td>\n      <td>False</td>\n      <td>Det frække erhverv rykker på landet. I den tyn...</td>\n      <td>2007-03-24 08:27:59</td>\n      <td>[3184029]</td>\n      <td>article_default</td>\n      <td>https://ekstrabladet.dk/nyheder/samfund/articl...</td>\n      <td>...</td>\n      <td>[]</td>\n      <td>[Livsstil, Erotik]</td>\n      <td>118</td>\n      <td>[133]</td>\n      <td>nyheder</td>\n      <td>NaN</td>\n      <td>NaN</td>\n      <td>NaN</td>\n      <td>0.7053</td>\n      <td>Neutral</td>\n    </tr>\n    <tr>\n      <th>4</th>\n      <td>3032577</td>\n      <td>Cybersex: Hvornår er man utro?</td>\n      <td>En flirtende sms til den flotte fyr i regnskab...</td>\n      <td>2023-06-29 06:20:46</td>\n      <td>False</td>\n      <td>De fleste af os mener, at et tungekys er utros...</td>\n      <td>2007-01-18 10:30:37</td>\n      <td>[3030463]</td>\n      <td>article_default</td>\n      <td>https://ekstrabladet.dk/sex_og_samliv/article3...</td>\n      <td>...</td>\n      <td>[]</td>\n      <td>[Livsstil, Partnerskab]</td>\n      <td>565</td>\n      <td>[]</td>\n      <td>sex_og_samliv</td>\n      <td>NaN</td>\n      <td>NaN</td>\n      <td>NaN</td>\n      <td>0.9307</td>\n      <td>Neutral</td>\n    </tr>\n    <tr>\n      <th>...</th>\n      <td>...</td>\n      <td>...</td>\n      <td>...</td>\n      <td>...</td>\n      <td>...</td>\n      <td>...</td>\n      <td>...</td>\n      <td>...</td>\n      <td>...</td>\n      <td>...</td>\n      <td>...</td>\n      <td>...</td>\n      <td>...</td>\n      <td>...</td>\n      <td>...</td>\n      <td>...</td>\n      <td>...</td>\n      <td>...</td>\n      <td>...</td>\n      <td>...</td>\n      <td>...</td>\n    </tr>\n    <tr>\n      <th>20733</th>\n      <td>9803492</td>\n      <td>Vilde billeder: Vulkan i udbrud i ferieparadis</td>\n      <td>Der er gang i vulkanen på Hawaiis største ø</td>\n      <td>2023-06-29 06:49:26</td>\n      <td>False</td>\n      <td>Det spyer med lava fra vulkanen Kilauea på Haw...</td>\n      <td>2023-06-08 05:49:20</td>\n      <td>[9803493, 9803494, 9803495, 9803495, 9803494]</td>\n      <td>article_default</td>\n      <td>https://ekstrabladet.dk/nyheder/samfund/vilde-...</td>\n      <td>...</td>\n      <td>[LOC, LOC, PER, ORG, ORG]</td>\n      <td>[Katastrofe, Vejr, Større katastrofe]</td>\n      <td>118</td>\n      <td>[133]</td>\n      <td>nyheder</td>\n      <td>535989.0</td>\n      <td>100120.0</td>\n      <td>4112624.0</td>\n      <td>0.6095</td>\n      <td>Neutral</td>\n    </tr>\n    <tr>\n      <th>20734</th>\n      <td>9803505</td>\n      <td>Flyvende Antonsen knuser topspiller</td>\n      <td>Verdens nummer syv, Chou Tien-Chen, fik ikke e...</td>\n      <td>2023-06-29 06:49:26</td>\n      <td>False</td>\n      <td>Anders Antonsen har holdt pause fra badmintonb...</td>\n      <td>2023-06-08 05:54:06</td>\n      <td>[9803516]</td>\n      <td>article_default</td>\n      <td>https://ekstrabladet.dk/sport/anden_sport/badm...</td>\n      <td>...</td>\n      <td>[PER, PROD, PER, PER, MISC, MISC, PER, PER, LO...</td>\n      <td>[Kendt, Begivenhed, Sport, Ketcher- og batspor...</td>\n      <td>142</td>\n      <td>[327, 330]</td>\n      <td>sport</td>\n      <td>13320.0</td>\n      <td>959.0</td>\n      <td>55691.0</td>\n      <td>0.8884</td>\n      <td>Positive</td>\n    </tr>\n    <tr>\n      <th>20735</th>\n      <td>9803525</td>\n      <td>Dansk skuespiller: - Jeg nægtede, at jeg var syg</td>\n      <td>Julie R. Ølgaard fik akut kejsersnit og fødte ...</td>\n      <td>2023-06-29 06:49:26</td>\n      <td>False</td>\n      <td>Mens hun lå søvnløs, lød kakofonien fra baggår...</td>\n      <td>2023-06-08 06:45:46</td>\n      <td>[9803518, 9803519, 9803520, 9803521, 9803522, ...</td>\n      <td>article_default</td>\n      <td>https://ekstrabladet.dk/underholdning/dkkendte...</td>\n      <td>...</td>\n      <td>[PER, PROD, PER, PER, PER, PER, MISC]</td>\n      <td>[Kendt, Livsstil, Familieliv, Underholdning, F...</td>\n      <td>414</td>\n      <td>[425]</td>\n      <td>underholdning</td>\n      <td>315391.0</td>\n      <td>50361.0</td>\n      <td>2550671.0</td>\n      <td>0.7737</td>\n      <td>Negative</td>\n    </tr>\n    <tr>\n      <th>20736</th>\n      <td>9803560</td>\n      <td>Så slemt er det: 14.000 huse er oversvømmet</td>\n      <td>Tusindvis af huse står under vand i Kherson-re...</td>\n      <td>2023-06-29 06:49:26</td>\n      <td>False</td>\n      <td>Et område på omkring 600 kvadratkilometer står...</td>\n      <td>2023-06-08 06:25:42</td>\n      <td>None</td>\n      <td>article_default</td>\n      <td>https://ekstrabladet.dk/nyheder/saa-slemt-er-d...</td>\n      <td>...</td>\n      <td>[LOC, LOC, LOC, PROD, PER, LOC, ORG, ORG, LOC]</td>\n      <td>[International politik, Katastrofe, Større kat...</td>\n      <td>118</td>\n      <td>[]</td>\n      <td>nyheder</td>\n      <td>21318.0</td>\n      <td>1237.0</td>\n      <td>67514.0</td>\n      <td>0.9927</td>\n      <td>Negative</td>\n    </tr>\n    <tr>\n      <th>20737</th>\n      <td>9803607</td>\n      <td>Aktion mod svindlere: Seks personer anholdt</td>\n      <td>Flere kvinder er ifølge politiet blevet svindl...</td>\n      <td>2023-06-29 06:49:26</td>\n      <td>False</td>\n      <td>Mindst otte personer er blevet anholdt og sigt...</td>\n      <td>2023-06-08 06:54:53</td>\n      <td>[9803906]</td>\n      <td>article_default</td>\n      <td>https://ekstrabladet.dk/krimi/aktion-mod-svind...</td>\n      <td>...</td>\n      <td>[PER, PER, PER, LOC, ORG, LOC, LOC, PER, PER, ...</td>\n      <td>[Kriminalitet, Bedrageri]</td>\n      <td>140</td>\n      <td>[]</td>\n      <td>krimi</td>\n      <td>331057.0</td>\n      <td>79590.0</td>\n      <td>3694760.0</td>\n      <td>0.9948</td>\n      <td>Negative</td>\n    </tr>\n  </tbody>\n</table>\n<p>20738 rows × 21 columns</p>\n</div>"
     },
     "execution_count": 223,
     "metadata": {},
     "output_type": "execute_result"
    }
   ],
   "source": [
    "df_articles_train = pd.read_parquet(path=\"./ebnerd_small/articles.parquet\")\n",
    "# df_articles_val = pd.read_parquet(path=\"./ebnerd_small/articles.parquet\")\n",
    "# df_articles_train = df_articles_train[[\"article_id\", \"published_time\", \"last_modified_time\", \"premium\", \"category\"]]\n",
    "df_articles_train"
   ],
   "metadata": {
    "collapsed": false,
    "pycharm": {
     "name": "#%%\n"
    }
   }
  },
  {
   "cell_type": "code",
   "execution_count": 165,
   "outputs": [
    {
     "name": "stdout",
     "output_type": "stream",
     "text": [
      "                  19379   19420   19427   19428   19430\n",
      "sentiment_score  0.9793     NaN     NaN     NaN     NaN\n",
      "sentiment_score     NaN  0.9823     NaN     NaN     NaN\n",
      "sentiment_score     NaN     NaN  0.9781     NaN     NaN\n",
      "sentiment_score     NaN     NaN     NaN  0.9529     NaN\n",
      "sentiment_score     NaN     NaN     NaN     NaN  0.8887\n"
     ]
    }
   ],
   "source": [],
   "metadata": {
    "collapsed": false,
    "pycharm": {
     "name": "#%%\n"
    }
   }
  },
  {
   "cell_type": "code",
   "execution_count": 190,
   "outputs": [],
   "source": [
    "# sort them by sentiment_score"
   ],
   "metadata": {
    "collapsed": false,
    "pycharm": {
     "name": "#%%\n"
    }
   }
  },
  {
   "cell_type": "code",
   "execution_count": 305,
   "outputs": [
    {
     "name": "stdout",
     "output_type": "stream",
     "text": [
      "29887 203000\n",
      "0.14722660098522167\n",
      "0.1283326248352205\n"
     ]
    },
    {
     "data": {
      "text/plain": "        impression_id  user_id  \\\n0              149474   139836   \n1              150528   143471   \n2              153068   151570   \n3              153070   151570   \n4              153071   151570   \n...               ...      ...   \n232882      580099643  2106715   \n232883      580099644  2106715   \n232884      580099645  2106715   \n232885      580100695  2110744   \n232886      580100697  2110744   \n\n                                       article_ids_inview article_ids_clicked  \\\n0       [9778623, 9778682, 9778669, 9778657, 9778736, ...           [9778657]   \n1       [9778718, 9778728, 9778745, 9778669, 9778657, ...           [9778623]   \n2       [9778657, 9778669, 9772866, 9776259, 9756397, ...           [9778669]   \n3       [9020783, 9778444, 9525589, 7213923, 9777397, ...           [9778628]   \n4       [9777492, 9774568, 9565836, 9335113, 9771223, ...           [9777492]   \n...                                                   ...                 ...   \n232882  [9233208, 9771242, 9767697, 9514481, 9771065, ...           [9770886]   \n232883  [9771065, 9767697, 9770886, 9758882, 9709817, ...           [9769306]   \n232884  [9771042, 9440508, 9486080, 9770997, 9120051, ...           [9771042]   \n232885  [9440508, 9142581, 9769917, 9767697, 9514481, ...           [9767697]   \n232886  [9233208, 8422665, 9769306, 9771042, 9514481, ...           [9771042]   \n\n                                  highest_sentiment_score  \n0       [9778623, 9778728, 9778682, 9778669, 9778657, ...  \n1       [9778718, 9778623, 9778728, 9778682, 9778669, ...  \n2       [9776259, 9778682, 9778669, 9756397, 9778657, ...  \n3       [9778444, 9430567, 9778718, 9777397, 9525589, ...  \n4       [9770218, 9778623, 9777492, 9131971, 9335113, ...  \n...                                                   ...  \n232882  [9770886, 9771242, 9771083, 9769306, 9767697, ...  \n232883  [9770886, 9742735, 9771242, 9709817, 9769917, ...  \n232884  [9770886, 9767697, 9440508, 9470078, 9770997, ...  \n232885  [9770886, 9769917, 9767697, 9514481, 9440508, ...  \n232886  [9769306, 9514481, 9440508, 9770997, 9233208, ...  \n\n[232887 rows x 5 columns]",
      "text/html": "<div>\n<style scoped>\n    .dataframe tbody tr th:only-of-type {\n        vertical-align: middle;\n    }\n\n    .dataframe tbody tr th {\n        vertical-align: top;\n    }\n\n    .dataframe thead th {\n        text-align: right;\n    }\n</style>\n<table border=\"1\" class=\"dataframe\">\n  <thead>\n    <tr style=\"text-align: right;\">\n      <th></th>\n      <th>impression_id</th>\n      <th>user_id</th>\n      <th>article_ids_inview</th>\n      <th>article_ids_clicked</th>\n      <th>highest_sentiment_score</th>\n    </tr>\n  </thead>\n  <tbody>\n    <tr>\n      <th>0</th>\n      <td>149474</td>\n      <td>139836</td>\n      <td>[9778623, 9778682, 9778669, 9778657, 9778736, ...</td>\n      <td>[9778657]</td>\n      <td>[9778623, 9778728, 9778682, 9778669, 9778657, ...</td>\n    </tr>\n    <tr>\n      <th>1</th>\n      <td>150528</td>\n      <td>143471</td>\n      <td>[9778718, 9778728, 9778745, 9778669, 9778657, ...</td>\n      <td>[9778623]</td>\n      <td>[9778718, 9778623, 9778728, 9778682, 9778669, ...</td>\n    </tr>\n    <tr>\n      <th>2</th>\n      <td>153068</td>\n      <td>151570</td>\n      <td>[9778657, 9778669, 9772866, 9776259, 9756397, ...</td>\n      <td>[9778669]</td>\n      <td>[9776259, 9778682, 9778669, 9756397, 9778657, ...</td>\n    </tr>\n    <tr>\n      <th>3</th>\n      <td>153070</td>\n      <td>151570</td>\n      <td>[9020783, 9778444, 9525589, 7213923, 9777397, ...</td>\n      <td>[9778628]</td>\n      <td>[9778444, 9430567, 9778718, 9777397, 9525589, ...</td>\n    </tr>\n    <tr>\n      <th>4</th>\n      <td>153071</td>\n      <td>151570</td>\n      <td>[9777492, 9774568, 9565836, 9335113, 9771223, ...</td>\n      <td>[9777492]</td>\n      <td>[9770218, 9778623, 9777492, 9131971, 9335113, ...</td>\n    </tr>\n    <tr>\n      <th>...</th>\n      <td>...</td>\n      <td>...</td>\n      <td>...</td>\n      <td>...</td>\n      <td>...</td>\n    </tr>\n    <tr>\n      <th>232882</th>\n      <td>580099643</td>\n      <td>2106715</td>\n      <td>[9233208, 9771242, 9767697, 9514481, 9771065, ...</td>\n      <td>[9770886]</td>\n      <td>[9770886, 9771242, 9771083, 9769306, 9767697, ...</td>\n    </tr>\n    <tr>\n      <th>232883</th>\n      <td>580099644</td>\n      <td>2106715</td>\n      <td>[9771065, 9767697, 9770886, 9758882, 9709817, ...</td>\n      <td>[9769306]</td>\n      <td>[9770886, 9742735, 9771242, 9709817, 9769917, ...</td>\n    </tr>\n    <tr>\n      <th>232884</th>\n      <td>580099645</td>\n      <td>2106715</td>\n      <td>[9771042, 9440508, 9486080, 9770997, 9120051, ...</td>\n      <td>[9771042]</td>\n      <td>[9770886, 9767697, 9440508, 9470078, 9770997, ...</td>\n    </tr>\n    <tr>\n      <th>232885</th>\n      <td>580100695</td>\n      <td>2110744</td>\n      <td>[9440508, 9142581, 9769917, 9767697, 9514481, ...</td>\n      <td>[9767697]</td>\n      <td>[9770886, 9769917, 9767697, 9514481, 9440508, ...</td>\n    </tr>\n    <tr>\n      <th>232886</th>\n      <td>580100697</td>\n      <td>2110744</td>\n      <td>[9233208, 8422665, 9769306, 9771042, 9514481, ...</td>\n      <td>[9771042]</td>\n      <td>[9769306, 9514481, 9440508, 9770997, 9233208, ...</td>\n    </tr>\n  </tbody>\n</table>\n<p>232887 rows × 5 columns</p>\n</div>"
     },
     "execution_count": 305,
     "metadata": {},
     "output_type": "execute_result"
    }
   ],
   "source": [
    "guessed_right = 0\n",
    "guessed_wrong = 0\n",
    "guesses = []\n",
    "for index, row in df_train.iterrows():\n",
    "    a = df_articles_train[df_articles_train[\"article_id\"].isin(row[\"article_ids_inview\"])]\n",
    "    sorted_art = a[[\"article_id\", \"sentiment_score\"]].sort_values(by=['sentiment_score'], ascending=False)\n",
    "    guesses.append(sorted_art[\"article_id\"].tolist())\n",
    "    if sorted_art.loc[sorted_art.index[0]][\"article_id\"].astype(int) in row[\"article_ids_clicked\"]:\n",
    "        guessed_right += 1\n",
    "    else:\n",
    "        guessed_wrong += 1\n",
    "\n",
    "print(guessed_right, guessed_wrong)\n",
    "print(guessed_right/guessed_wrong)\n",
    "print(guessed_right/(guessed_wrong + guessed_right))\n",
    "df_answers[\"highest_sentiment_score\"] = guesses\n",
    "df_answers"
   ],
   "metadata": {
    "collapsed": false,
    "pycharm": {
     "name": "#%%\n"
    }
   }
  },
  {
   "cell_type": "code",
   "execution_count": 258,
   "outputs": [
    {
     "name": "stdout",
     "output_type": "stream",
     "text": [
      "30966 213681\n",
      "0.14491695564884102\n",
      "0.12657420691853977\n"
     ]
    },
    {
     "data": {
      "text/plain": "        impression_id  user_id  \\\n0               96791    22548   \n1               96798    22548   \n2               96801    22548   \n3               96808    22548   \n4               96810    22548   \n...               ...      ...   \n244642      579250707  1529985   \n244643      579251515  1532837   \n244644      579251519  1532837   \n244645      579253363  1539939   \n244646      579552453   752762   \n\n                                       article_ids_inview article_ids_clicked  \\\n0           [9783865, 9784591, 9784679, 9784696, 9784710]           [9784696]   \n1       [9782884, 9783865, 9782726, 9695098, 9782806, ...           [9784281]   \n2       [9784648, 7184889, 9784444, 9781785, 9783405, ...           [9784444]   \n3           [9784607, 9695098, 9784406, 7184889, 9781983]           [9781983]   \n4       [9781983, 7184889, 9784642, 9782108, 9781785, ...           [9784642]   \n...                                                   ...                 ...   \n244642  [9782929, 9782919, 9783213, 9783075, 9782746, ...           [9783075]   \n244643      [9782746, 9782929, 9783720, 9782645, 9783075]           [9783075]   \n244644  [9783213, 9782645, 9782423, 9783657, 9782746, ...           [9782423]   \n244645  [9142564, 9783657, 9783404, 9782670, 9783720, ...           [9783720]   \n244646      [9784575, 9784662, 9784642, 9782656, 9784559]           [9782656]   \n\n                                      not_already_clicked  \\\n0           [9783865, 9784591, 9784679, 9784696, 9784710]   \n1       [9782884, 9783865, 9782726, 9695098, 9782806, ...   \n2       [9784648, 7184889, 9784444, 9781785, 9783405, ...   \n3           [9784607, 9695098, 9784406, 7184889, 9781983]   \n4       [9781983, 7184889, 9784642, 9782108, 9781785, ...   \n...                                                   ...   \n244642  [9782929, 9782919, 9783213, 9783075, 9782746, ...   \n244643      [9782746, 9782929, 9783720, 9782645, 9783075]   \n244644  [9783213, 9782645, 9782423, 9783657, 9782746, ...   \n244645  [9142564, 9783657, 9783404, 9782670, 9783720, ...   \n244646      [9784575, 9784662, 9784642, 9782656, 9784559]   \n\n        highestsentiment_score  lowest_sentiment_score  \n0                      9784591                 9784710  \n1                      9779370                 9784506  \n2                      9782108                 9784444  \n3                      7184889                 9781983  \n4                      9782108                 9781983  \n...                        ...                     ...  \n244642                 9783075                 9783213  \n244643                 9783720                 9782929  \n244644                 9783720                 9783657  \n244645                 9783720                 9782092  \n244646                 9784575                 9784559  \n\n[244647 rows x 7 columns]",
      "text/html": "<div>\n<style scoped>\n    .dataframe tbody tr th:only-of-type {\n        vertical-align: middle;\n    }\n\n    .dataframe tbody tr th {\n        vertical-align: top;\n    }\n\n    .dataframe thead th {\n        text-align: right;\n    }\n</style>\n<table border=\"1\" class=\"dataframe\">\n  <thead>\n    <tr style=\"text-align: right;\">\n      <th></th>\n      <th>impression_id</th>\n      <th>user_id</th>\n      <th>article_ids_inview</th>\n      <th>article_ids_clicked</th>\n      <th>not_already_clicked</th>\n      <th>highestsentiment_score</th>\n      <th>lowest_sentiment_score</th>\n    </tr>\n  </thead>\n  <tbody>\n    <tr>\n      <th>0</th>\n      <td>96791</td>\n      <td>22548</td>\n      <td>[9783865, 9784591, 9784679, 9784696, 9784710]</td>\n      <td>[9784696]</td>\n      <td>[9783865, 9784591, 9784679, 9784696, 9784710]</td>\n      <td>9784591</td>\n      <td>9784710</td>\n    </tr>\n    <tr>\n      <th>1</th>\n      <td>96798</td>\n      <td>22548</td>\n      <td>[9782884, 9783865, 9782726, 9695098, 9782806, ...</td>\n      <td>[9784281]</td>\n      <td>[9782884, 9783865, 9782726, 9695098, 9782806, ...</td>\n      <td>9779370</td>\n      <td>9784506</td>\n    </tr>\n    <tr>\n      <th>2</th>\n      <td>96801</td>\n      <td>22548</td>\n      <td>[9784648, 7184889, 9784444, 9781785, 9783405, ...</td>\n      <td>[9784444]</td>\n      <td>[9784648, 7184889, 9784444, 9781785, 9783405, ...</td>\n      <td>9782108</td>\n      <td>9784444</td>\n    </tr>\n    <tr>\n      <th>3</th>\n      <td>96808</td>\n      <td>22548</td>\n      <td>[9784607, 9695098, 9784406, 7184889, 9781983]</td>\n      <td>[9781983]</td>\n      <td>[9784607, 9695098, 9784406, 7184889, 9781983]</td>\n      <td>7184889</td>\n      <td>9781983</td>\n    </tr>\n    <tr>\n      <th>4</th>\n      <td>96810</td>\n      <td>22548</td>\n      <td>[9781983, 7184889, 9784642, 9782108, 9781785, ...</td>\n      <td>[9784642]</td>\n      <td>[9781983, 7184889, 9784642, 9782108, 9781785, ...</td>\n      <td>9782108</td>\n      <td>9781983</td>\n    </tr>\n    <tr>\n      <th>...</th>\n      <td>...</td>\n      <td>...</td>\n      <td>...</td>\n      <td>...</td>\n      <td>...</td>\n      <td>...</td>\n      <td>...</td>\n    </tr>\n    <tr>\n      <th>244642</th>\n      <td>579250707</td>\n      <td>1529985</td>\n      <td>[9782929, 9782919, 9783213, 9783075, 9782746, ...</td>\n      <td>[9783075]</td>\n      <td>[9782929, 9782919, 9783213, 9783075, 9782746, ...</td>\n      <td>9783075</td>\n      <td>9783213</td>\n    </tr>\n    <tr>\n      <th>244643</th>\n      <td>579251515</td>\n      <td>1532837</td>\n      <td>[9782746, 9782929, 9783720, 9782645, 9783075]</td>\n      <td>[9783075]</td>\n      <td>[9782746, 9782929, 9783720, 9782645, 9783075]</td>\n      <td>9783720</td>\n      <td>9782929</td>\n    </tr>\n    <tr>\n      <th>244644</th>\n      <td>579251519</td>\n      <td>1532837</td>\n      <td>[9783213, 9782645, 9782423, 9783657, 9782746, ...</td>\n      <td>[9782423]</td>\n      <td>[9783213, 9782645, 9782423, 9783657, 9782746, ...</td>\n      <td>9783720</td>\n      <td>9783657</td>\n    </tr>\n    <tr>\n      <th>244645</th>\n      <td>579253363</td>\n      <td>1539939</td>\n      <td>[9142564, 9783657, 9783404, 9782670, 9783720, ...</td>\n      <td>[9783720]</td>\n      <td>[9142564, 9783657, 9783404, 9782670, 9783720, ...</td>\n      <td>9783720</td>\n      <td>9782092</td>\n    </tr>\n    <tr>\n      <th>244646</th>\n      <td>579552453</td>\n      <td>752762</td>\n      <td>[9784575, 9784662, 9784642, 9782656, 9784559]</td>\n      <td>[9782656]</td>\n      <td>[9784575, 9784662, 9784642, 9782656, 9784559]</td>\n      <td>9784575</td>\n      <td>9784559</td>\n    </tr>\n  </tbody>\n</table>\n<p>244647 rows × 7 columns</p>\n</div>"
     },
     "execution_count": 258,
     "metadata": {},
     "output_type": "execute_result"
    }
   ],
   "source": [
    "guessed_right = 0\n",
    "guessed_wrong = 0\n",
    "guesses = []\n",
    "for index, row in df_val.iterrows():\n",
    "    a = df_articles_train[df_articles_train[\"article_id\"].isin(row[\"article_ids_inview\"])]\n",
    "    sorted_art = a[[\"article_id\", \"sentiment_score\"]].sort_values(by=['sentiment_score'], ascending=True)\n",
    "    guesses.append(sorted_art.loc[sorted_art.index[0]][\"article_id\"].astype(int))\n",
    "    if sorted_art.loc[sorted_art.index[0]][\"article_id\"].astype(int) in row[\"article_ids_clicked\"]:\n",
    "        guessed_right += 1\n",
    "    else:\n",
    "        guessed_wrong += 1\n",
    "\n",
    "print(guessed_right, guessed_wrong)\n",
    "print(guessed_right/guessed_wrong)\n",
    "print(guessed_right/(guessed_wrong + guessed_right))\n",
    "\n",
    "df_answers[\"lowest_sentiment_score\"] = guesses\n",
    "df_answers"
   ],
   "metadata": {
    "collapsed": false,
    "pycharm": {
     "name": "#%%\n"
    }
   }
  },
  {
   "cell_type": "code",
   "execution_count": 192,
   "outputs": [],
   "source": [
    "# category"
   ],
   "metadata": {
    "collapsed": false,
    "pycharm": {
     "name": "#%%\n"
    }
   }
  },
  {
   "cell_type": "code",
   "execution_count": 219,
   "outputs": [
    {
     "data": {
      "text/plain": "array([ 140,  414,  142,  118,  565,    2,  539,  498,  572,  512,  457,\n        529,  561,  806, 2341,  731,   22, 1505,   68, 2077, 2504, 2731,\n       2737, 2889, 2975], dtype=int16)"
     },
     "execution_count": 219,
     "metadata": {},
     "output_type": "execute_result"
    }
   ],
   "source": [
    "unique_categories = df_articles_train[\"category\"].unique()\n",
    "unique_categories"
   ],
   "metadata": {
    "collapsed": false,
    "pycharm": {
     "name": "#%%\n"
    }
   }
  },
  {
   "cell_type": "code",
   "execution_count": 211,
   "outputs": [
    {
     "data": {
      "text/plain": "       user_id                                   article_id_fixed\n0        10068  [9735753, 9739065, 9667501, 9757508, 9759671, ...\n1        10200  [9764325, 9763923, 9763854, 9423230, 9763854, ...\n2        10201  [9738557, 9738569, 9738490, 9738528, 9736689, ...\n3        10385  [9777320, 9777475, 9777529, 9778028, 9778192, ...\n4        10623  [9739035, 9739065, 9738303, 9739065, 9737266, ...\n...        ...                                                ...\n18822  2590039  [9778168, 9778198, 9778168, 9778192, 9778236, ...\n18823  2590054  [9741288, 9743490, 9741288, 9738659, 9743320, ...\n18824  2590471  [9770533, 9770491, 9770532, 9770491, 9769433, ...\n18825  2590571  [9762694, 9764086, 9764049, 9763977, 9763880, ...\n18826  2590637  [9739296, 9739065, 9740843, 9740749, 9737154, ...\n\n[18827 rows x 2 columns]",
      "text/html": "<div>\n<style scoped>\n    .dataframe tbody tr th:only-of-type {\n        vertical-align: middle;\n    }\n\n    .dataframe tbody tr th {\n        vertical-align: top;\n    }\n\n    .dataframe thead th {\n        text-align: right;\n    }\n</style>\n<table border=\"1\" class=\"dataframe\">\n  <thead>\n    <tr style=\"text-align: right;\">\n      <th></th>\n      <th>user_id</th>\n      <th>article_id_fixed</th>\n    </tr>\n  </thead>\n  <tbody>\n    <tr>\n      <th>0</th>\n      <td>10068</td>\n      <td>[9735753, 9739065, 9667501, 9757508, 9759671, ...</td>\n    </tr>\n    <tr>\n      <th>1</th>\n      <td>10200</td>\n      <td>[9764325, 9763923, 9763854, 9423230, 9763854, ...</td>\n    </tr>\n    <tr>\n      <th>2</th>\n      <td>10201</td>\n      <td>[9738557, 9738569, 9738490, 9738528, 9736689, ...</td>\n    </tr>\n    <tr>\n      <th>3</th>\n      <td>10385</td>\n      <td>[9777320, 9777475, 9777529, 9778028, 9778192, ...</td>\n    </tr>\n    <tr>\n      <th>4</th>\n      <td>10623</td>\n      <td>[9739035, 9739065, 9738303, 9739065, 9737266, ...</td>\n    </tr>\n    <tr>\n      <th>...</th>\n      <td>...</td>\n      <td>...</td>\n    </tr>\n    <tr>\n      <th>18822</th>\n      <td>2590039</td>\n      <td>[9778168, 9778198, 9778168, 9778192, 9778236, ...</td>\n    </tr>\n    <tr>\n      <th>18823</th>\n      <td>2590054</td>\n      <td>[9741288, 9743490, 9741288, 9738659, 9743320, ...</td>\n    </tr>\n    <tr>\n      <th>18824</th>\n      <td>2590471</td>\n      <td>[9770533, 9770491, 9770532, 9770491, 9769433, ...</td>\n    </tr>\n    <tr>\n      <th>18825</th>\n      <td>2590571</td>\n      <td>[9762694, 9764086, 9764049, 9763977, 9763880, ...</td>\n    </tr>\n    <tr>\n      <th>18826</th>\n      <td>2590637</td>\n      <td>[9739296, 9739065, 9740843, 9740749, 9737154, ...</td>\n    </tr>\n  </tbody>\n</table>\n<p>18827 rows × 2 columns</p>\n</div>"
     },
     "execution_count": 211,
     "metadata": {},
     "output_type": "execute_result"
    }
   ],
   "source": [
    "def aggregate_hobbies(hobbies):\n",
    "    aggregated = []\n",
    "    for hobby_list in hobbies:\n",
    "        aggregated.extend(hobby_list)\n",
    "    return aggregated\n",
    "\n",
    "df_history_train = pd.read_parquet(path=\"./ebnerd_small/train/history.parquet\")\n",
    "df_history_val = pd.read_parquet(path=\"./ebnerd_small/validation/history.parquet\")\n",
    "concatenated_df = pd.concat([df_history_train, df_history_val], ignore_index=True)\n",
    "concatenated_df = concatenated_df[[\"user_id\", \"article_id_fixed\"]]\n",
    "result_df = concatenated_df.groupby('user_id', as_index=False).agg({'article_id_fixed': aggregate_hobbies})\n",
    "# print(len(df_history_train[df_history_train[\"user_id\"] == 14241][\"article_id_fixed\"][1]))\n",
    "# print(len(df_history_val[df_history_val[\"user_id\"] == 14241][\"article_id_fixed\"][0]))\n",
    "# print(len(result_df[result_df[\"user_id\"] == 14241][\"article_id_fixed\"][33]))\n",
    "result_df"
   ],
   "metadata": {
    "collapsed": false,
    "pycharm": {
     "name": "#%%\n"
    }
   }
  },
  {
   "cell_type": "code",
   "execution_count": 220,
   "outputs": [
    {
     "data": {
      "text/plain": "       user_id                                           category\n0        10068  [457, 414, 498, 414, 414, 414, 414, 118, 118, ...\n1        10200  [118, 118, 118, 118, 414, 414, 140, 140, 140, ...\n2        10201  [118, 118, 512, 512, 2975, 140, 142, 457, 118,...\n3        10385  [118, 118, 512, 2975, 498, 2975, 142, 118, 414...\n4        10623  [414, 414, 140, 140, 118, 118, 118, 118, 414, ...\n...        ...                                                ...\n18822  2590039  [498, 414, 414, 414, 140, 140, 140, 140, 118, ...\n18823  2590054  [414, 414, 414, 118, 414, 140, 498, 118, 118, ...\n18824  2590471  [140, 142, 142, 118, 118, 142, 142, 118, 142, ...\n18825  2590571  [118, 142, 2975, 142, 142, 414, 118, 140, 118,...\n18826  2590637  [414, 414, 414, 140, 140, 142, 142, 140, 140, ...\n\n[18827 rows x 2 columns]",
      "text/html": "<div>\n<style scoped>\n    .dataframe tbody tr th:only-of-type {\n        vertical-align: middle;\n    }\n\n    .dataframe tbody tr th {\n        vertical-align: top;\n    }\n\n    .dataframe thead th {\n        text-align: right;\n    }\n</style>\n<table border=\"1\" class=\"dataframe\">\n  <thead>\n    <tr style=\"text-align: right;\">\n      <th></th>\n      <th>user_id</th>\n      <th>category</th>\n    </tr>\n  </thead>\n  <tbody>\n    <tr>\n      <th>0</th>\n      <td>10068</td>\n      <td>[457, 414, 498, 414, 414, 414, 414, 118, 118, ...</td>\n    </tr>\n    <tr>\n      <th>1</th>\n      <td>10200</td>\n      <td>[118, 118, 118, 118, 414, 414, 140, 140, 140, ...</td>\n    </tr>\n    <tr>\n      <th>2</th>\n      <td>10201</td>\n      <td>[118, 118, 512, 512, 2975, 140, 142, 457, 118,...</td>\n    </tr>\n    <tr>\n      <th>3</th>\n      <td>10385</td>\n      <td>[118, 118, 512, 2975, 498, 2975, 142, 118, 414...</td>\n    </tr>\n    <tr>\n      <th>4</th>\n      <td>10623</td>\n      <td>[414, 414, 140, 140, 118, 118, 118, 118, 414, ...</td>\n    </tr>\n    <tr>\n      <th>...</th>\n      <td>...</td>\n      <td>...</td>\n    </tr>\n    <tr>\n      <th>18822</th>\n      <td>2590039</td>\n      <td>[498, 414, 414, 414, 140, 140, 140, 140, 118, ...</td>\n    </tr>\n    <tr>\n      <th>18823</th>\n      <td>2590054</td>\n      <td>[414, 414, 414, 118, 414, 140, 498, 118, 118, ...</td>\n    </tr>\n    <tr>\n      <th>18824</th>\n      <td>2590471</td>\n      <td>[140, 142, 142, 118, 118, 142, 142, 118, 142, ...</td>\n    </tr>\n    <tr>\n      <th>18825</th>\n      <td>2590571</td>\n      <td>[118, 142, 2975, 142, 142, 414, 118, 140, 118,...</td>\n    </tr>\n    <tr>\n      <th>18826</th>\n      <td>2590637</td>\n      <td>[414, 414, 414, 140, 140, 142, 142, 140, 140, ...</td>\n    </tr>\n  </tbody>\n</table>\n<p>18827 rows × 2 columns</p>\n</div>"
     },
     "execution_count": 220,
     "metadata": {},
     "output_type": "execute_result"
    }
   ],
   "source": [
    "exploded_df = result_df.explode('article_id_fixed')\n",
    "merged_df = pd.merge(exploded_df, df_articles_train, left_on='article_id_fixed', right_on='article_id')\n",
    "df3 = merged_df.groupby('user_id').agg({'category': list}).reset_index()\n",
    "df3"
   ],
   "metadata": {
    "collapsed": false,
    "pycharm": {
     "name": "#%%\n"
    }
   }
  },
  {
   "cell_type": "code",
   "execution_count": 224,
   "outputs": [
    {
     "data": {
      "text/plain": "       user_id                                           category\n0        10068                     [414, 118, 457, 140, 142, 498]\n1        10200     [140, 118, 414, 142, 2975, 512, 498, 565, 457]\n2        10201          [118, 142, 414, 140, 2975, 512, 498, 457]\n3        10385               [118, 142, 2975, 512, 498, 414, 457]\n4        10623  [118, 142, 140, 414, 512, 457, 2975, 529, 2077...\n...        ...                                                ...\n18822  2590039                          [140, 414, 498, 142, 118]\n18823  2590054                               [414, 118, 140, 498]\n18824  2590471                                    [142, 118, 140]\n18825  2590571          [142, 118, 414, 140, 2975, 457, 498, 512]\n18826  2590637               [142, 414, 140, 118, 2975, 498, 457]\n\n[18827 rows x 2 columns]",
      "text/html": "<div>\n<style scoped>\n    .dataframe tbody tr th:only-of-type {\n        vertical-align: middle;\n    }\n\n    .dataframe tbody tr th {\n        vertical-align: top;\n    }\n\n    .dataframe thead th {\n        text-align: right;\n    }\n</style>\n<table border=\"1\" class=\"dataframe\">\n  <thead>\n    <tr style=\"text-align: right;\">\n      <th></th>\n      <th>user_id</th>\n      <th>category</th>\n    </tr>\n  </thead>\n  <tbody>\n    <tr>\n      <th>0</th>\n      <td>10068</td>\n      <td>[414, 118, 457, 140, 142, 498]</td>\n    </tr>\n    <tr>\n      <th>1</th>\n      <td>10200</td>\n      <td>[140, 118, 414, 142, 2975, 512, 498, 565, 457]</td>\n    </tr>\n    <tr>\n      <th>2</th>\n      <td>10201</td>\n      <td>[118, 142, 414, 140, 2975, 512, 498, 457]</td>\n    </tr>\n    <tr>\n      <th>3</th>\n      <td>10385</td>\n      <td>[118, 142, 2975, 512, 498, 414, 457]</td>\n    </tr>\n    <tr>\n      <th>4</th>\n      <td>10623</td>\n      <td>[118, 142, 140, 414, 512, 457, 2975, 529, 2077...</td>\n    </tr>\n    <tr>\n      <th>...</th>\n      <td>...</td>\n      <td>...</td>\n    </tr>\n    <tr>\n      <th>18822</th>\n      <td>2590039</td>\n      <td>[140, 414, 498, 142, 118]</td>\n    </tr>\n    <tr>\n      <th>18823</th>\n      <td>2590054</td>\n      <td>[414, 118, 140, 498]</td>\n    </tr>\n    <tr>\n      <th>18824</th>\n      <td>2590471</td>\n      <td>[142, 118, 140]</td>\n    </tr>\n    <tr>\n      <th>18825</th>\n      <td>2590571</td>\n      <td>[142, 118, 414, 140, 2975, 457, 498, 512]</td>\n    </tr>\n    <tr>\n      <th>18826</th>\n      <td>2590637</td>\n      <td>[142, 414, 140, 118, 2975, 498, 457]</td>\n    </tr>\n  </tbody>\n</table>\n<p>18827 rows × 2 columns</p>\n</div>"
     },
     "execution_count": 224,
     "metadata": {},
     "output_type": "execute_result"
    }
   ],
   "source": [
    "def unique_sorted_categories(categories):\n",
    "    # Count the frequency of each category\n",
    "    category_counts = pd.Series(categories).value_counts()\n",
    "    # Sort categories by frequency\n",
    "    sorted_categories = category_counts.index.tolist()\n",
    "    return sorted_categories\n",
    "\n",
    "df31 = merged_df.groupby('user_id')['category'].apply(unique_sorted_categories).reset_index()\n",
    "df31\n"
   ],
   "metadata": {
    "collapsed": false,
    "pycharm": {
     "name": "#%%\n"
    }
   }
  },
  {
   "cell_type": "code",
   "execution_count": 306,
   "outputs": [
    {
     "name": "stdout",
     "output_type": "stream",
     "text": [
      "33064 199823\n",
      "0.16546643779745074\n",
      "0.14197443395294715\n"
     ]
    },
    {
     "data": {
      "text/plain": "        impression_id  user_id  \\\n0              149474   139836   \n1              150528   143471   \n2              153068   151570   \n3              153070   151570   \n4              153071   151570   \n...               ...      ...   \n232882      580099643  2106715   \n232883      580099644  2106715   \n232884      580099645  2106715   \n232885      580100695  2110744   \n232886      580100697  2110744   \n\n                                       article_ids_inview article_ids_clicked  \\\n0       [9778623, 9778682, 9778669, 9778657, 9778736, ...           [9778657]   \n1       [9778718, 9778728, 9778745, 9778669, 9778657, ...           [9778623]   \n2       [9778657, 9778669, 9772866, 9776259, 9756397, ...           [9778669]   \n3       [9020783, 9778444, 9525589, 7213923, 9777397, ...           [9778628]   \n4       [9777492, 9774568, 9565836, 9335113, 9771223, ...           [9777492]   \n...                                                   ...                 ...   \n232882  [9233208, 9771242, 9767697, 9514481, 9771065, ...           [9770886]   \n232883  [9771065, 9767697, 9770886, 9758882, 9709817, ...           [9769306]   \n232884  [9771042, 9440508, 9486080, 9770997, 9120051, ...           [9771042]   \n232885  [9440508, 9142581, 9769917, 9767697, 9514481, ...           [9767697]   \n232886  [9233208, 8422665, 9769306, 9771042, 9514481, ...           [9771042]   \n\n                                  highest_sentiment_score  \\\n0       [9778623, 9778728, 9778682, 9778669, 9778657, ...   \n1       [9778718, 9778623, 9778728, 9778682, 9778669, ...   \n2       [9776259, 9778682, 9778669, 9756397, 9778657, ...   \n3       [9778444, 9430567, 9778718, 9777397, 9525589, ...   \n4       [9770218, 9778623, 9777492, 9131971, 9335113, ...   \n...                                                   ...   \n232882  [9770886, 9771242, 9771083, 9769306, 9767697, ...   \n232883  [9770886, 9742735, 9771242, 9709817, 9769917, ...   \n232884  [9770886, 9767697, 9440508, 9470078, 9770997, ...   \n232885  [9770886, 9769917, 9767697, 9514481, 9440508, ...   \n232886  [9769306, 9514481, 9440508, 9770997, 9233208, ...   \n\n                                  most_clicked_categories  \n0           [9778657, 9778669, 9778736, 9778623, 9778728]  \n1       [9778657, 9778669, 9778736, 9778623, 9778728, ...  \n2       [9778657, 9778669, 9756397, 9772866, 9776259, ...  \n3       [9778628, 9430567, 9525589, 9020783, 9777397, ...  \n4       [9777492, 9131971, 9335113, 9565836, 9770218, ...  \n...                                                   ...  \n232882  [9770886, 9771128, 9521144, 9540165, 9767697, ...  \n232883  [9666599, 9709817, 9742735, 9758882, 9767697, ...  \n232884  [9470078, 9767697, 9770886, 9771042, 9486080, ...  \n232885  [9767697, 9770886, 9769917, 8422665, 9142581, ...  \n232886  [9771042, 8422665, 9142581, 9514481, 9770997, ...  \n\n[232887 rows x 6 columns]",
      "text/html": "<div>\n<style scoped>\n    .dataframe tbody tr th:only-of-type {\n        vertical-align: middle;\n    }\n\n    .dataframe tbody tr th {\n        vertical-align: top;\n    }\n\n    .dataframe thead th {\n        text-align: right;\n    }\n</style>\n<table border=\"1\" class=\"dataframe\">\n  <thead>\n    <tr style=\"text-align: right;\">\n      <th></th>\n      <th>impression_id</th>\n      <th>user_id</th>\n      <th>article_ids_inview</th>\n      <th>article_ids_clicked</th>\n      <th>highest_sentiment_score</th>\n      <th>most_clicked_categories</th>\n    </tr>\n  </thead>\n  <tbody>\n    <tr>\n      <th>0</th>\n      <td>149474</td>\n      <td>139836</td>\n      <td>[9778623, 9778682, 9778669, 9778657, 9778736, ...</td>\n      <td>[9778657]</td>\n      <td>[9778623, 9778728, 9778682, 9778669, 9778657, ...</td>\n      <td>[9778657, 9778669, 9778736, 9778623, 9778728]</td>\n    </tr>\n    <tr>\n      <th>1</th>\n      <td>150528</td>\n      <td>143471</td>\n      <td>[9778718, 9778728, 9778745, 9778669, 9778657, ...</td>\n      <td>[9778623]</td>\n      <td>[9778718, 9778623, 9778728, 9778682, 9778669, ...</td>\n      <td>[9778657, 9778669, 9778736, 9778623, 9778728, ...</td>\n    </tr>\n    <tr>\n      <th>2</th>\n      <td>153068</td>\n      <td>151570</td>\n      <td>[9778657, 9778669, 9772866, 9776259, 9756397, ...</td>\n      <td>[9778669]</td>\n      <td>[9776259, 9778682, 9778669, 9756397, 9778657, ...</td>\n      <td>[9778657, 9778669, 9756397, 9772866, 9776259, ...</td>\n    </tr>\n    <tr>\n      <th>3</th>\n      <td>153070</td>\n      <td>151570</td>\n      <td>[9020783, 9778444, 9525589, 7213923, 9777397, ...</td>\n      <td>[9778628]</td>\n      <td>[9778444, 9430567, 9778718, 9777397, 9525589, ...</td>\n      <td>[9778628, 9430567, 9525589, 9020783, 9777397, ...</td>\n    </tr>\n    <tr>\n      <th>4</th>\n      <td>153071</td>\n      <td>151570</td>\n      <td>[9777492, 9774568, 9565836, 9335113, 9771223, ...</td>\n      <td>[9777492]</td>\n      <td>[9770218, 9778623, 9777492, 9131971, 9335113, ...</td>\n      <td>[9777492, 9131971, 9335113, 9565836, 9770218, ...</td>\n    </tr>\n    <tr>\n      <th>...</th>\n      <td>...</td>\n      <td>...</td>\n      <td>...</td>\n      <td>...</td>\n      <td>...</td>\n      <td>...</td>\n    </tr>\n    <tr>\n      <th>232882</th>\n      <td>580099643</td>\n      <td>2106715</td>\n      <td>[9233208, 9771242, 9767697, 9514481, 9771065, ...</td>\n      <td>[9770886]</td>\n      <td>[9770886, 9771242, 9771083, 9769306, 9767697, ...</td>\n      <td>[9770886, 9771128, 9521144, 9540165, 9767697, ...</td>\n    </tr>\n    <tr>\n      <th>232883</th>\n      <td>580099644</td>\n      <td>2106715</td>\n      <td>[9771065, 9767697, 9770886, 9758882, 9709817, ...</td>\n      <td>[9769306]</td>\n      <td>[9770886, 9742735, 9771242, 9709817, 9769917, ...</td>\n      <td>[9666599, 9709817, 9742735, 9758882, 9767697, ...</td>\n    </tr>\n    <tr>\n      <th>232884</th>\n      <td>580099645</td>\n      <td>2106715</td>\n      <td>[9771042, 9440508, 9486080, 9770997, 9120051, ...</td>\n      <td>[9771042]</td>\n      <td>[9770886, 9767697, 9440508, 9470078, 9770997, ...</td>\n      <td>[9470078, 9767697, 9770886, 9771042, 9486080, ...</td>\n    </tr>\n    <tr>\n      <th>232885</th>\n      <td>580100695</td>\n      <td>2110744</td>\n      <td>[9440508, 9142581, 9769917, 9767697, 9514481, ...</td>\n      <td>[9767697]</td>\n      <td>[9770886, 9769917, 9767697, 9514481, 9440508, ...</td>\n      <td>[9767697, 9770886, 9769917, 8422665, 9142581, ...</td>\n    </tr>\n    <tr>\n      <th>232886</th>\n      <td>580100697</td>\n      <td>2110744</td>\n      <td>[9233208, 8422665, 9769306, 9771042, 9514481, ...</td>\n      <td>[9771042]</td>\n      <td>[9769306, 9514481, 9440508, 9770997, 9233208, ...</td>\n      <td>[9771042, 8422665, 9142581, 9514481, 9770997, ...</td>\n    </tr>\n  </tbody>\n</table>\n<p>232887 rows × 6 columns</p>\n</div>"
     },
     "execution_count": 306,
     "metadata": {},
     "output_type": "execute_result"
    }
   ],
   "source": [
    "guessed_right = 0\n",
    "guessed_wrong = 0\n",
    "guesses = []\n",
    "for index, row in df_train.iterrows():\n",
    "    curUser = row[\"user_id\"]\n",
    "    articles_in_view = row[\"article_ids_inview\"]\n",
    "    actually_picked = row[\"article_ids_clicked\"] # array\n",
    "    df_filtered = df_articles_train[df_articles_train['article_id'].isin(articles_in_view)]\n",
    "    df_filtered = df_filtered.reset_index(drop=True)\n",
    "    category_list = df31[df31[\"user_id\"] == curUser].iloc[0][\"category\"]\n",
    "\n",
    "    df_filtered = df_filtered[df_filtered['category'].isin(category_list)]\n",
    "\n",
    "    if len(df_filtered) == 0:\n",
    "        picked = random.choice(row[\"article_ids_inview\"])\n",
    "        guesses.append([])\n",
    "    else:\n",
    "\n",
    "        # Sort df_filtered based on the index of category_list\n",
    "        df_filtered['category_index'] = df_filtered['category'].apply(lambda x: category_list.index(x))\n",
    "        df_filtered = df_filtered.sort_values(by='category_index')\n",
    "\n",
    "        # Select the leftmost article\n",
    "        picked = df_filtered.iloc[0][\"article_id\"]\n",
    "        guesses.append(df_filtered[\"article_id\"].tolist())\n",
    "    if picked in row[\"article_ids_clicked\"]:\n",
    "        guessed_right += 1\n",
    "    else:\n",
    "        guessed_wrong += 1\n",
    "\n",
    "\n",
    "\n",
    "\n",
    "print(guessed_right, guessed_wrong)\n",
    "print(guessed_right/guessed_wrong)\n",
    "print(guessed_right/(guessed_wrong + guessed_right))\n",
    "\n",
    "df_answers[\"most_clicked_categories\"] = guesses\n",
    "df_answers"
   ],
   "metadata": {
    "collapsed": false,
    "pycharm": {
     "name": "#%%\n"
    }
   }
  },
  {
   "cell_type": "code",
   "execution_count": null,
   "outputs": [],
   "source": [
    "print(guessed_right, guessed_wrong)\n",
    "print(guessed_right/guessed_wrong)\n",
    "print(guessed_right/(guessed_wrong + guessed_right))"
   ],
   "metadata": {
    "collapsed": false,
    "pycharm": {
     "name": "#%%\n"
    }
   }
  },
  {
   "cell_type": "code",
   "execution_count": 287,
   "outputs": [
    {
     "name": "stdout",
     "output_type": "stream",
     "text": [
      "strategy 0\n",
      "0.12948861011988702\n",
      "strategy 1\n",
      "0.12657420691853977\n",
      "strategy 2\n",
      "0.13323278029160382\n",
      "strategy 3\n",
      "0.12948861011988702\n"
     ]
    }
   ],
   "source": [
    "def complex_formula(hs, ls, cat, ii):\n",
    "    if ii == 0:\n",
    "        return hs\n",
    "    if ii == 1:\n",
    "        return ls\n",
    "    if type(cat) is list:\n",
    "        return hs\n",
    "    if ii == 2:\n",
    "        return cat\n",
    "    if cat == ls | cat == hs:\n",
    "        return cat\n",
    "    return hs\n",
    "\n",
    "for i in range(0,4):\n",
    "    new_field = []\n",
    "    for index, row in df_answers.iterrows():\n",
    "        new_field.append(complex_formula(row['highestsentiment_score'], row['lowest_sentiment_score'], row['most_clicked_category'], i))\n",
    "\n",
    "    df_answers['after_quick_maths'] = new_field #df_answers.apply(lambda row: complex_formula(row['highestsentiment_score'], row['lowest_sentiment_score'], row['most_clicked_category'], i))\n",
    "    guessed_right = 0\n",
    "    guessed_wrong = 0\n",
    "    for index, row in df_answers.iterrows():\n",
    "        if row[\"after_quick_maths\"] in row[\"article_ids_clicked\"]:\n",
    "            guessed_right += 1\n",
    "        else:\n",
    "            guessed_wrong += 1\n",
    "\n",
    "    print(f\"strategy {i}\")\n",
    "    print(guessed_right/(guessed_wrong + guessed_right))"
   ],
   "metadata": {
    "collapsed": false,
    "pycharm": {
     "name": "#%%\n"
    }
   }
  },
  {
   "cell_type": "code",
   "execution_count": 300,
   "outputs": [
    {
     "data": {
      "text/plain": "        impression_id  user_id  \\\n0               96791    22548   \n1               96798    22548   \n2               96801    22548   \n3               96808    22548   \n4               96810    22548   \n...               ...      ...   \n244642      579250707  1529985   \n244643      579251515  1532837   \n244644      579251519  1532837   \n244645      579253363  1539939   \n244646      579552453   752762   \n\n                                       article_ids_inview article_ids_clicked  \\\n0           [9783865, 9784591, 9784679, 9784696, 9784710]           [9784696]   \n1       [9782884, 9783865, 9782726, 9695098, 9782806, ...           [9784281]   \n2       [9784648, 7184889, 9784444, 9781785, 9783405, ...           [9784444]   \n3           [9784607, 9695098, 9784406, 7184889, 9781983]           [9781983]   \n4       [9781983, 7184889, 9784642, 9782108, 9781785, ...           [9784642]   \n...                                                   ...                 ...   \n244642  [9782929, 9782919, 9783213, 9783075, 9782746, ...           [9783075]   \n244643      [9782746, 9782929, 9783720, 9782645, 9783075]           [9783075]   \n244644  [9783213, 9782645, 9782423, 9783657, 9782746, ...           [9782423]   \n244645  [9142564, 9783657, 9783404, 9782670, 9783720, ...           [9783720]   \n244646      [9784575, 9784662, 9784642, 9782656, 9784559]           [9782656]   \n\n                                      not_already_clicked  \\\n0           [9783865, 9784591, 9784679, 9784696, 9784710]   \n1       [9782884, 9783865, 9782726, 9695098, 9782806, ...   \n2       [9784648, 7184889, 9784444, 9781785, 9783405, ...   \n3           [9784607, 9695098, 9784406, 7184889, 9781983]   \n4       [9781983, 7184889, 9784642, 9782108, 9781785, ...   \n...                                                   ...   \n244642  [9782929, 9782919, 9783213, 9783075, 9782746, ...   \n244643      [9782746, 9782929, 9783720, 9782645, 9783075]   \n244644  [9783213, 9782645, 9782423, 9783657, 9782746, ...   \n244645  [9142564, 9783657, 9783404, 9782670, 9783720, ...   \n244646      [9784575, 9784662, 9784642, 9782656, 9784559]   \n\n        highestsentiment_score  lowest_sentiment_score most_clicked_category  \\\n0                      9784591                 9784710               9784591   \n1                      9779370                 9784506               9769155   \n2                      9782108                 9784444               9784444   \n3                      7184889                 9781983               9781983   \n4                      9782108                 9781983               9784642   \n...                        ...                     ...                   ...   \n244642                 9783075                 9783213               9782645   \n244643                 9783720                 9782929               9782645   \n244644                 9783720                 9783657               9782645   \n244645                 9783720                 9782092               9783720   \n244646                 9784575                 9784559               9784575   \n\n        after_quick_maths                            highest_sentiment_score  \\\n0                 9784591      [9784591, 9783865, 9784679, 9784696, 9784710]   \n1                 9779370  [9779370, 9774559, 9783865, 9784648, 9784160, ...   \n2                 9782108  [9782108, 9781785, 9784648, 7184889, 9783405, ...   \n3                 7184889      [7184889, 9695098, 9784607, 9784406, 9781983]   \n4                 9782108  [9782108, 9781785, 7184889, 9781520, 9784642, ...   \n...                   ...                                                ...   \n244642            9783075  [9783075, 9782645, 9782919, 9782746, 9782929, ...   \n244643            9783720      [9783720, 9783075, 9782645, 9782746, 9782929]   \n244644            9783720  [9783720, 9783075, 9782645, 9782919, 9782746, ...   \n244645            9783720  [9783720, 9783075, 9783667, 9782645, 9782355, ...   \n244646            9784575      [9784575, 9784662, 9782656, 9784642, 9784559]   \n\n                                  most_clicked_categories  \n0           [9784591, 9784679, 9784696, 9784710, 9783865]  \n1       [9769155, 9784648, 9784642, 9784583, 9784506, ...  \n2       [9784444, 9784648, 9781520, 9781785, 9781983, ...  \n3                             [9781983, 9784607, 9784406]  \n4           [9784642, 9781520, 9781785, 9781983, 9782108]  \n...                                                   ...  \n244642  [9782645, 9782919, 9783075, 9782746, 9783213, ...  \n244643      [9782645, 9783720, 9783075, 9782746, 9782929]  \n244644  [9782645, 9782919, 9783720, 9782423, 9783075, ...  \n244645  [9783720, 9783643, 9783626, 9782645, 9782919, ...  \n244646      [9784575, 9784559, 9784642, 9784662, 9782656]  \n\n[244647 rows x 11 columns]",
      "text/html": "<div>\n<style scoped>\n    .dataframe tbody tr th:only-of-type {\n        vertical-align: middle;\n    }\n\n    .dataframe tbody tr th {\n        vertical-align: top;\n    }\n\n    .dataframe thead th {\n        text-align: right;\n    }\n</style>\n<table border=\"1\" class=\"dataframe\">\n  <thead>\n    <tr style=\"text-align: right;\">\n      <th></th>\n      <th>impression_id</th>\n      <th>user_id</th>\n      <th>article_ids_inview</th>\n      <th>article_ids_clicked</th>\n      <th>not_already_clicked</th>\n      <th>highestsentiment_score</th>\n      <th>lowest_sentiment_score</th>\n      <th>most_clicked_category</th>\n      <th>after_quick_maths</th>\n      <th>highest_sentiment_score</th>\n      <th>most_clicked_categories</th>\n    </tr>\n  </thead>\n  <tbody>\n    <tr>\n      <th>0</th>\n      <td>96791</td>\n      <td>22548</td>\n      <td>[9783865, 9784591, 9784679, 9784696, 9784710]</td>\n      <td>[9784696]</td>\n      <td>[9783865, 9784591, 9784679, 9784696, 9784710]</td>\n      <td>9784591</td>\n      <td>9784710</td>\n      <td>9784591</td>\n      <td>9784591</td>\n      <td>[9784591, 9783865, 9784679, 9784696, 9784710]</td>\n      <td>[9784591, 9784679, 9784696, 9784710, 9783865]</td>\n    </tr>\n    <tr>\n      <th>1</th>\n      <td>96798</td>\n      <td>22548</td>\n      <td>[9782884, 9783865, 9782726, 9695098, 9782806, ...</td>\n      <td>[9784281]</td>\n      <td>[9782884, 9783865, 9782726, 9695098, 9782806, ...</td>\n      <td>9779370</td>\n      <td>9784506</td>\n      <td>9769155</td>\n      <td>9779370</td>\n      <td>[9779370, 9774559, 9783865, 9784648, 9784160, ...</td>\n      <td>[9769155, 9784648, 9784642, 9784583, 9784506, ...</td>\n    </tr>\n    <tr>\n      <th>2</th>\n      <td>96801</td>\n      <td>22548</td>\n      <td>[9784648, 7184889, 9784444, 9781785, 9783405, ...</td>\n      <td>[9784444]</td>\n      <td>[9784648, 7184889, 9784444, 9781785, 9783405, ...</td>\n      <td>9782108</td>\n      <td>9784444</td>\n      <td>9784444</td>\n      <td>9782108</td>\n      <td>[9782108, 9781785, 9784648, 7184889, 9783405, ...</td>\n      <td>[9784444, 9784648, 9781520, 9781785, 9781983, ...</td>\n    </tr>\n    <tr>\n      <th>3</th>\n      <td>96808</td>\n      <td>22548</td>\n      <td>[9784607, 9695098, 9784406, 7184889, 9781983]</td>\n      <td>[9781983]</td>\n      <td>[9784607, 9695098, 9784406, 7184889, 9781983]</td>\n      <td>7184889</td>\n      <td>9781983</td>\n      <td>9781983</td>\n      <td>7184889</td>\n      <td>[7184889, 9695098, 9784607, 9784406, 9781983]</td>\n      <td>[9781983, 9784607, 9784406]</td>\n    </tr>\n    <tr>\n      <th>4</th>\n      <td>96810</td>\n      <td>22548</td>\n      <td>[9781983, 7184889, 9784642, 9782108, 9781785, ...</td>\n      <td>[9784642]</td>\n      <td>[9781983, 7184889, 9784642, 9782108, 9781785, ...</td>\n      <td>9782108</td>\n      <td>9781983</td>\n      <td>9784642</td>\n      <td>9782108</td>\n      <td>[9782108, 9781785, 7184889, 9781520, 9784642, ...</td>\n      <td>[9784642, 9781520, 9781785, 9781983, 9782108]</td>\n    </tr>\n    <tr>\n      <th>...</th>\n      <td>...</td>\n      <td>...</td>\n      <td>...</td>\n      <td>...</td>\n      <td>...</td>\n      <td>...</td>\n      <td>...</td>\n      <td>...</td>\n      <td>...</td>\n      <td>...</td>\n      <td>...</td>\n    </tr>\n    <tr>\n      <th>244642</th>\n      <td>579250707</td>\n      <td>1529985</td>\n      <td>[9782929, 9782919, 9783213, 9783075, 9782746, ...</td>\n      <td>[9783075]</td>\n      <td>[9782929, 9782919, 9783213, 9783075, 9782746, ...</td>\n      <td>9783075</td>\n      <td>9783213</td>\n      <td>9782645</td>\n      <td>9783075</td>\n      <td>[9783075, 9782645, 9782919, 9782746, 9782929, ...</td>\n      <td>[9782645, 9782919, 9783075, 9782746, 9783213, ...</td>\n    </tr>\n    <tr>\n      <th>244643</th>\n      <td>579251515</td>\n      <td>1532837</td>\n      <td>[9782746, 9782929, 9783720, 9782645, 9783075]</td>\n      <td>[9783075]</td>\n      <td>[9782746, 9782929, 9783720, 9782645, 9783075]</td>\n      <td>9783720</td>\n      <td>9782929</td>\n      <td>9782645</td>\n      <td>9783720</td>\n      <td>[9783720, 9783075, 9782645, 9782746, 9782929]</td>\n      <td>[9782645, 9783720, 9783075, 9782746, 9782929]</td>\n    </tr>\n    <tr>\n      <th>244644</th>\n      <td>579251519</td>\n      <td>1532837</td>\n      <td>[9783213, 9782645, 9782423, 9783657, 9782746, ...</td>\n      <td>[9782423]</td>\n      <td>[9783213, 9782645, 9782423, 9783657, 9782746, ...</td>\n      <td>9783720</td>\n      <td>9783657</td>\n      <td>9782645</td>\n      <td>9783720</td>\n      <td>[9783720, 9783075, 9782645, 9782919, 9782746, ...</td>\n      <td>[9782645, 9782919, 9783720, 9782423, 9783075, ...</td>\n    </tr>\n    <tr>\n      <th>244645</th>\n      <td>579253363</td>\n      <td>1539939</td>\n      <td>[9142564, 9783657, 9783404, 9782670, 9783720, ...</td>\n      <td>[9783720]</td>\n      <td>[9142564, 9783657, 9783404, 9782670, 9783720, ...</td>\n      <td>9783720</td>\n      <td>9782092</td>\n      <td>9783720</td>\n      <td>9783720</td>\n      <td>[9783720, 9783075, 9783667, 9782645, 9782355, ...</td>\n      <td>[9783720, 9783643, 9783626, 9782645, 9782919, ...</td>\n    </tr>\n    <tr>\n      <th>244646</th>\n      <td>579552453</td>\n      <td>752762</td>\n      <td>[9784575, 9784662, 9784642, 9782656, 9784559]</td>\n      <td>[9782656]</td>\n      <td>[9784575, 9784662, 9784642, 9782656, 9784559]</td>\n      <td>9784575</td>\n      <td>9784559</td>\n      <td>9784575</td>\n      <td>9784575</td>\n      <td>[9784575, 9784662, 9782656, 9784642, 9784559]</td>\n      <td>[9784575, 9784559, 9784642, 9784662, 9782656]</td>\n    </tr>\n  </tbody>\n</table>\n<p>244647 rows × 11 columns</p>\n</div>"
     },
     "execution_count": 300,
     "metadata": {},
     "output_type": "execute_result"
    }
   ],
   "source": [
    "df_answers"
   ],
   "metadata": {
    "collapsed": false,
    "pycharm": {
     "name": "#%%\n"
    }
   }
  },
  {
   "cell_type": "code",
   "execution_count": 309,
   "outputs": [],
   "source": [
    "toparq = df_answers[[\"impression_id\", \"user_id\", \"article_ids_inview\", \"article_ids_clicked\", \"highest_sentiment_score\", \"most_clicked_categories\"]]\n",
    "toparq.to_parquet(\"raw_v0_train.parquet\")"
   ],
   "metadata": {
    "collapsed": false,
    "pycharm": {
     "name": "#%%\n"
    }
   }
  },
  {
   "cell_type": "code",
   "execution_count": 302,
   "outputs": [
    {
     "data": {
      "text/plain": "        impression_id  user_id  \\\n0               96791    22548   \n1               96798    22548   \n2               96801    22548   \n3               96808    22548   \n4               96810    22548   \n...               ...      ...   \n244642      579250707  1529985   \n244643      579251515  1532837   \n244644      579251519  1532837   \n244645      579253363  1539939   \n244646      579552453   752762   \n\n                                       article_ids_inview  \\\n0           [9783865, 9784591, 9784679, 9784696, 9784710]   \n1       [9782884, 9783865, 9782726, 9695098, 9782806, ...   \n2       [9784648, 7184889, 9784444, 9781785, 9783405, ...   \n3           [9784607, 9695098, 9784406, 7184889, 9781983]   \n4       [9781983, 7184889, 9784642, 9782108, 9781785, ...   \n...                                                   ...   \n244642  [9782929, 9782919, 9783213, 9783075, 9782746, ...   \n244643      [9782746, 9782929, 9783720, 9782645, 9783075]   \n244644  [9783213, 9782645, 9782423, 9783657, 9782746, ...   \n244645  [9142564, 9783657, 9783404, 9782670, 9783720, ...   \n244646      [9784575, 9784662, 9784642, 9782656, 9784559]   \n\n                                      not_already_clicked  \\\n0           [9783865, 9784591, 9784679, 9784696, 9784710]   \n1       [9782884, 9783865, 9782726, 9695098, 9782806, ...   \n2       [9784648, 7184889, 9784444, 9781785, 9783405, ...   \n3           [9784607, 9695098, 9784406, 7184889, 9781983]   \n4       [9781983, 7184889, 9784642, 9782108, 9781785, ...   \n...                                                   ...   \n244642  [9782929, 9782919, 9783213, 9783075, 9782746, ...   \n244643      [9782746, 9782929, 9783720, 9782645, 9783075]   \n244644  [9783213, 9782645, 9782423, 9783657, 9782746, ...   \n244645  [9142564, 9783657, 9783404, 9782670, 9783720, ...   \n244646      [9784575, 9784662, 9784642, 9782656, 9784559]   \n\n                                  highest_sentiment_score  \\\n0           [9784591, 9783865, 9784679, 9784696, 9784710]   \n1       [9779370, 9774559, 9783865, 9784648, 9784160, ...   \n2       [9782108, 9781785, 9784648, 7184889, 9783405, ...   \n3           [7184889, 9695098, 9784607, 9784406, 9781983]   \n4       [9782108, 9781785, 7184889, 9781520, 9784642, ...   \n...                                                   ...   \n244642  [9783075, 9782645, 9782919, 9782746, 9782929, ...   \n244643      [9783720, 9783075, 9782645, 9782746, 9782929]   \n244644  [9783720, 9783075, 9782645, 9782919, 9782746, ...   \n244645  [9783720, 9783075, 9783667, 9782645, 9782355, ...   \n244646      [9784575, 9784662, 9782656, 9784642, 9784559]   \n\n                                  most_clicked_categories  \n0           [9784591, 9784679, 9784696, 9784710, 9783865]  \n1       [9769155, 9784648, 9784642, 9784583, 9784506, ...  \n2       [9784444, 9784648, 9781520, 9781785, 9781983, ...  \n3                             [9781983, 9784607, 9784406]  \n4           [9784642, 9781520, 9781785, 9781983, 9782108]  \n...                                                   ...  \n244642  [9782645, 9782919, 9783075, 9782746, 9783213, ...  \n244643      [9782645, 9783720, 9783075, 9782746, 9782929]  \n244644  [9782645, 9782919, 9783720, 9782423, 9783075, ...  \n244645  [9783720, 9783643, 9783626, 9782645, 9782919, ...  \n244646      [9784575, 9784559, 9784642, 9784662, 9782656]  \n\n[244647 rows x 6 columns]",
      "text/html": "<div>\n<style scoped>\n    .dataframe tbody tr th:only-of-type {\n        vertical-align: middle;\n    }\n\n    .dataframe tbody tr th {\n        vertical-align: top;\n    }\n\n    .dataframe thead th {\n        text-align: right;\n    }\n</style>\n<table border=\"1\" class=\"dataframe\">\n  <thead>\n    <tr style=\"text-align: right;\">\n      <th></th>\n      <th>impression_id</th>\n      <th>user_id</th>\n      <th>article_ids_inview</th>\n      <th>not_already_clicked</th>\n      <th>highest_sentiment_score</th>\n      <th>most_clicked_categories</th>\n    </tr>\n  </thead>\n  <tbody>\n    <tr>\n      <th>0</th>\n      <td>96791</td>\n      <td>22548</td>\n      <td>[9783865, 9784591, 9784679, 9784696, 9784710]</td>\n      <td>[9783865, 9784591, 9784679, 9784696, 9784710]</td>\n      <td>[9784591, 9783865, 9784679, 9784696, 9784710]</td>\n      <td>[9784591, 9784679, 9784696, 9784710, 9783865]</td>\n    </tr>\n    <tr>\n      <th>1</th>\n      <td>96798</td>\n      <td>22548</td>\n      <td>[9782884, 9783865, 9782726, 9695098, 9782806, ...</td>\n      <td>[9782884, 9783865, 9782726, 9695098, 9782806, ...</td>\n      <td>[9779370, 9774559, 9783865, 9784648, 9784160, ...</td>\n      <td>[9769155, 9784648, 9784642, 9784583, 9784506, ...</td>\n    </tr>\n    <tr>\n      <th>2</th>\n      <td>96801</td>\n      <td>22548</td>\n      <td>[9784648, 7184889, 9784444, 9781785, 9783405, ...</td>\n      <td>[9784648, 7184889, 9784444, 9781785, 9783405, ...</td>\n      <td>[9782108, 9781785, 9784648, 7184889, 9783405, ...</td>\n      <td>[9784444, 9784648, 9781520, 9781785, 9781983, ...</td>\n    </tr>\n    <tr>\n      <th>3</th>\n      <td>96808</td>\n      <td>22548</td>\n      <td>[9784607, 9695098, 9784406, 7184889, 9781983]</td>\n      <td>[9784607, 9695098, 9784406, 7184889, 9781983]</td>\n      <td>[7184889, 9695098, 9784607, 9784406, 9781983]</td>\n      <td>[9781983, 9784607, 9784406]</td>\n    </tr>\n    <tr>\n      <th>4</th>\n      <td>96810</td>\n      <td>22548</td>\n      <td>[9781983, 7184889, 9784642, 9782108, 9781785, ...</td>\n      <td>[9781983, 7184889, 9784642, 9782108, 9781785, ...</td>\n      <td>[9782108, 9781785, 7184889, 9781520, 9784642, ...</td>\n      <td>[9784642, 9781520, 9781785, 9781983, 9782108]</td>\n    </tr>\n    <tr>\n      <th>...</th>\n      <td>...</td>\n      <td>...</td>\n      <td>...</td>\n      <td>...</td>\n      <td>...</td>\n      <td>...</td>\n    </tr>\n    <tr>\n      <th>244642</th>\n      <td>579250707</td>\n      <td>1529985</td>\n      <td>[9782929, 9782919, 9783213, 9783075, 9782746, ...</td>\n      <td>[9782929, 9782919, 9783213, 9783075, 9782746, ...</td>\n      <td>[9783075, 9782645, 9782919, 9782746, 9782929, ...</td>\n      <td>[9782645, 9782919, 9783075, 9782746, 9783213, ...</td>\n    </tr>\n    <tr>\n      <th>244643</th>\n      <td>579251515</td>\n      <td>1532837</td>\n      <td>[9782746, 9782929, 9783720, 9782645, 9783075]</td>\n      <td>[9782746, 9782929, 9783720, 9782645, 9783075]</td>\n      <td>[9783720, 9783075, 9782645, 9782746, 9782929]</td>\n      <td>[9782645, 9783720, 9783075, 9782746, 9782929]</td>\n    </tr>\n    <tr>\n      <th>244644</th>\n      <td>579251519</td>\n      <td>1532837</td>\n      <td>[9783213, 9782645, 9782423, 9783657, 9782746, ...</td>\n      <td>[9783213, 9782645, 9782423, 9783657, 9782746, ...</td>\n      <td>[9783720, 9783075, 9782645, 9782919, 9782746, ...</td>\n      <td>[9782645, 9782919, 9783720, 9782423, 9783075, ...</td>\n    </tr>\n    <tr>\n      <th>244645</th>\n      <td>579253363</td>\n      <td>1539939</td>\n      <td>[9142564, 9783657, 9783404, 9782670, 9783720, ...</td>\n      <td>[9142564, 9783657, 9783404, 9782670, 9783720, ...</td>\n      <td>[9783720, 9783075, 9783667, 9782645, 9782355, ...</td>\n      <td>[9783720, 9783643, 9783626, 9782645, 9782919, ...</td>\n    </tr>\n    <tr>\n      <th>244646</th>\n      <td>579552453</td>\n      <td>752762</td>\n      <td>[9784575, 9784662, 9784642, 9782656, 9784559]</td>\n      <td>[9784575, 9784662, 9784642, 9782656, 9784559]</td>\n      <td>[9784575, 9784662, 9782656, 9784642, 9784559]</td>\n      <td>[9784575, 9784559, 9784642, 9784662, 9782656]</td>\n    </tr>\n  </tbody>\n</table>\n<p>244647 rows × 6 columns</p>\n</div>"
     },
     "execution_count": 302,
     "metadata": {},
     "output_type": "execute_result"
    }
   ],
   "source": [],
   "metadata": {
    "collapsed": false,
    "pycharm": {
     "name": "#%%\n"
    }
   }
  },
  {
   "cell_type": "code",
   "execution_count": null,
   "outputs": [],
   "source": [],
   "metadata": {
    "collapsed": false,
    "pycharm": {
     "name": "#%%\n"
    }
   }
  }
 ],
 "metadata": {
  "kernelspec": {
   "display_name": "Python 3",
   "language": "python",
   "name": "python3"
  },
  "language_info": {
   "codemirror_mode": {
    "name": "ipython",
    "version": 2
   },
   "file_extension": ".py",
   "mimetype": "text/x-python",
   "name": "python",
   "nbconvert_exporter": "python",
   "pygments_lexer": "ipython2",
   "version": "2.7.6"
  }
 },
 "nbformat": 4,
 "nbformat_minor": 0
}