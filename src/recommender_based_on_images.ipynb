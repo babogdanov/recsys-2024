{
 "cells": [
  {
   "cell_type": "code",
   "execution_count": 78,
   "metadata": {
    "collapsed": true
   },
   "outputs": [],
   "source": [
    "\n",
    "\n",
    "import pandas as pd\n",
    "import numpy as np\n",
    "import random\n",
    "from sklearn.metrics.pairwise import cosine_similarity\n",
    "\n",
    "\n",
    "from tqdm import tqdm"
   ]
  },
  {
   "cell_type": "code",
   "execution_count": 79,
   "outputs": [
    {
     "data": {
      "text/plain": "   article_id                                    image_embedding\n0     9734738  [-0.023272939, -0.03915197, -0.022547087, 0.04...\n1     8647636  [-0.04257018, -0.038090054, -0.0064549753, 0.0...",
      "text/html": "<div>\n<style scoped>\n    .dataframe tbody tr th:only-of-type {\n        vertical-align: middle;\n    }\n\n    .dataframe tbody tr th {\n        vertical-align: top;\n    }\n\n    .dataframe thead th {\n        text-align: right;\n    }\n</style>\n<table border=\"1\" class=\"dataframe\">\n  <thead>\n    <tr style=\"text-align: right;\">\n      <th></th>\n      <th>article_id</th>\n      <th>image_embedding</th>\n    </tr>\n  </thead>\n  <tbody>\n    <tr>\n      <th>0</th>\n      <td>9734738</td>\n      <td>[-0.023272939, -0.03915197, -0.022547087, 0.04...</td>\n    </tr>\n    <tr>\n      <th>1</th>\n      <td>8647636</td>\n      <td>[-0.04257018, -0.038090054, -0.0064549753, 0.0...</td>\n    </tr>\n  </tbody>\n</table>\n</div>"
     },
     "execution_count": 79,
     "metadata": {},
     "output_type": "execute_result"
    }
   ],
   "source": [
    "df_image_embeddings = pd.read_parquet('Ekstra_Bladet_image_embeddings/image_embeddings.parquet')\n",
    "\n",
    "df_image_embeddings.head(2)"
   ],
   "metadata": {
    "collapsed": false,
    "pycharm": {
     "name": "#%%\n"
    }
   }
  },
  {
   "cell_type": "code",
   "execution_count": 80,
   "outputs": [
    {
     "data": {
      "text/plain": "   user_id article_id  rating\n0   139836    9778623       0\n0   139836    9778682       0\n0   139836    9778669       0\n0   139836    9778657       1\n0   139836    9778736       0",
      "text/html": "<div>\n<style scoped>\n    .dataframe tbody tr th:only-of-type {\n        vertical-align: middle;\n    }\n\n    .dataframe tbody tr th {\n        vertical-align: top;\n    }\n\n    .dataframe thead th {\n        text-align: right;\n    }\n</style>\n<table border=\"1\" class=\"dataframe\">\n  <thead>\n    <tr style=\"text-align: right;\">\n      <th></th>\n      <th>user_id</th>\n      <th>article_id</th>\n      <th>rating</th>\n    </tr>\n  </thead>\n  <tbody>\n    <tr>\n      <th>0</th>\n      <td>139836</td>\n      <td>9778623</td>\n      <td>0</td>\n    </tr>\n    <tr>\n      <th>0</th>\n      <td>139836</td>\n      <td>9778682</td>\n      <td>0</td>\n    </tr>\n    <tr>\n      <th>0</th>\n      <td>139836</td>\n      <td>9778669</td>\n      <td>0</td>\n    </tr>\n    <tr>\n      <th>0</th>\n      <td>139836</td>\n      <td>9778657</td>\n      <td>1</td>\n    </tr>\n    <tr>\n      <th>0</th>\n      <td>139836</td>\n      <td>9778736</td>\n      <td>0</td>\n    </tr>\n  </tbody>\n</table>\n</div>"
     },
     "execution_count": 80,
     "metadata": {},
     "output_type": "execute_result"
    }
   ],
   "source": [
    "df = pd.read_parquet('ebnerd_small/train/behaviors.parquet')\n",
    "\n",
    "df['predicted_article_id'] = df['article_ids_clicked'].apply(lambda ids: ids[0])\n",
    "df_exploded = df.explode('article_ids_inview')\n",
    "\n",
    "# Add a column to indicate if the article was recommended\n",
    "df_exploded['rating'] = (df_exploded['predicted_article_id'] == df_exploded['article_ids_inview']).astype(int)\n",
    "\n",
    "# def find_mode(series):\n",
    "#     return mode(series).mode\n",
    "#\n",
    "# mode_ratings = df_exploded.groupby(['user_id', 'article_ids_inview'])['rating'].agg(find_mode).reset_index()\n",
    "\n",
    "# Rename columns for clarity\n",
    "df_exploded = df_exploded[['user_id', 'article_ids_inview', 'rating']]\n",
    "df_exploded.columns = ['user_id', 'article_id', 'rating']\n",
    "df_exploded.head(5)"
   ],
   "metadata": {
    "collapsed": false,
    "pycharm": {
     "name": "#%%\n"
    }
   }
  },
  {
   "cell_type": "code",
   "execution_count": 81,
   "outputs": [
    {
     "data": {
      "text/plain": "   impression_id  article_id     impression_time  read_time  \\\n0          96791         NaN 2023-05-28 04:21:24        9.0   \n1          96798         NaN 2023-05-28 04:31:48       46.0   \n\n   scroll_percentage  device_type  \\\n0                NaN            2   \n1                NaN            2   \n\n                                  article_ids_inview article_ids_clicked  \\\n0      [9783865, 9784591, 9784679, 9784696, 9784710]           [9784696]   \n1  [9782884, 9783865, 9782726, 9695098, 9782806, ...           [9784281]   \n\n   user_id  is_sso_user  gender  postcode  age  is_subscriber  session_id  \\\n0    22548        False     NaN       NaN  NaN          False         142   \n1    22548        False     NaN       NaN  NaN          False         143   \n\n   next_read_time  next_scroll_percentage  \n0            72.0                   100.0  \n1            16.0                    28.0  ",
      "text/html": "<div>\n<style scoped>\n    .dataframe tbody tr th:only-of-type {\n        vertical-align: middle;\n    }\n\n    .dataframe tbody tr th {\n        vertical-align: top;\n    }\n\n    .dataframe thead th {\n        text-align: right;\n    }\n</style>\n<table border=\"1\" class=\"dataframe\">\n  <thead>\n    <tr style=\"text-align: right;\">\n      <th></th>\n      <th>impression_id</th>\n      <th>article_id</th>\n      <th>impression_time</th>\n      <th>read_time</th>\n      <th>scroll_percentage</th>\n      <th>device_type</th>\n      <th>article_ids_inview</th>\n      <th>article_ids_clicked</th>\n      <th>user_id</th>\n      <th>is_sso_user</th>\n      <th>gender</th>\n      <th>postcode</th>\n      <th>age</th>\n      <th>is_subscriber</th>\n      <th>session_id</th>\n      <th>next_read_time</th>\n      <th>next_scroll_percentage</th>\n    </tr>\n  </thead>\n  <tbody>\n    <tr>\n      <th>0</th>\n      <td>96791</td>\n      <td>NaN</td>\n      <td>2023-05-28 04:21:24</td>\n      <td>9.0</td>\n      <td>NaN</td>\n      <td>2</td>\n      <td>[9783865, 9784591, 9784679, 9784696, 9784710]</td>\n      <td>[9784696]</td>\n      <td>22548</td>\n      <td>False</td>\n      <td>NaN</td>\n      <td>NaN</td>\n      <td>NaN</td>\n      <td>False</td>\n      <td>142</td>\n      <td>72.0</td>\n      <td>100.0</td>\n    </tr>\n    <tr>\n      <th>1</th>\n      <td>96798</td>\n      <td>NaN</td>\n      <td>2023-05-28 04:31:48</td>\n      <td>46.0</td>\n      <td>NaN</td>\n      <td>2</td>\n      <td>[9782884, 9783865, 9782726, 9695098, 9782806, ...</td>\n      <td>[9784281]</td>\n      <td>22548</td>\n      <td>False</td>\n      <td>NaN</td>\n      <td>NaN</td>\n      <td>NaN</td>\n      <td>False</td>\n      <td>143</td>\n      <td>16.0</td>\n      <td>28.0</td>\n    </tr>\n  </tbody>\n</table>\n</div>"
     },
     "execution_count": 81,
     "metadata": {},
     "output_type": "execute_result"
    }
   ],
   "source": [
    "df_val = pd.read_parquet('ebnerd_small/validation/behaviors.parquet')\n",
    "df_val.head(2)"
   ],
   "metadata": {
    "collapsed": false,
    "pycharm": {
     "name": "#%%\n"
    }
   }
  },
  {
   "cell_type": "code",
   "execution_count": null,
   "outputs": [
    {
     "name": "stderr",
     "output_type": "stream",
     "text": [
      "20001it [30:40,  5.79it/s]"
     ]
    },
    {
     "name": "stdout",
     "output_type": "stream",
     "text": [
      "Right 100%: 2333, by luck 423, overall: 2756\n",
      "Wrong 100%: 14323, by luck 2921, overall: 17244\n",
      "Nothing predicted: 3344\n",
      "The answer: 0.1378\n"
     ]
    },
    {
     "name": "stderr",
     "output_type": "stream",
     "text": [
      "40001it [54:22, 12.25it/s]"
     ]
    },
    {
     "name": "stdout",
     "output_type": "stream",
     "text": [
      "Right 100%: 4561, by luck 876, overall: 5437\n",
      "Wrong 100%: 28520, by luck 6043, overall: 34563\n",
      "Nothing predicted: 6919\n",
      "The answer: 0.135925\n"
     ]
    },
    {
     "name": "stderr",
     "output_type": "stream",
     "text": [
      "60006it [1:11:20, 46.53it/s]"
     ]
    },
    {
     "name": "stdout",
     "output_type": "stream",
     "text": [
      "Right 100%: 6849, by luck 1295, overall: 8144\n",
      "Wrong 100%: 42796, by luck 9060, overall: 51856\n",
      "Nothing predicted: 10355\n",
      "The answer: 0.13573333333333334\n"
     ]
    },
    {
     "name": "stderr",
     "output_type": "stream",
     "text": [
      "80007it [1:33:02, 40.27it/s] "
     ]
    },
    {
     "name": "stdout",
     "output_type": "stream",
     "text": [
      "Right 100%: 9171, by luck 1706, overall: 10877\n",
      "Wrong 100%: 57110, by luck 12013, overall: 69123\n",
      "Nothing predicted: 13719\n",
      "The answer: 0.1359625\n"
     ]
    },
    {
     "name": "stderr",
     "output_type": "stream",
     "text": [
      "90575it [1:43:59, 14.52it/s]\n"
     ]
    },
    {
     "ename": "KeyboardInterrupt",
     "evalue": "",
     "output_type": "error",
     "traceback": [
      "\u001B[0;31m---------------------------------------------------------------------------\u001B[0m",
      "\u001B[0;31mKeyboardInterrupt\u001B[0m                         Traceback (most recent call last)",
      "\u001B[0;32m/var/folders/2b/f71znfwd1tj_w3bgdq7lj8pw9drw7y/T/ipykernel_64095/2524026782.py\u001B[0m in \u001B[0;36m<module>\u001B[0;34m\u001B[0m\n\u001B[1;32m      9\u001B[0m     \u001B[0mactuals\u001B[0m \u001B[0;34m=\u001B[0m \u001B[0mrow\u001B[0m\u001B[0;34m[\u001B[0m\u001B[0;34m\"article_ids_clicked\"\u001B[0m\u001B[0;34m]\u001B[0m\u001B[0;34m\u001B[0m\u001B[0;34m\u001B[0m\u001B[0m\n\u001B[1;32m     10\u001B[0m     \u001B[0mdf_user_filtered\u001B[0m \u001B[0;34m=\u001B[0m \u001B[0mdf_exploded\u001B[0m\u001B[0;34m[\u001B[0m\u001B[0mdf_exploded\u001B[0m\u001B[0;34m[\u001B[0m\u001B[0;34m'user_id'\u001B[0m\u001B[0;34m]\u001B[0m \u001B[0;34m==\u001B[0m \u001B[0muser\u001B[0m\u001B[0;34m]\u001B[0m\u001B[0;34m\u001B[0m\u001B[0;34m\u001B[0m\u001B[0m\n\u001B[0;32m---> 11\u001B[0;31m     \u001B[0mdf_user_likes\u001B[0m \u001B[0;34m=\u001B[0m \u001B[0mpd\u001B[0m\u001B[0;34m.\u001B[0m\u001B[0mmerge\u001B[0m\u001B[0;34m(\u001B[0m\u001B[0mdf_user_filtered\u001B[0m\u001B[0;34m,\u001B[0m \u001B[0mdf_image_embeddings\u001B[0m\u001B[0;34m,\u001B[0m \u001B[0mon\u001B[0m\u001B[0;34m=\u001B[0m\u001B[0;34m'article_id'\u001B[0m\u001B[0;34m)\u001B[0m\u001B[0;34m\u001B[0m\u001B[0;34m\u001B[0m\u001B[0m\n\u001B[0m\u001B[1;32m     12\u001B[0m     \u001B[0mdf_cur_image_embeddings\u001B[0m \u001B[0;34m=\u001B[0m \u001B[0mdf_image_embeddings\u001B[0m\u001B[0;34m[\u001B[0m\u001B[0mdf_image_embeddings\u001B[0m\u001B[0;34m[\u001B[0m\u001B[0;34m'article_id'\u001B[0m\u001B[0;34m]\u001B[0m\u001B[0;34m.\u001B[0m\u001B[0misin\u001B[0m\u001B[0;34m(\u001B[0m\u001B[0minview\u001B[0m\u001B[0;34m)\u001B[0m\u001B[0;34m]\u001B[0m\u001B[0;34m\u001B[0m\u001B[0;34m\u001B[0m\u001B[0m\n\u001B[1;32m     13\u001B[0m     \u001B[0;32mif\u001B[0m \u001B[0mlen\u001B[0m\u001B[0;34m(\u001B[0m\u001B[0mdf_user_likes\u001B[0m\u001B[0;34m)\u001B[0m \u001B[0;34m==\u001B[0m \u001B[0;36m0\u001B[0m \u001B[0;32mor\u001B[0m \u001B[0mlen\u001B[0m\u001B[0;34m(\u001B[0m\u001B[0mdf_cur_image_embeddings\u001B[0m\u001B[0;34m)\u001B[0m \u001B[0;34m==\u001B[0m \u001B[0;36m0\u001B[0m\u001B[0;34m:\u001B[0m\u001B[0;34m\u001B[0m\u001B[0;34m\u001B[0m\u001B[0m\n",
      "\u001B[0;32m~/projects/study-jupyter-templates/venv/lib/python3.9/site-packages/pandas/core/reshape/merge.py\u001B[0m in \u001B[0;36mmerge\u001B[0;34m(left, right, how, on, left_on, right_on, left_index, right_index, sort, suffixes, copy, indicator, validate)\u001B[0m\n\u001B[1;32m    182\u001B[0m             \u001B[0mvalidate\u001B[0m\u001B[0;34m=\u001B[0m\u001B[0mvalidate\u001B[0m\u001B[0;34m,\u001B[0m\u001B[0;34m\u001B[0m\u001B[0;34m\u001B[0m\u001B[0m\n\u001B[1;32m    183\u001B[0m         )\n\u001B[0;32m--> 184\u001B[0;31m         \u001B[0;32mreturn\u001B[0m \u001B[0mop\u001B[0m\u001B[0;34m.\u001B[0m\u001B[0mget_result\u001B[0m\u001B[0;34m(\u001B[0m\u001B[0mcopy\u001B[0m\u001B[0;34m=\u001B[0m\u001B[0mcopy\u001B[0m\u001B[0;34m)\u001B[0m\u001B[0;34m\u001B[0m\u001B[0;34m\u001B[0m\u001B[0m\n\u001B[0m\u001B[1;32m    185\u001B[0m \u001B[0;34m\u001B[0m\u001B[0m\n\u001B[1;32m    186\u001B[0m \u001B[0;34m\u001B[0m\u001B[0m\n",
      "\u001B[0;32m~/projects/study-jupyter-templates/venv/lib/python3.9/site-packages/pandas/core/reshape/merge.py\u001B[0m in \u001B[0;36mget_result\u001B[0;34m(self, copy)\u001B[0m\n\u001B[1;32m    884\u001B[0m             \u001B[0mself\u001B[0m\u001B[0;34m.\u001B[0m\u001B[0mleft\u001B[0m\u001B[0;34m,\u001B[0m \u001B[0mself\u001B[0m\u001B[0;34m.\u001B[0m\u001B[0mright\u001B[0m \u001B[0;34m=\u001B[0m \u001B[0mself\u001B[0m\u001B[0;34m.\u001B[0m\u001B[0m_indicator_pre_merge\u001B[0m\u001B[0;34m(\u001B[0m\u001B[0mself\u001B[0m\u001B[0;34m.\u001B[0m\u001B[0mleft\u001B[0m\u001B[0;34m,\u001B[0m \u001B[0mself\u001B[0m\u001B[0;34m.\u001B[0m\u001B[0mright\u001B[0m\u001B[0;34m)\u001B[0m\u001B[0;34m\u001B[0m\u001B[0;34m\u001B[0m\u001B[0m\n\u001B[1;32m    885\u001B[0m \u001B[0;34m\u001B[0m\u001B[0m\n\u001B[0;32m--> 886\u001B[0;31m         \u001B[0mjoin_index\u001B[0m\u001B[0;34m,\u001B[0m \u001B[0mleft_indexer\u001B[0m\u001B[0;34m,\u001B[0m \u001B[0mright_indexer\u001B[0m \u001B[0;34m=\u001B[0m \u001B[0mself\u001B[0m\u001B[0;34m.\u001B[0m\u001B[0m_get_join_info\u001B[0m\u001B[0;34m(\u001B[0m\u001B[0;34m)\u001B[0m\u001B[0;34m\u001B[0m\u001B[0;34m\u001B[0m\u001B[0m\n\u001B[0m\u001B[1;32m    887\u001B[0m \u001B[0;34m\u001B[0m\u001B[0m\n\u001B[1;32m    888\u001B[0m         result = self._reindex_and_concat(\n",
      "\u001B[0;32m~/projects/study-jupyter-templates/venv/lib/python3.9/site-packages/pandas/core/reshape/merge.py\u001B[0m in \u001B[0;36m_get_join_info\u001B[0;34m(self)\u001B[0m\n\u001B[1;32m   1149\u001B[0m             )\n\u001B[1;32m   1150\u001B[0m         \u001B[0;32melse\u001B[0m\u001B[0;34m:\u001B[0m\u001B[0;34m\u001B[0m\u001B[0;34m\u001B[0m\u001B[0m\n\u001B[0;32m-> 1151\u001B[0;31m             \u001B[0;34m(\u001B[0m\u001B[0mleft_indexer\u001B[0m\u001B[0;34m,\u001B[0m \u001B[0mright_indexer\u001B[0m\u001B[0;34m)\u001B[0m \u001B[0;34m=\u001B[0m \u001B[0mself\u001B[0m\u001B[0;34m.\u001B[0m\u001B[0m_get_join_indexers\u001B[0m\u001B[0;34m(\u001B[0m\u001B[0;34m)\u001B[0m\u001B[0;34m\u001B[0m\u001B[0;34m\u001B[0m\u001B[0m\n\u001B[0m\u001B[1;32m   1152\u001B[0m \u001B[0;34m\u001B[0m\u001B[0m\n\u001B[1;32m   1153\u001B[0m             \u001B[0;32mif\u001B[0m \u001B[0mself\u001B[0m\u001B[0;34m.\u001B[0m\u001B[0mright_index\u001B[0m\u001B[0;34m:\u001B[0m\u001B[0;34m\u001B[0m\u001B[0;34m\u001B[0m\u001B[0m\n",
      "\u001B[0;32m~/projects/study-jupyter-templates/venv/lib/python3.9/site-packages/pandas/core/reshape/merge.py\u001B[0m in \u001B[0;36m_get_join_indexers\u001B[0;34m(self)\u001B[0m\n\u001B[1;32m   1123\u001B[0m         \u001B[0;31m# make mypy happy\u001B[0m\u001B[0;34m\u001B[0m\u001B[0;34m\u001B[0m\u001B[0;34m\u001B[0m\u001B[0m\n\u001B[1;32m   1124\u001B[0m         \u001B[0;32massert\u001B[0m \u001B[0mself\u001B[0m\u001B[0;34m.\u001B[0m\u001B[0mhow\u001B[0m \u001B[0;34m!=\u001B[0m \u001B[0;34m\"asof\"\u001B[0m\u001B[0;34m\u001B[0m\u001B[0;34m\u001B[0m\u001B[0m\n\u001B[0;32m-> 1125\u001B[0;31m         return get_join_indexers(\n\u001B[0m\u001B[1;32m   1126\u001B[0m             \u001B[0mself\u001B[0m\u001B[0;34m.\u001B[0m\u001B[0mleft_join_keys\u001B[0m\u001B[0;34m,\u001B[0m \u001B[0mself\u001B[0m\u001B[0;34m.\u001B[0m\u001B[0mright_join_keys\u001B[0m\u001B[0;34m,\u001B[0m \u001B[0msort\u001B[0m\u001B[0;34m=\u001B[0m\u001B[0mself\u001B[0m\u001B[0;34m.\u001B[0m\u001B[0msort\u001B[0m\u001B[0;34m,\u001B[0m \u001B[0mhow\u001B[0m\u001B[0;34m=\u001B[0m\u001B[0mself\u001B[0m\u001B[0;34m.\u001B[0m\u001B[0mhow\u001B[0m\u001B[0;34m\u001B[0m\u001B[0;34m\u001B[0m\u001B[0m\n\u001B[1;32m   1127\u001B[0m         )\n",
      "\u001B[0;32m~/projects/study-jupyter-templates/venv/lib/python3.9/site-packages/pandas/core/reshape/merge.py\u001B[0m in \u001B[0;36mget_join_indexers\u001B[0;34m(left_keys, right_keys, sort, how)\u001B[0m\n\u001B[1;32m   1757\u001B[0m         \u001B[0m_\u001B[0m\u001B[0;34m,\u001B[0m \u001B[0mlidx\u001B[0m\u001B[0;34m,\u001B[0m \u001B[0mridx\u001B[0m \u001B[0;34m=\u001B[0m \u001B[0mleft\u001B[0m\u001B[0;34m.\u001B[0m\u001B[0mjoin\u001B[0m\u001B[0;34m(\u001B[0m\u001B[0mright\u001B[0m\u001B[0;34m,\u001B[0m \u001B[0mhow\u001B[0m\u001B[0;34m=\u001B[0m\u001B[0mhow\u001B[0m\u001B[0;34m,\u001B[0m \u001B[0mreturn_indexers\u001B[0m\u001B[0;34m=\u001B[0m\u001B[0;32mTrue\u001B[0m\u001B[0;34m,\u001B[0m \u001B[0msort\u001B[0m\u001B[0;34m=\u001B[0m\u001B[0msort\u001B[0m\u001B[0;34m)\u001B[0m\u001B[0;34m\u001B[0m\u001B[0;34m\u001B[0m\u001B[0m\n\u001B[1;32m   1758\u001B[0m     \u001B[0;32melse\u001B[0m\u001B[0;34m:\u001B[0m\u001B[0;34m\u001B[0m\u001B[0;34m\u001B[0m\u001B[0m\n\u001B[0;32m-> 1759\u001B[0;31m         lidx, ridx = get_join_indexers_non_unique(\n\u001B[0m\u001B[1;32m   1760\u001B[0m             \u001B[0mleft\u001B[0m\u001B[0;34m.\u001B[0m\u001B[0m_values\u001B[0m\u001B[0;34m,\u001B[0m \u001B[0mright\u001B[0m\u001B[0;34m.\u001B[0m\u001B[0m_values\u001B[0m\u001B[0;34m,\u001B[0m \u001B[0msort\u001B[0m\u001B[0;34m,\u001B[0m \u001B[0mhow\u001B[0m\u001B[0;34m\u001B[0m\u001B[0;34m\u001B[0m\u001B[0m\n\u001B[1;32m   1761\u001B[0m         )\n",
      "\u001B[0;32m~/projects/study-jupyter-templates/venv/lib/python3.9/site-packages/pandas/core/reshape/merge.py\u001B[0m in \u001B[0;36mget_join_indexers_non_unique\u001B[0;34m(left, right, sort, how)\u001B[0m\n\u001B[1;32m   1791\u001B[0m         \u001B[0mIndexer\u001B[0m \u001B[0minto\u001B[0m \u001B[0mright\u001B[0m\u001B[0;34m.\u001B[0m\u001B[0;34m\u001B[0m\u001B[0;34m\u001B[0m\u001B[0m\n\u001B[1;32m   1792\u001B[0m     \"\"\"\n\u001B[0;32m-> 1793\u001B[0;31m     \u001B[0mlkey\u001B[0m\u001B[0;34m,\u001B[0m \u001B[0mrkey\u001B[0m\u001B[0;34m,\u001B[0m \u001B[0mcount\u001B[0m \u001B[0;34m=\u001B[0m \u001B[0m_factorize_keys\u001B[0m\u001B[0;34m(\u001B[0m\u001B[0mleft\u001B[0m\u001B[0;34m,\u001B[0m \u001B[0mright\u001B[0m\u001B[0;34m,\u001B[0m \u001B[0msort\u001B[0m\u001B[0;34m=\u001B[0m\u001B[0msort\u001B[0m\u001B[0;34m)\u001B[0m\u001B[0;34m\u001B[0m\u001B[0;34m\u001B[0m\u001B[0m\n\u001B[0m\u001B[1;32m   1794\u001B[0m     \u001B[0;32mif\u001B[0m \u001B[0mhow\u001B[0m \u001B[0;34m==\u001B[0m \u001B[0;34m\"left\"\u001B[0m\u001B[0;34m:\u001B[0m\u001B[0;34m\u001B[0m\u001B[0;34m\u001B[0m\u001B[0m\n\u001B[1;32m   1795\u001B[0m         \u001B[0mlidx\u001B[0m\u001B[0;34m,\u001B[0m \u001B[0mridx\u001B[0m \u001B[0;34m=\u001B[0m \u001B[0mlibjoin\u001B[0m\u001B[0;34m.\u001B[0m\u001B[0mleft_outer_join\u001B[0m\u001B[0;34m(\u001B[0m\u001B[0mlkey\u001B[0m\u001B[0;34m,\u001B[0m \u001B[0mrkey\u001B[0m\u001B[0;34m,\u001B[0m \u001B[0mcount\u001B[0m\u001B[0;34m,\u001B[0m \u001B[0msort\u001B[0m\u001B[0;34m=\u001B[0m\u001B[0msort\u001B[0m\u001B[0;34m)\u001B[0m\u001B[0;34m\u001B[0m\u001B[0;34m\u001B[0m\u001B[0m\n",
      "\u001B[0;32m~/projects/study-jupyter-templates/venv/lib/python3.9/site-packages/pandas/core/reshape/merge.py\u001B[0m in \u001B[0;36m_factorize_keys\u001B[0;34m(lk, rk, sort)\u001B[0m\n\u001B[1;32m   2560\u001B[0m         \u001B[0;31m# ndarray[Any, dtype[object_]]]\"; expected \"ndarray[Any, dtype[object_]]\"\u001B[0m\u001B[0;34m\u001B[0m\u001B[0;34m\u001B[0m\u001B[0;34m\u001B[0m\u001B[0m\n\u001B[1;32m   2561\u001B[0m         \u001B[0mllab\u001B[0m \u001B[0;34m=\u001B[0m \u001B[0mrizer\u001B[0m\u001B[0;34m.\u001B[0m\u001B[0mfactorize\u001B[0m\u001B[0;34m(\u001B[0m\u001B[0mlk\u001B[0m\u001B[0;34m)\u001B[0m  \u001B[0;31m# type: ignore[arg-type]\u001B[0m\u001B[0;34m\u001B[0m\u001B[0;34m\u001B[0m\u001B[0m\n\u001B[0;32m-> 2562\u001B[0;31m         \u001B[0mrlab\u001B[0m \u001B[0;34m=\u001B[0m \u001B[0mrizer\u001B[0m\u001B[0;34m.\u001B[0m\u001B[0mfactorize\u001B[0m\u001B[0;34m(\u001B[0m\u001B[0mrk\u001B[0m\u001B[0;34m)\u001B[0m  \u001B[0;31m# type: ignore[arg-type]\u001B[0m\u001B[0;34m\u001B[0m\u001B[0;34m\u001B[0m\u001B[0m\n\u001B[0m\u001B[1;32m   2563\u001B[0m     \u001B[0;32massert\u001B[0m \u001B[0mllab\u001B[0m\u001B[0;34m.\u001B[0m\u001B[0mdtype\u001B[0m \u001B[0;34m==\u001B[0m \u001B[0mnp\u001B[0m\u001B[0;34m.\u001B[0m\u001B[0mdtype\u001B[0m\u001B[0;34m(\u001B[0m\u001B[0mnp\u001B[0m\u001B[0;34m.\u001B[0m\u001B[0mintp\u001B[0m\u001B[0;34m)\u001B[0m\u001B[0;34m,\u001B[0m \u001B[0mllab\u001B[0m\u001B[0;34m.\u001B[0m\u001B[0mdtype\u001B[0m\u001B[0;34m\u001B[0m\u001B[0;34m\u001B[0m\u001B[0m\n\u001B[1;32m   2564\u001B[0m     \u001B[0;32massert\u001B[0m \u001B[0mrlab\u001B[0m\u001B[0;34m.\u001B[0m\u001B[0mdtype\u001B[0m \u001B[0;34m==\u001B[0m \u001B[0mnp\u001B[0m\u001B[0;34m.\u001B[0m\u001B[0mdtype\u001B[0m\u001B[0;34m(\u001B[0m\u001B[0mnp\u001B[0m\u001B[0;34m.\u001B[0m\u001B[0mintp\u001B[0m\u001B[0;34m)\u001B[0m\u001B[0;34m,\u001B[0m \u001B[0mrlab\u001B[0m\u001B[0;34m.\u001B[0m\u001B[0mdtype\u001B[0m\u001B[0;34m\u001B[0m\u001B[0;34m\u001B[0m\u001B[0m\n",
      "\u001B[0;31mKeyboardInterrupt\u001B[0m: "
     ]
    }
   ],
   "source": [
    "guessed_right = 0\n",
    "guessed_wrong = 0\n",
    "nothing_predicted_but_right = 0\n",
    "nothing_predicted_but_wrong = 0\n",
    "all_embeddings = np.vstack(df_image_embeddings['image_embedding'].values)\n",
    "for i, row in tqdm(df_val.iterrows()):\n",
    "    user = row[\"user_id\"]\n",
    "    inview = row[\"article_ids_inview\"]\n",
    "    actuals = row[\"article_ids_clicked\"]\n",
    "    df_user_filtered = df_exploded[df_exploded['user_id'] == user]\n",
    "    df_user_likes = pd.merge(df_user_filtered, df_image_embeddings, on='article_id')\n",
    "    df_cur_image_embeddings = df_image_embeddings[df_image_embeddings['article_id'].isin(inview)]\n",
    "    if len(df_user_likes) == 0 or len(df_cur_image_embeddings) == 0:\n",
    "        if random.choice(inview) in actuals:\n",
    "            nothing_predicted_but_right += 1\n",
    "        else:\n",
    "            nothing_predicted_but_wrong += 1\n",
    "    else:\n",
    "        weighted_embeddings = np.vstack(df_user_likes['image_embedding'].values) * df_user_likes['rating'].values[:, np.newaxis]\n",
    "        user_preference_embedding = np.mean(weighted_embeddings, axis=0)\n",
    "        curr_all_embedings = np.vstack(df_cur_image_embeddings['image_embedding'].values)\n",
    "        similarity_scores = cosine_similarity([user_preference_embedding], curr_all_embedings)[0]\n",
    "        df_cur_image_embeddingsc = df_cur_image_embeddings[['article_id', 'image_embedding']].copy()\n",
    "        df_cur_image_embeddingsc.loc[:, 'similarity_score'] = similarity_scores\n",
    "        df_recommendations = df_cur_image_embeddingsc[~df_cur_image_embeddingsc['article_id'].isin(df_user_filtered['article_id'])]\n",
    "\n",
    "        # Sort by similarity score\n",
    "        df_recommendations = df_recommendations.sort_values(by='similarity_score', ascending=False)\n",
    "        df_remaining = df_recommendations[df_recommendations['article_id'].isin(inview)]\n",
    "        if len(df_remaining) > 0 and df_remaining.iloc[0]['article_id'] in actuals:\n",
    "            guessed_right += 1\n",
    "        elif len(df_remaining) > 0:\n",
    "            guessed_wrong += 1\n",
    "        else:\n",
    "            if random.choice(inview) in actuals:\n",
    "                nothing_predicted_but_right += 1\n",
    "            else:\n",
    "                nothing_predicted_but_wrong += 1\n",
    "    if i % 20000 == 19999:\n",
    "        print(f\"Right 100%: {guessed_right}, by luck {nothing_predicted_but_right}, overall: {guessed_right + nothing_predicted_but_right}\")\n",
    "        print(f\"Wrong 100%: {guessed_wrong}, by luck {nothing_predicted_but_wrong}, overall: {guessed_wrong + nothing_predicted_but_wrong}\")\n",
    "        print(f\"Nothing predicted: {nothing_predicted_but_right + nothing_predicted_but_wrong}\")\n",
    "        print(f\"The answer: {(guessed_right + nothing_predicted_but_right) / (nothing_predicted_but_right + nothing_predicted_but_wrong + guessed_right + guessed_wrong)}\")\n",
    "\n",
    "print(f\"Right 100%: {guessed_right}, by luck {nothing_predicted_but_right}, overall: {guessed_right + nothing_predicted_but_right}\")\n",
    "print(f\"Wrong 100%: {guessed_wrong}, by luck {nothing_predicted_but_wrong}, overall: {guessed_wrong + nothing_predicted_but_wrong}\")\n",
    "print(f\"Nothing predicted: {nothing_predicted_but_right + nothing_predicted_but_wrong}\")\n",
    "print(f\"The answer: {(guessed_right + nothing_predicted_but_right) / (nothing_predicted_but_right + nothing_predicted_but_wrong + guessed_right + guessed_wrong)}\")"
   ],
   "metadata": {
    "collapsed": false,
    "pycharm": {
     "name": "#%%\n",
     "is_executing": true
    }
   }
  },
  {
   "cell_type": "code",
   "execution_count": null,
   "outputs": [],
   "source": [],
   "metadata": {
    "collapsed": false,
    "pycharm": {
     "name": "#%%\n"
    }
   }
  },
  {
   "cell_type": "code",
   "execution_count": null,
   "outputs": [],
   "source": [],
   "metadata": {
    "collapsed": false,
    "pycharm": {
     "name": "#%%\n"
    }
   }
  }
 ],
 "metadata": {
  "kernelspec": {
   "display_name": "Python 3",
   "language": "python",
   "name": "python3"
  },
  "language_info": {
   "codemirror_mode": {
    "name": "ipython",
    "version": 2
   },
   "file_extension": ".py",
   "mimetype": "text/x-python",
   "name": "python",
   "nbconvert_exporter": "python",
   "pygments_lexer": "ipython2",
   "version": "2.7.6"
  }
 },
 "nbformat": 4,
 "nbformat_minor": 0
}